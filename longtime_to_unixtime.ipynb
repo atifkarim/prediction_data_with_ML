{
 "cells": [
  {
   "cell_type": "code",
   "execution_count": 1,
   "metadata": {},
   "outputs": [],
   "source": [
    "import pandas as pd\n",
    "import numpy as np"
   ]
  },
  {
   "cell_type": "code",
   "execution_count": 2,
   "metadata": {},
   "outputs": [],
   "source": [
    "# test= pd.read_csv('E:/University of Bremen MSc/masters_thesis/IAT_sebastian/dataset_10_april_10000.csv')\n",
    "test= pd.read_csv('E:/University of Bremen MSc/masters_thesis/IAT_sebastian/IAT_csv_10000.csv')\n",
    "# test=pd.read_csv('E:/University of Bremen MSc/masters_thesis/IAT_sebastian/Abhijit laha/Abhijit Laha - whole data.csv')\n",
    "# test=pd.read_csv('/home/atif/IAT_new_dataset_10000.csv')"
   ]
  },
  {
   "cell_type": "code",
   "execution_count": 3,
   "metadata": {},
   "outputs": [
    {
     "name": "stdout",
     "output_type": "stream",
     "text": [
      "<class 'pandas.core.frame.DataFrame'>\n",
      "RangeIndex: 50000 entries, 0 to 49999\n",
      "Columns: 4191 entries, row ID to RWWIHOSUMAV0\n",
      "dtypes: float64(4189), int64(1), object(1)\n",
      "memory usage: 1.6+ GB\n"
     ]
    }
   ],
   "source": [
    "test.info()\n",
    "# test.loc[:]"
   ]
  },
  {
   "cell_type": "markdown",
   "metadata": {},
   "source": [
    "# taking longtime to convert to unixtime"
   ]
  },
  {
   "cell_type": "code",
   "execution_count": 5,
   "metadata": {},
   "outputs": [
    {
     "name": "stdout",
     "output_type": "stream",
     "text": [
      "1001\n"
     ]
    },
    {
     "name": "stderr",
     "output_type": "stream",
     "text": [
      "C:\\Users\\atif\\Anaconda3\\lib\\site-packages\\ipykernel_launcher.py:5: FutureWarning: Method .as_matrix will be removed in a future version. Use .values instead.\n",
      "  \"\"\"\n"
     ]
    }
   ],
   "source": [
    "import time\n",
    "import datetime\n",
    "\n",
    "longTime=test.loc[0:1000,['longTime']]\n",
    "longTime=longTime.as_matrix()\n",
    "# print(type(longTime))\n",
    "a=[]\n",
    "date_time_array=[]\n",
    "for k in longTime:\n",
    "    a=np.append(a,k)\n",
    "\n",
    "# print(a[0:])\n",
    "# print(a[-2:])\n",
    "count=0\n",
    "for b in a:\n",
    "    b=int(b) # make plain integer\n",
    "    str_b=str(b)\n",
    "    c=str_b[-3:]\n",
    "    new_str_b=str_b.replace(c, '',1)\n",
    "#     print(str_b)\n",
    "#     print(\"hi: \",c)\n",
    "#     print(count,\"==\",new_str_b)\n",
    "    new_str_b_time=int(new_str_b)\n",
    "    \n",
    "    now_time=datetime.datetime.fromtimestamp(new_str_b_time)\n",
    "    convert_time=now_time.strftime('%Y-%m-%d %H:%M:%S')\n",
    "    \n",
    "#     print('count_num: ',count,' unix_time: ',convert_time)\n",
    "    date_time_obj = datetime.datetime.strptime(convert_time, '%Y-%m-%d %H:%M:%S')\n",
    "    date_time_array=np.append(date_time_array,date_time_obj)\n",
    "#     print('count_num: ',count,' convert_time: ',convert_time,\" date_time_obj: \",date_time_obj,\" str_time\",new_str_b_time)\n",
    "    count+=1\n",
    "\n",
    "print(date_time_array.size)\n",
    "# for q in date_time_array[::-1]:\n",
    "# #     q=q.split(\" \")\n",
    "# #     split_q=np.append(split_q,q)\n",
    "#     print(\"count: \",count,\" date: \",q.date(),\" time: \",q.time())\n",
    "#     count+=1\n",
    "# #     print(type(q))"
   ]
  },
  {
   "cell_type": "code",
   "execution_count": null,
   "metadata": {},
   "outputs": [],
   "source": [
    "#from 1st fig. signal 1\n",
    "value_1=test.loc[0:20,['AEKGTZKK1_V0']]\n",
    "value_1=value_1.as_matrix()\n",
    "# print(value_1)"
   ]
  },
  {
   "cell_type": "code",
   "execution_count": 17,
   "metadata": {},
   "outputs": [
    {
     "name": "stdout",
     "output_type": "stream",
     "text": [
      "<class 'numpy.ndarray'>\n",
      "[1.55508658e+09 1.55508663e+09 1.55508668e+09 1.55508673e+09\n",
      " 1.55508679e+09 1.55508684e+09 1.55508689e+09 1.55508695e+09\n",
      " 1.55508700e+09 1.55508705e+09 1.55508710e+09 1.55508716e+09\n",
      " 1.55508721e+09 1.55508726e+09 1.55508731e+09 1.55508737e+09\n",
      " 1.55508742e+09 1.55508747e+09 1.55508752e+09 1.55508758e+09]\n",
      "<class 'list'>\n",
      "[datetime.datetime(2019, 4, 12, 18, 29, 37), datetime.datetime(2019, 4, 12, 18, 30, 29, 631579), datetime.datetime(2019, 4, 12, 18, 31, 22, 263158), datetime.datetime(2019, 4, 12, 18, 32, 14, 894737), datetime.datetime(2019, 4, 12, 18, 33, 7, 526316), datetime.datetime(2019, 4, 12, 18, 34, 0, 157895), datetime.datetime(2019, 4, 12, 18, 34, 52, 789474), datetime.datetime(2019, 4, 12, 18, 35, 45, 421053), datetime.datetime(2019, 4, 12, 18, 36, 38, 52632), datetime.datetime(2019, 4, 12, 18, 37, 30, 684211), datetime.datetime(2019, 4, 12, 18, 38, 23, 315789), datetime.datetime(2019, 4, 12, 18, 39, 15, 947368), datetime.datetime(2019, 4, 12, 18, 40, 8, 578947), datetime.datetime(2019, 4, 12, 18, 41, 1, 210526), datetime.datetime(2019, 4, 12, 18, 41, 53, 842105), datetime.datetime(2019, 4, 12, 18, 42, 46, 473684), datetime.datetime(2019, 4, 12, 18, 43, 39, 105263), datetime.datetime(2019, 4, 12, 18, 44, 31, 736842), datetime.datetime(2019, 4, 12, 18, 45, 24, 368421), datetime.datetime(2019, 4, 12, 18, 46, 17)]\n",
      "<class 'numpy.ndarray'>\n",
      "[737161.77056713 737161.77117629 737161.77178545 737161.77239461\n",
      " 737161.77300378 737161.77361294 737161.7742221  737161.77483126\n",
      " 737161.77544042 737161.77604959 737161.77665875 737161.77726791\n",
      " 737161.77787707 737161.77848623 737161.77909539 737161.77970456\n",
      " 737161.78031372 737161.78092288 737161.78153204 737161.7821412 ]\n"
     ]
    },
    {
     "data": {
      "image/png": "[encoded data removed]",
      "text/plain": [
       "<Figure size 432x288 with 1 Axes>"
      ]
     },
     "metadata": {},
     "output_type": "display_data"
    }
   ],
   "source": [
    "import matplotlib.pyplot as plt\n",
    "import matplotlib.dates as md\n",
    "import numpy as np\n",
    "import datetime as dt\n",
    "import time\n",
    "%matplotlib inline\n",
    "\n",
    "n=20 #20 times it will add duration with the local time\n",
    "duration=1000\n",
    "now=time.mktime(time.localtime()) #make timestamp\n",
    "# print(now)\n",
    "timestamps=np.linspace(now,now+duration,n)\n",
    "print(type(timestamps))\n",
    "print(timestamps)\n",
    "dates=[dt.datetime.fromtimestamp(ts) for ts in timestamps]\n",
    "print(type(dates))\n",
    "print(dates)\n",
    "datenums=md.date2num(dates)\n",
    "print(type(datenums))\n",
    "print(datenums)\n",
    "\n",
    "values=[]\n",
    "for i in range (1,21,1):\n",
    "    if i<10:\n",
    "        i=i*i\n",
    "    else:\n",
    "        i=i+10\n",
    "#     print(i)\n",
    "    values=np.append(values,i)\n",
    "    \n",
    "# print(values)    \n",
    "\n",
    "\n",
    "# values=np.sin((timestamps-now)/duration*2*np.pi)\n",
    "plt.subplots_adjust(bottom=0.2)\n",
    "plt.xticks( rotation=25 )\n",
    "ax=plt.gca()\n",
    "xfmt = md.DateFormatter('%Y-%m-%d %H:%M:%S')\n",
    "ax.xaxis.set_major_formatter(xfmt)\n",
    "plt.plot(datenums,values)\n",
    "plt.show()"
   ]
  },
  {
   "cell_type": "markdown",
   "metadata": {},
   "source": [
    "# making value of 'longtime' column ready to plot in the graph"
   ]
  },
  {
   "cell_type": "code",
   "execution_count": 28,
   "metadata": {},
   "outputs": [
    {
     "name": "stderr",
     "output_type": "stream",
     "text": [
      "C:\\Users\\atif\\Anaconda3\\lib\\site-packages\\ipykernel_launcher.py:12: FutureWarning: Method .as_matrix will be removed in a future version. Use .values instead.\n",
      "  if sys.path[0] == '':\n"
     ]
    },
    {
     "name": "stdout",
     "output_type": "stream",
     "text": [
      "<class 'numpy.ndarray'>\n",
      "<class 'list'>\n",
      "<class 'numpy.ndarray'>\n"
     ]
    },
    {
     "data": {
      "image/png": "[encoded data removed]",
      "text/plain": [
       "<Figure size 432x288 with 1 Axes>"
      ]
     },
     "metadata": {},
     "output_type": "display_data"
    }
   ],
   "source": [
    "import time\n",
    "import datetime\n",
    "\n",
    "import matplotlib.pyplot as plt\n",
    "import matplotlib.dates as md\n",
    "import numpy as np\n",
    "import datetime as dt\n",
    "import time\n",
    "%matplotlib inline\n",
    "\n",
    "longTime=test.loc[0:1000,['longTime']]\n",
    "longTime=longTime.as_matrix()\n",
    "# print(type(longTime))\n",
    "a=[]\n",
    "date_time_array=[]\n",
    "for k in longTime:\n",
    "    a=np.append(a,k)\n",
    "\n",
    "# print(a[0:])\n",
    "# print(a[-2:])\n",
    "timestamp_array=[]\n",
    "count=0\n",
    "for b in a:\n",
    "    b=int(b) # make plain integer\n",
    "    str_b=str(b)\n",
    "    c=str_b[-3:]\n",
    "    new_str_b=str_b.replace(c, '',1)\n",
    "    new_str_b_time=int(new_str_b)\n",
    "    timestamp_array=np.append(timestamp_array,new_str_b_time)\n",
    "print(type(timestamp_array))\n",
    "\n",
    "date_list=[dt.datetime.fromtimestamp(ts) for ts in timestamp_array]\n",
    "print(type(date_list))\n",
    "datenums_array=md.date2num(date_list)\n",
    "print(type(datenums_array))\n",
    "\n",
    "g=[]\n",
    "for i in range (0,1001,1):\n",
    "    if i<=500:\n",
    "        i=i*i\n",
    "    else:\n",
    "        i=i+10\n",
    "#     print(i)\n",
    "    g=np.append(g,i)\n",
    "\n",
    "\n",
    "plt.subplots_adjust(bottom=0.2)\n",
    "plt.xticks( rotation=25 )\n",
    "ax=plt.gca()\n",
    "xfmt = md.DateFormatter('%Y-%m-%d %H:%M:%S')\n",
    "ax.xaxis.set_major_formatter(xfmt)\n",
    "plt.plot(datenums_array,g)\n",
    "plt.show()\n",
    "    \n",
    "#     now_time=datetime.datetime.fromtimestamp(new_str_b_time)\n",
    "#     convert_time=now_time.strftime('%Y-%m-%d %H:%M:%S')\n",
    "    \n",
    "# #     print('count_num: ',count,' unix_time: ',convert_time)\n",
    "#     date_time_obj = datetime.datetime.strptime(convert_time, '%Y-%m-%d %H:%M:%S')\n",
    "#     date_time_array=np.append(date_time_array,date_time_obj)\n",
    "# #     print('count_num: ',count,' convert_time: ',convert_time,\" date_time_obj: \",date_time_obj,\" str_time\",new_str_b_time)\n",
    "#     count+=1\n",
    "\n",
    "# print(date_time_array.size)\n",
    "# # for q in date_time_array[::-1]:\n",
    "# # #     q=q.split(\" \")\n",
    "# # #     split_q=np.append(split_q,q)\n",
    "# #     print(\"count: \",count,\" date: \",q.date(),\" time: \",q.time())\n",
    "# #     count+=1\n",
    "# # #     print(type(q))"
   ]
  },
  {
   "cell_type": "code",
   "execution_count": 9,
   "metadata": {},
   "outputs": [
    {
     "name": "stdout",
     "output_type": "stream",
     "text": [
      "1001\n",
      "1001\n"
     ]
    }
   ],
   "source": [
    "g=[]\n",
    "for i in range (0,1001,1):\n",
    "    if i<10:\n",
    "        i=i*i\n",
    "    else:\n",
    "        i=i+10\n",
    "#     print(i)\n",
    "    g=np.append(g,i)\n",
    "print(g.size)\n",
    "print(date_time_array.size)"
   ]
  },
  {
   "cell_type": "code",
   "execution_count": null,
   "metadata": {},
   "outputs": [],
   "source": []
  }
 ],
 "metadata": {
  "kernelspec": {
   "display_name": "Python 3",
   "language": "python",
   "name": "python3"
  },
  "language_info": {
   "codemirror_mode": {
    "name": "ipython",
    "version": 3
   },
   "file_extension": ".py",
   "mimetype": "text/x-python",
   "name": "python",
   "nbconvert_exporter": "python",
   "pygments_lexer": "ipython3",
   "version": "3.6.5"
  }
 },
 "nbformat": 4,
 "nbformat_minor": 2
}
