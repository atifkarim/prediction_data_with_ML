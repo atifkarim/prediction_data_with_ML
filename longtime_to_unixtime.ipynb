{
 "cells": [
  {
   "cell_type": "code",
   "execution_count": 1,
   "metadata": {},
   "outputs": [],
   "source": [
    "import pandas as pd\n",
    "import numpy as np"
   ]
  },
  {
   "cell_type": "code",
   "execution_count": 2,
   "metadata": {},
   "outputs": [],
   "source": [
    "# test= pd.read_csv('E:/University of Bremen MSc/masters_thesis/IAT_sebastian/dataset_10_april_10000.csv')\n",
    "test= pd.read_csv('E:/University of Bremen MSc/masters_thesis/IAT_sebastian/IAT_csv_10000.csv')\n",
    "# test=pd.read_csv('E:/University of Bremen MSc/masters_thesis/IAT_sebastian/Abhijit laha/Abhijit Laha - whole data.csv')\n",
    "# test=pd.read_csv('/home/atif/IAT_new_dataset_10000.csv')"
   ]
  },
  {
   "cell_type": "code",
   "execution_count": null,
   "metadata": {},
   "outputs": [],
   "source": [
    "test.info()\n",
    "# test.loc[:]"
   ]
  },
  {
   "cell_type": "markdown",
   "metadata": {},
   "source": [
    "# taking longtime to convert to unixtime"
   ]
  },
  {
   "cell_type": "code",
   "execution_count": 46,
   "metadata": {},
   "outputs": [
    {
     "name": "stderr",
     "output_type": "stream",
     "text": [
      "C:\\Users\\atif\\Anaconda3\\lib\\site-packages\\ipykernel_launcher.py:5: FutureWarning: Method .as_matrix will be removed in a future version. Use .values instead.\n",
      "  \"\"\"\n"
     ]
    }
   ],
   "source": [
    "import time\n",
    "import datetime\n",
    "\n",
    "longTime=test.loc[10000:20000:100,['longTime']]\n",
    "longTime=longTime.as_matrix()\n",
    "# print(type(longTime))\n",
    "a=[]\n",
    "date_time_array=[]\n",
    "for k in longTime:\n",
    "    a=np.append(a,k)\n",
    "\n",
    "# print(a[0:])\n",
    "# print(a[-2:])\n",
    "count=0\n",
    "for b in a[::-1]:\n",
    "    b=int(b) # make plain integer\n",
    "    str_b=str(b)\n",
    "    c=str_b[-3:]\n",
    "    new_str_b=str_b.replace(c, '',1)\n",
    "    new_str_b_time=int(new_str_b)\n",
    "    \n",
    "    now_time=datetime.datetime.fromtimestamp(new_str_b_time)\n",
    "    convert_time=now_time.strftime('%Y-%m-%d %H:%M:%S')\n",
    "    \n",
    "#     print('count_num: ',count,' unix_time: ',convert_time)\n",
    "    date_time_obj = datetime.datetime.strptime(convert_time, '%Y-%m-%d %H:%M:%S')\n",
    "    date_time_array=np.append(date_time_array,date_time_obj)\n",
    "#     print('count_num: ',count,' convert_time: ',convert_time,\" date_time_obj: \",date_time_obj,\" str_time\",new_str_b_time)\n",
    "    count+=1\n",
    "\n",
    "# print(date_time_array.size)\n",
    "# for q in date_time_array[::-1]:\n",
    "# #     q=q.split(\" \")\n",
    "# #     split_q=np.append(split_q,q)\n",
    "#     print(\"count: \",count,\" date: \",q.date(),\" time: \",q.time())\n",
    "#     count+=1\n",
    "# #     print(type(q))"
   ]
  },
  {
   "cell_type": "code",
   "execution_count": 15,
   "metadata": {},
   "outputs": [
    {
     "name": "stdout",
     "output_type": "stream",
     "text": [
      "[[98.56874716]\n",
      " [98.47037936]\n",
      " [99.03459444]\n",
      " [97.72278821]\n",
      " [ 0.        ]]\n",
      "[[ 0.        ]\n",
      " [97.72278821]\n",
      " [99.03459444]\n",
      " [98.47037936]\n",
      " [98.56874716]]\n"
     ]
    },
    {
     "name": "stderr",
     "output_type": "stream",
     "text": [
      "C:\\Users\\atif\\Anaconda3\\lib\\site-packages\\ipykernel_launcher.py:3: FutureWarning: Method .as_matrix will be removed in a future version. Use .values instead.\n",
      "  This is separate from the ipykernel package so we can avoid doing imports until\n"
     ]
    }
   ],
   "source": [
    "#from 1st fig. signal 1\n",
    "value_1=test.loc[0:20:5,['AEKGTZKK1_V0']]\n",
    "value_1=value_1.as_matrix()\n",
    "print(value_1)\n",
    "\n",
    "b=value_1[::-1]\n",
    "# print(b)"
   ]
  },
  {
   "cell_type": "code",
   "execution_count": 64,
   "metadata": {},
   "outputs": [
    {
     "data": {
      "image/png": "[encoded data removed]",
      "text/plain": [
       "<Figure size 432x288 with 1 Axes>"
      ]
     },
     "metadata": {},
     "output_type": "display_data"
    }
   ],
   "source": [
    "#taken from stackoverflow\n",
    "\n",
    "import matplotlib.pyplot as plt\n",
    "import matplotlib.dates as md\n",
    "import numpy as np\n",
    "import datetime as dt\n",
    "import time\n",
    "%matplotlib inline\n",
    "\n",
    "n=20 #20 times it will add duration with the local time\n",
    "duration=1000\n",
    "now=time.mktime(time.localtime()) #make timestamp\n",
    "# print(now)\n",
    "timestamps=np.linspace(now,now+duration,n)\n",
    "\n",
    "for i in timestamps:\n",
    "#     print(i)\n",
    "    i_i=datetime.datetime.fromtimestamp(i)\n",
    "    convert_time=i_i.strftime('%Y-%m-%d %H:%M:%S')\n",
    "#     print(convert_time)\n",
    "#     print('count_num: ',count,' unix_time: ',convert_time)\n",
    "    date_time_obj = datetime.datetime.strptime(convert_time, '%Y-%m-%d %H:%M:%S')\n",
    "#     date_time_array=np.append(date_time_array,date_time_obj)\n",
    "#     print(date_time_obj)\n",
    "#     print('\\n')\n",
    "\n",
    "\n",
    "# print(type(timestamps))\n",
    "# print(timestamps)\n",
    "dates=[dt.datetime.fromtimestamp(ts) for ts in timestamps]\n",
    "# for t in dates:\n",
    "#     print(t)\n",
    "# print(type(dates))\n",
    "# print(dates)\n",
    "\n",
    "datenums=md.date2num(dates)\n",
    "# for e in datenums:\n",
    "#     print(e)\n",
    "# print(type(datenums))\n",
    "# print(datenums)\n",
    "\n",
    "values=[]\n",
    "for i in range (1,21,1):\n",
    "    if i<10:\n",
    "        i=i*i\n",
    "    else:\n",
    "        i=i+10\n",
    "#     print(i)\n",
    "    values=np.append(values,i)\n",
    "    \n",
    "# print(values)   \n",
    "\n",
    "\n",
    "# values=np.sin((timestamps-now)/duration*2*np.pi)\n",
    "plt.subplots_adjust(bottom=0.2)\n",
    "plt.xticks( rotation=25 )\n",
    "ax=plt.gca()\n",
    "xfmt = md.DateFormatter('%Y-%m-%d %H:%M:%S')\n",
    "ax.xaxis.set_major_formatter(xfmt)\n",
    "plt.plot(datenums,values)\n",
    "plt.show()"
   ]
  },
  {
   "cell_type": "markdown",
   "metadata": {},
   "source": [
    "# making value of 'longtime' column ready to plot in the graph"
   ]
  },
  {
   "cell_type": "code",
   "execution_count": 102,
   "metadata": {},
   "outputs": [
    {
     "name": "stdout",
     "output_type": "stream",
     "text": [
      "41\n"
     ]
    },
    {
     "name": "stderr",
     "output_type": "stream",
     "text": [
      "C:\\Users\\atif\\Anaconda3\\lib\\site-packages\\ipykernel_launcher.py:12: FutureWarning: Method .as_matrix will be removed in a future version. Use .values instead.\n",
      "  if sys.path[0] == '':\n",
      "C:\\Users\\atif\\Anaconda3\\lib\\site-packages\\ipykernel_launcher.py:41: FutureWarning: Method .as_matrix will be removed in a future version. Use .values instead.\n"
     ]
    },
    {
     "data": {
      "image/png": "[encoded data removed]",
      "text/plain": [
       "<Figure size 432x288 with 1 Axes>"
      ]
     },
     "metadata": {},
     "output_type": "display_data"
    }
   ],
   "source": [
    "# import time\n",
    "import datetime\n",
    "\n",
    "import matplotlib.pyplot as plt\n",
    "import matplotlib.dates as md\n",
    "import numpy as np\n",
    "import datetime as dt\n",
    "import time\n",
    "%matplotlib inline\n",
    "\n",
    "longTime=test.loc[10:50,['longTime']]\n",
    "longTime=longTime.as_matrix()\n",
    "print(longTime.size)\n",
    "a=[]\n",
    "date_time_array=[]\n",
    "for k in longTime:\n",
    "    a=np.append(a,k)\n",
    "\n",
    "timestamp_array=[]\n",
    "count=0\n",
    "for b in a[::-1]:\n",
    "    b=int(b) # make plain integer\n",
    "    str_b=str(b)\n",
    "    c=str_b[-3:]\n",
    "    new_str_b=str_b.replace(c, '',1)\n",
    "    new_str_b_time=int(new_str_b)\n",
    "    timestamp_array=np.append(timestamp_array,new_str_b_time)\n",
    "# print(timestamp_array)\n",
    "\n",
    "date_list=[dt.datetime.fromtimestamp(ts) for ts in timestamp_array]\n",
    "# for r in date_list:\n",
    "#     print(r)\n",
    "# print(type(date_list))\n",
    "\n",
    "datenums_array=md.date2num(date_list)\n",
    "# for w in datenums_array:\n",
    "#     print(w)\n",
    "# print(type(datenums_array))\n",
    "\n",
    "value_1=test.loc[10:50,['AEKGTZKK1_V0']]\n",
    "value_1=value_1.as_matrix()\n",
    "# print(value_1)\n",
    "value_1_reverse=value_1[::-1]\n",
    "# print(value_1_reverse)\n",
    "\n",
    "plt.subplots_adjust(bottom=.2)\n",
    "plt.xticks( rotation=90)\n",
    "ax=plt.gca()\n",
    "xfmt = md.DateFormatter('%Y-%m-%d %H:%M:%S')\n",
    "ax.xaxis.set_major_formatter(xfmt)\n",
    "plt.plot(datenums_array,value_1_reverse) #you can give here datenums_array\n",
    "plt.show()"
   ]
  },
  {
   "cell_type": "code",
   "execution_count": 71,
   "metadata": {},
   "outputs": [],
   "source": [
    "#not so important. just plotting\n",
    "\n",
    "# value_1_csv=test.loc[0:50000,['AEKGTZKK1_V0']]\n",
    "# value_1_csv=value_1_csv.as_matrix()\n",
    "# # print(value_1_csv)\n",
    "# value_1_reverse=value_1_csv[::-1]\n",
    "# print(value_1_csv.size)\n",
    "\n",
    "# g=[]\n",
    "# for i in range (0,50000,1):\n",
    "#     if i<10:\n",
    "#         i=i*i\n",
    "#     else:\n",
    "#         i=i+10\n",
    "# #     print(i)\n",
    "#     g=np.append(g,i)\n",
    "# print(g.size)\n",
    "\n",
    "# plt.plot(g,value_1_reverse)\n",
    "# # plt.xticks(np.arange(min(x), max(x)+5, 100000000))\n",
    "# plt.show()\n",
    "# # print(date_time_array.size)"
   ]
  },
  {
   "cell_type": "code",
   "execution_count": null,
   "metadata": {},
   "outputs": [],
   "source": []
  }
 ],
 "metadata": {
  "kernelspec": {
   "display_name": "Python 3",
   "language": "python",
   "name": "python3"
  },
  "language_info": {
   "codemirror_mode": {
    "name": "ipython",
    "version": 3
   },
   "file_extension": ".py",
   "mimetype": "text/x-python",
   "name": "python",
   "nbconvert_exporter": "python",
   "pygments_lexer": "ipython3",
   "version": "3.6.5"
  }
 },
 "nbformat": 4,
 "nbformat_minor": 2
}
