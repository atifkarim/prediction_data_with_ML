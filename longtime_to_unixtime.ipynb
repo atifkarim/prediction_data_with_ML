{
 "cells": [
  {
   "cell_type": "code",
   "execution_count": 1,
   "metadata": {},
   "outputs": [],
   "source": [
    "import pandas as pd\n",
    "import numpy as np"
   ]
  },
  {
   "cell_type": "code",
   "execution_count": 2,
   "metadata": {},
   "outputs": [],
   "source": [
    "# test= pd.read_csv('E:/University of Bremen MSc/masters_thesis/IAT_sebastian/dataset_10_april_10000.csv')\n",
    "test= pd.read_csv('E:/University of Bremen MSc/masters_thesis/IAT_sebastian/IAT_csv_10000.csv')\n",
    "# test=pd.read_csv('E:/University of Bremen MSc/masters_thesis/IAT_sebastian/Abhijit laha/Abhijit Laha - whole data.csv')\n",
    "# test=pd.read_csv('/home/atif/IAT_new_dataset_10000.csv')"
   ]
  },
  {
   "cell_type": "code",
   "execution_count": 3,
   "metadata": {},
   "outputs": [
    {
     "name": "stdout",
     "output_type": "stream",
     "text": [
      "<class 'pandas.core.frame.DataFrame'>\n",
      "RangeIndex: 50000 entries, 0 to 49999\n",
      "Columns: 4191 entries, row ID to RWWIHOSUMAV0\n",
      "dtypes: float64(4189), int64(1), object(1)\n",
      "memory usage: 1.6+ GB\n"
     ]
    }
   ],
   "source": [
    "test.info()\n",
    "# test.loc[:]"
   ]
  },
  {
   "cell_type": "markdown",
   "metadata": {},
   "source": [
    "# taking longtime to convert to unixtime"
   ]
  },
  {
   "cell_type": "code",
   "execution_count": 5,
   "metadata": {},
   "outputs": [
    {
     "name": "stdout",
     "output_type": "stream",
     "text": [
      "1001\n"
     ]
    },
    {
     "name": "stderr",
     "output_type": "stream",
     "text": [
      "C:\\Users\\atif\\Anaconda3\\lib\\site-packages\\ipykernel_launcher.py:5: FutureWarning: Method .as_matrix will be removed in a future version. Use .values instead.\n",
      "  \"\"\"\n"
     ]
    }
   ],
   "source": [
    "import time\n",
    "import datetime\n",
    "\n",
    "longTime=test.loc[0:1000,['longTime']]\n",
    "longTime=longTime.as_matrix()\n",
    "# print(type(longTime))\n",
    "a=[]\n",
    "date_time_array=[]\n",
    "for k in longTime:\n",
    "    a=np.append(a,k)\n",
    "\n",
    "# print(a[0:])\n",
    "# print(a[-2:])\n",
    "count=0\n",
    "for b in a:\n",
    "    b=int(b) # make plain integer\n",
    "    str_b=str(b)\n",
    "    c=str_b[-3:]\n",
    "    new_str_b=str_b.replace(c, '',1)\n",
    "#     print(str_b)\n",
    "#     print(\"hi: \",c)\n",
    "#     print(count,\"==\",new_str_b)\n",
    "    new_str_b_time=int(new_str_b)\n",
    "    \n",
    "    now_time=datetime.datetime.fromtimestamp(new_str_b_time)\n",
    "    convert_time=now_time.strftime('%Y-%m-%d %H:%M:%S')\n",
    "    \n",
    "#     print('count_num: ',count,' unix_time: ',convert_time)\n",
    "    date_time_obj = datetime.datetime.strptime(convert_time, '%Y-%m-%d %H:%M:%S')\n",
    "    date_time_array=np.append(date_time_array,date_time_obj)\n",
    "#     print('count_num: ',count,' convert_time: ',convert_time,\" date_time_obj: \",date_time_obj,\" str_time\",new_str_b_time)\n",
    "    count+=1\n",
    "\n",
    "print(date_time_array.size)\n",
    "# for q in date_time_array[::-1]:\n",
    "# #     q=q.split(\" \")\n",
    "# #     split_q=np.append(split_q,q)\n",
    "#     print(\"count: \",count,\" date: \",q.date(),\" time: \",q.time())\n",
    "#     count+=1\n",
    "# #     print(type(q))"
   ]
  },
  {
   "cell_type": "code",
   "execution_count": null,
   "metadata": {},
   "outputs": [],
   "source": [
    "#from 1st fig. signal 1\n",
    "value_1=test.loc[0:20,['AEKGTZKK1_V0']]\n",
    "value_1=value_1.as_matrix()\n",
    "# print(value_1)"
   ]
  },
  {
   "cell_type": "code",
   "execution_count": 14,
   "metadata": {},
   "outputs": [
    {
     "name": "stdout",
     "output_type": "stream",
     "text": [
      "[datetime.datetime(2019, 4, 12, 18, 22, 7), datetime.datetime(2019, 4, 12, 18, 22, 59, 631579), datetime.datetime(2019, 4, 12, 18, 23, 52, 263158), datetime.datetime(2019, 4, 12, 18, 24, 44, 894737), datetime.datetime(2019, 4, 12, 18, 25, 37, 526316), datetime.datetime(2019, 4, 12, 18, 26, 30, 157895), datetime.datetime(2019, 4, 12, 18, 27, 22, 789474), datetime.datetime(2019, 4, 12, 18, 28, 15, 421053), datetime.datetime(2019, 4, 12, 18, 29, 8, 52632), datetime.datetime(2019, 4, 12, 18, 30, 0, 684211), datetime.datetime(2019, 4, 12, 18, 30, 53, 315789), datetime.datetime(2019, 4, 12, 18, 31, 45, 947368), datetime.datetime(2019, 4, 12, 18, 32, 38, 578947), datetime.datetime(2019, 4, 12, 18, 33, 31, 210526), datetime.datetime(2019, 4, 12, 18, 34, 23, 842105), datetime.datetime(2019, 4, 12, 18, 35, 16, 473684), datetime.datetime(2019, 4, 12, 18, 36, 9, 105263), datetime.datetime(2019, 4, 12, 18, 37, 1, 736842), datetime.datetime(2019, 4, 12, 18, 37, 54, 368421), datetime.datetime(2019, 4, 12, 18, 38, 47)]\n"
     ]
    },
    {
     "data": {
      "image/png": "[encoded data removed]",
      "text/plain": [
       "<Figure size 432x288 with 1 Axes>"
      ]
     },
     "metadata": {},
     "output_type": "display_data"
    }
   ],
   "source": [
    "import matplotlib.pyplot as plt\n",
    "import matplotlib.dates as md\n",
    "import numpy as np\n",
    "import datetime as dt\n",
    "import time\n",
    "%matplotlib inline\n",
    "\n",
    "n=20 #20 times it will add duration with the local time\n",
    "duration=1000\n",
    "now=time.mktime(time.localtime()) #make timestamp\n",
    "# print(now)\n",
    "timestamps=np.linspace(now,now+duration,n)\n",
    "# print(timestamps)\n",
    "dates=[dt.datetime.fromtimestamp(ts) for ts in timestamps]\n",
    "print(dates)\n",
    "datenums=md.date2num(dates)\n",
    "\n",
    "\n",
    "values=[]\n",
    "for i in range (1,21,1):\n",
    "    if i<10:\n",
    "        i=i*i\n",
    "    else:\n",
    "        i=i+10\n",
    "#     print(i)\n",
    "    values=np.append(values,i)\n",
    "    \n",
    "# print(values)    \n",
    "\n",
    "\n",
    "# values=np.sin((timestamps-now)/duration*2*np.pi)\n",
    "plt.subplots_adjust(bottom=0.2)\n",
    "plt.xticks( rotation=25 )\n",
    "ax=plt.gca()\n",
    "xfmt = md.DateFormatter('%Y-%m-%d %H:%M:%S')\n",
    "ax.xaxis.set_major_formatter(xfmt)\n",
    "plt.plot(datenums,values)\n",
    "plt.show()"
   ]
  },
  {
   "cell_type": "code",
   "execution_count": 9,
   "metadata": {},
   "outputs": [
    {
     "name": "stdout",
     "output_type": "stream",
     "text": [
      "1001\n",
      "1001\n"
     ]
    }
   ],
   "source": [
    "g=[]\n",
    "for i in range (0,1001,1):\n",
    "    if i<10:\n",
    "        i=i*i\n",
    "    else:\n",
    "        i=i+10\n",
    "#     print(i)\n",
    "    g=np.append(g,i)\n",
    "print(g.size)\n",
    "print(date_time_array.size)"
   ]
  },
  {
   "cell_type": "code",
   "execution_count": null,
   "metadata": {},
   "outputs": [],
   "source": []
  }
 ],
 "metadata": {
  "kernelspec": {
   "display_name": "Python 3",
   "language": "python",
   "name": "python3"
  },
  "language_info": {
   "codemirror_mode": {
    "name": "ipython",
    "version": 3
   },
   "file_extension": ".py",
   "mimetype": "text/x-python",
   "name": "python",
   "nbconvert_exporter": "python",
   "pygments_lexer": "ipython3",
   "version": "3.6.5"
  }
 },
 "nbformat": 4,
 "nbformat_minor": 2
}
