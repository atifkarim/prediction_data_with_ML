{
 "cells": [
  {
   "cell_type": "code",
   "execution_count": 2,
   "metadata": {},
   "outputs": [],
   "source": [
    "import pandas as pd\n",
    "import numpy as np\n",
    "from sklearn import metrics\n",
    "from sklearn.linear_model import LinearRegression"
   ]
  },
  {
   "cell_type": "code",
   "execution_count": 3,
   "metadata": {},
   "outputs": [],
   "source": [
    "#test= pd.read_csv('/media/atif/BE0E05910E0543BD/University of Bremen MSc/masters_thesis/IAT_sebastian/IAT_csv_10000.csv')\n",
    "test= pd.read_csv('E:/University of Bremen MSc/masters_thesis/IAT_sebastian/IAT_csv_10000.csv')"
   ]
  },
  {
   "cell_type": "code",
   "execution_count": 4,
   "metadata": {},
   "outputs": [
    {
     "data": {
      "text/html": [
       "<div>\n",
       "<style scoped>\n",
       "    .dataframe tbody tr th:only-of-type {\n",
       "        vertical-align: middle;\n",
       "    }\n",
       "\n",
       "    .dataframe tbody tr th {\n",
       "        vertical-align: top;\n",
       "    }\n",
       "\n",
       "    .dataframe thead th {\n",
       "        text-align: right;\n",
       "    }\n",
       "</style>\n",
       "<table border=\"1\" class=\"dataframe\">\n",
       "  <thead>\n",
       "    <tr style=\"text-align: right;\">\n",
       "      <th></th>\n",
       "      <th>row ID</th>\n",
       "      <th>longTime</th>\n",
       "      <th>AEAGHOAWE2T1</th>\n",
       "      <th>AEAGHOAWE2A0</th>\n",
       "      <th>AEAGHOAWE2T0</th>\n",
       "      <th>AEAGHOAWE1A0</th>\n",
       "      <th>AEAGHOAWE1T1</th>\n",
       "      <th>AEAGHOAWE1T0</th>\n",
       "      <th>AEAGHOAWE3T0</th>\n",
       "      <th>AEAGHOAWE3A0</th>\n",
       "      <th>...</th>\n",
       "      <th>RWWIHOUT10V1</th>\n",
       "      <th>RWWIHOT7_RV0</th>\n",
       "      <th>RWWIHOT8_RV0</th>\n",
       "      <th>RWWIHOT9_RV0</th>\n",
       "      <th>RWWIHOT10RV0</th>\n",
       "      <th>RWWIHOTSURV0</th>\n",
       "      <th>RWWIHOTSUMV0</th>\n",
       "      <th>RWWIHO_VERV0</th>\n",
       "      <th>RWWIHO_UESV0</th>\n",
       "      <th>RWWIHOSUMAV0</th>\n",
       "    </tr>\n",
       "  </thead>\n",
       "  <tbody>\n",
       "    <tr>\n",
       "      <th>11</th>\n",
       "      <td>Row11</td>\n",
       "      <td>1551464340000</td>\n",
       "      <td>60.326721</td>\n",
       "      <td>1.891757</td>\n",
       "      <td>95.990552</td>\n",
       "      <td>1.583666</td>\n",
       "      <td>68.498059</td>\n",
       "      <td>96.3806</td>\n",
       "      <td>97.722767</td>\n",
       "      <td>37.023235</td>\n",
       "      <td>...</td>\n",
       "      <td>0.0</td>\n",
       "      <td>92.731587</td>\n",
       "      <td>41.454368</td>\n",
       "      <td>24.522246</td>\n",
       "      <td>88.311161</td>\n",
       "      <td>75.860493</td>\n",
       "      <td>72.496854</td>\n",
       "      <td>77.231358</td>\n",
       "      <td>0.599667</td>\n",
       "      <td>17.139086</td>\n",
       "    </tr>\n",
       "    <tr>\n",
       "      <th>12</th>\n",
       "      <td>Row12</td>\n",
       "      <td>1551464280000</td>\n",
       "      <td>60.793466</td>\n",
       "      <td>14.243815</td>\n",
       "      <td>96.096546</td>\n",
       "      <td>9.662033</td>\n",
       "      <td>68.030495</td>\n",
       "      <td>96.3806</td>\n",
       "      <td>97.559724</td>\n",
       "      <td>26.795659</td>\n",
       "      <td>...</td>\n",
       "      <td>0.0</td>\n",
       "      <td>92.764825</td>\n",
       "      <td>45.133534</td>\n",
       "      <td>24.569068</td>\n",
       "      <td>88.349698</td>\n",
       "      <td>76.951965</td>\n",
       "      <td>73.737142</td>\n",
       "      <td>76.858228</td>\n",
       "      <td>0.599220</td>\n",
       "      <td>17.131141</td>\n",
       "    </tr>\n",
       "    <tr>\n",
       "      <th>13</th>\n",
       "      <td>Row13</td>\n",
       "      <td>1551464220000</td>\n",
       "      <td>60.793466</td>\n",
       "      <td>28.280252</td>\n",
       "      <td>96.331029</td>\n",
       "      <td>29.510303</td>\n",
       "      <td>67.562932</td>\n",
       "      <td>96.3806</td>\n",
       "      <td>97.722767</td>\n",
       "      <td>25.948411</td>\n",
       "      <td>...</td>\n",
       "      <td>0.0</td>\n",
       "      <td>92.780677</td>\n",
       "      <td>47.803268</td>\n",
       "      <td>24.602565</td>\n",
       "      <td>88.096375</td>\n",
       "      <td>77.649880</td>\n",
       "      <td>74.539353</td>\n",
       "      <td>76.666381</td>\n",
       "      <td>0.598951</td>\n",
       "      <td>17.070510</td>\n",
       "    </tr>\n",
       "    <tr>\n",
       "      <th>14</th>\n",
       "      <td>Row14</td>\n",
       "      <td>1551464160000</td>\n",
       "      <td>61.260210</td>\n",
       "      <td>48.783448</td>\n",
       "      <td>96.352712</td>\n",
       "      <td>39.983361</td>\n",
       "      <td>66.569202</td>\n",
       "      <td>96.3806</td>\n",
       "      <td>97.722767</td>\n",
       "      <td>11.449178</td>\n",
       "      <td>...</td>\n",
       "      <td>0.0</td>\n",
       "      <td>92.762694</td>\n",
       "      <td>48.539219</td>\n",
       "      <td>24.994090</td>\n",
       "      <td>88.190699</td>\n",
       "      <td>77.988476</td>\n",
       "      <td>74.806271</td>\n",
       "      <td>76.407445</td>\n",
       "      <td>0.598607</td>\n",
       "      <td>17.057253</td>\n",
       "    </tr>\n",
       "    <tr>\n",
       "      <th>15</th>\n",
       "      <td>Row15</td>\n",
       "      <td>1551464100000</td>\n",
       "      <td>61.260210</td>\n",
       "      <td>75.649871</td>\n",
       "      <td>96.437826</td>\n",
       "      <td>67.664594</td>\n",
       "      <td>66.101639</td>\n",
       "      <td>96.3806</td>\n",
       "      <td>97.885043</td>\n",
       "      <td>18.414274</td>\n",
       "      <td>...</td>\n",
       "      <td>0.0</td>\n",
       "      <td>92.741902</td>\n",
       "      <td>48.572276</td>\n",
       "      <td>24.628520</td>\n",
       "      <td>88.247929</td>\n",
       "      <td>77.878269</td>\n",
       "      <td>74.522460</td>\n",
       "      <td>76.243291</td>\n",
       "      <td>0.599265</td>\n",
       "      <td>17.055687</td>\n",
       "    </tr>\n",
       "    <tr>\n",
       "      <th>16</th>\n",
       "      <td>Row16</td>\n",
       "      <td>1551464040000</td>\n",
       "      <td>61.726954</td>\n",
       "      <td>78.171671</td>\n",
       "      <td>96.288467</td>\n",
       "      <td>90.779393</td>\n",
       "      <td>65.634075</td>\n",
       "      <td>96.3806</td>\n",
       "      <td>97.722767</td>\n",
       "      <td>24.023780</td>\n",
       "      <td>...</td>\n",
       "      <td>0.0</td>\n",
       "      <td>92.632593</td>\n",
       "      <td>44.620461</td>\n",
       "      <td>22.338103</td>\n",
       "      <td>81.675246</td>\n",
       "      <td>73.945394</td>\n",
       "      <td>0.000000</td>\n",
       "      <td>0.000000</td>\n",
       "      <td>0.000000</td>\n",
       "      <td>0.000000</td>\n",
       "    </tr>\n",
       "    <tr>\n",
       "      <th>17</th>\n",
       "      <td>Row17</td>\n",
       "      <td>1551463980000</td>\n",
       "      <td>62.193699</td>\n",
       "      <td>25.214984</td>\n",
       "      <td>96.821669</td>\n",
       "      <td>100.000000</td>\n",
       "      <td>56.808970</td>\n",
       "      <td>96.3806</td>\n",
       "      <td>97.865141</td>\n",
       "      <td>21.932238</td>\n",
       "      <td>...</td>\n",
       "      <td>0.0</td>\n",
       "      <td>92.632593</td>\n",
       "      <td>44.620461</td>\n",
       "      <td>22.338103</td>\n",
       "      <td>81.675246</td>\n",
       "      <td>73.945394</td>\n",
       "      <td>0.000000</td>\n",
       "      <td>0.000000</td>\n",
       "      <td>0.000000</td>\n",
       "      <td>0.000000</td>\n",
       "    </tr>\n",
       "    <tr>\n",
       "      <th>18</th>\n",
       "      <td>Row18</td>\n",
       "      <td>1551462360000</td>\n",
       "      <td>62.193699</td>\n",
       "      <td>25.214984</td>\n",
       "      <td>96.821669</td>\n",
       "      <td>100.000000</td>\n",
       "      <td>56.808970</td>\n",
       "      <td>96.3806</td>\n",
       "      <td>97.865141</td>\n",
       "      <td>21.932238</td>\n",
       "      <td>...</td>\n",
       "      <td>0.0</td>\n",
       "      <td>92.632593</td>\n",
       "      <td>44.620461</td>\n",
       "      <td>22.338103</td>\n",
       "      <td>81.675246</td>\n",
       "      <td>73.945394</td>\n",
       "      <td>0.000000</td>\n",
       "      <td>0.000000</td>\n",
       "      <td>0.000000</td>\n",
       "      <td>0.000000</td>\n",
       "    </tr>\n",
       "    <tr>\n",
       "      <th>19</th>\n",
       "      <td>Row19</td>\n",
       "      <td>1551462300000</td>\n",
       "      <td>62.660443</td>\n",
       "      <td>17.688422</td>\n",
       "      <td>96.907597</td>\n",
       "      <td>15.814617</td>\n",
       "      <td>56.341407</td>\n",
       "      <td>96.3806</td>\n",
       "      <td>98.149122</td>\n",
       "      <td>17.344468</td>\n",
       "      <td>...</td>\n",
       "      <td>0.0</td>\n",
       "      <td>92.758424</td>\n",
       "      <td>40.045967</td>\n",
       "      <td>24.497505</td>\n",
       "      <td>88.164536</td>\n",
       "      <td>75.442368</td>\n",
       "      <td>71.592283</td>\n",
       "      <td>76.978845</td>\n",
       "      <td>0.599227</td>\n",
       "      <td>16.901170</td>\n",
       "    </tr>\n",
       "    <tr>\n",
       "      <th>20</th>\n",
       "      <td>Row20</td>\n",
       "      <td>1551462240000</td>\n",
       "      <td>62.660443</td>\n",
       "      <td>17.855367</td>\n",
       "      <td>97.099508</td>\n",
       "      <td>16.427101</td>\n",
       "      <td>56.341407</td>\n",
       "      <td>96.3806</td>\n",
       "      <td>97.966177</td>\n",
       "      <td>24.228632</td>\n",
       "      <td>...</td>\n",
       "      <td>0.0</td>\n",
       "      <td>92.632593</td>\n",
       "      <td>44.620461</td>\n",
       "      <td>22.338103</td>\n",
       "      <td>81.675246</td>\n",
       "      <td>73.945394</td>\n",
       "      <td>0.000000</td>\n",
       "      <td>0.000000</td>\n",
       "      <td>0.000000</td>\n",
       "      <td>0.000000</td>\n",
       "    </tr>\n",
       "    <tr>\n",
       "      <th>21</th>\n",
       "      <td>Row21</td>\n",
       "      <td>1551460500000</td>\n",
       "      <td>63.127188</td>\n",
       "      <td>22.134564</td>\n",
       "      <td>96.885914</td>\n",
       "      <td>19.313027</td>\n",
       "      <td>57.276534</td>\n",
       "      <td>96.3806</td>\n",
       "      <td>98.149122</td>\n",
       "      <td>26.444127</td>\n",
       "      <td>...</td>\n",
       "      <td>0.0</td>\n",
       "      <td>92.780887</td>\n",
       "      <td>39.781431</td>\n",
       "      <td>24.596780</td>\n",
       "      <td>88.374761</td>\n",
       "      <td>75.486931</td>\n",
       "      <td>71.531874</td>\n",
       "      <td>77.042794</td>\n",
       "      <td>0.597877</td>\n",
       "      <td>16.553500</td>\n",
       "    </tr>\n",
       "  </tbody>\n",
       "</table>\n",
       "<p>11 rows × 4191 columns</p>\n",
       "</div>"
      ],
      "text/plain": [
       "   row ID       longTime  AEAGHOAWE2T1  AEAGHOAWE2A0  AEAGHOAWE2T0  \\\n",
       "11  Row11  1551464340000     60.326721      1.891757     95.990552   \n",
       "12  Row12  1551464280000     60.793466     14.243815     96.096546   \n",
       "13  Row13  1551464220000     60.793466     28.280252     96.331029   \n",
       "14  Row14  1551464160000     61.260210     48.783448     96.352712   \n",
       "15  Row15  1551464100000     61.260210     75.649871     96.437826   \n",
       "16  Row16  1551464040000     61.726954     78.171671     96.288467   \n",
       "17  Row17  1551463980000     62.193699     25.214984     96.821669   \n",
       "18  Row18  1551462360000     62.193699     25.214984     96.821669   \n",
       "19  Row19  1551462300000     62.660443     17.688422     96.907597   \n",
       "20  Row20  1551462240000     62.660443     17.855367     97.099508   \n",
       "21  Row21  1551460500000     63.127188     22.134564     96.885914   \n",
       "\n",
       "    AEAGHOAWE1A0  AEAGHOAWE1T1  AEAGHOAWE1T0  AEAGHOAWE3T0  AEAGHOAWE3A0  \\\n",
       "11      1.583666     68.498059       96.3806     97.722767     37.023235   \n",
       "12      9.662033     68.030495       96.3806     97.559724     26.795659   \n",
       "13     29.510303     67.562932       96.3806     97.722767     25.948411   \n",
       "14     39.983361     66.569202       96.3806     97.722767     11.449178   \n",
       "15     67.664594     66.101639       96.3806     97.885043     18.414274   \n",
       "16     90.779393     65.634075       96.3806     97.722767     24.023780   \n",
       "17    100.000000     56.808970       96.3806     97.865141     21.932238   \n",
       "18    100.000000     56.808970       96.3806     97.865141     21.932238   \n",
       "19     15.814617     56.341407       96.3806     98.149122     17.344468   \n",
       "20     16.427101     56.341407       96.3806     97.966177     24.228632   \n",
       "21     19.313027     57.276534       96.3806     98.149122     26.444127   \n",
       "\n",
       "        ...       RWWIHOUT10V1  RWWIHOT7_RV0  RWWIHOT8_RV0  RWWIHOT9_RV0  \\\n",
       "11      ...                0.0     92.731587     41.454368     24.522246   \n",
       "12      ...                0.0     92.764825     45.133534     24.569068   \n",
       "13      ...                0.0     92.780677     47.803268     24.602565   \n",
       "14      ...                0.0     92.762694     48.539219     24.994090   \n",
       "15      ...                0.0     92.741902     48.572276     24.628520   \n",
       "16      ...                0.0     92.632593     44.620461     22.338103   \n",
       "17      ...                0.0     92.632593     44.620461     22.338103   \n",
       "18      ...                0.0     92.632593     44.620461     22.338103   \n",
       "19      ...                0.0     92.758424     40.045967     24.497505   \n",
       "20      ...                0.0     92.632593     44.620461     22.338103   \n",
       "21      ...                0.0     92.780887     39.781431     24.596780   \n",
       "\n",
       "    RWWIHOT10RV0  RWWIHOTSURV0  RWWIHOTSUMV0  RWWIHO_VERV0  RWWIHO_UESV0  \\\n",
       "11     88.311161     75.860493     72.496854     77.231358      0.599667   \n",
       "12     88.349698     76.951965     73.737142     76.858228      0.599220   \n",
       "13     88.096375     77.649880     74.539353     76.666381      0.598951   \n",
       "14     88.190699     77.988476     74.806271     76.407445      0.598607   \n",
       "15     88.247929     77.878269     74.522460     76.243291      0.599265   \n",
       "16     81.675246     73.945394      0.000000      0.000000      0.000000   \n",
       "17     81.675246     73.945394      0.000000      0.000000      0.000000   \n",
       "18     81.675246     73.945394      0.000000      0.000000      0.000000   \n",
       "19     88.164536     75.442368     71.592283     76.978845      0.599227   \n",
       "20     81.675246     73.945394      0.000000      0.000000      0.000000   \n",
       "21     88.374761     75.486931     71.531874     77.042794      0.597877   \n",
       "\n",
       "    RWWIHOSUMAV0  \n",
       "11     17.139086  \n",
       "12     17.131141  \n",
       "13     17.070510  \n",
       "14     17.057253  \n",
       "15     17.055687  \n",
       "16      0.000000  \n",
       "17      0.000000  \n",
       "18      0.000000  \n",
       "19     16.901170  \n",
       "20      0.000000  \n",
       "21     16.553500  \n",
       "\n",
       "[11 rows x 4191 columns]"
      ]
     },
     "execution_count": 4,
     "metadata": {},
     "output_type": "execute_result"
    }
   ],
   "source": [
    "test.loc[0:10]\n",
    "test.loc[11:21]\n",
    "# print(testing_data)\n",
    "# print(training_data)"
   ]
  },
  {
   "cell_type": "code",
   "execution_count": 5,
   "metadata": {},
   "outputs": [],
   "source": [
    "# extract1=test.loc[:10,['longTime','AEAGHOAWE2T1','AEAGHOAWE2A0','AEAGHOAWE2T0','RWWIHOA_MWT0']]\n",
    "extract1=test.loc[:10,['longTime','AEAGHOAWE2T1','AEAGHOAWE2A0','AEAGHOAWE2T0','RWWIHOA_MWT0']]\n",
    "extract2=test.loc[11:21,['longTime','AEAGHOAWE2T1','AEAGHOAWE2A0','AEAGHOAWE2T0','RWWIHOA_MWT0']]"
   ]
  },
  {
   "cell_type": "code",
   "execution_count": 35,
   "metadata": {},
   "outputs": [
    {
     "name": "stdout",
     "output_type": "stream",
     "text": [
      "<class 'pandas.core.frame.DataFrame'>\n",
      "<class 'pandas.core.frame.DataFrame'>\n"
     ]
    },
    {
     "ename": "AttributeError",
     "evalue": "'DataFrame' object has no attribute 'insull'",
     "output_type": "error",
     "traceback": [
      "\u001b[1;31m---------------------------------------------------------------------------\u001b[0m",
      "\u001b[1;31mAttributeError\u001b[0m                            Traceback (most recent call last)",
      "\u001b[1;32m<ipython-input-35-3b16479217a5>\u001b[0m in \u001b[0;36m<module>\u001b[1;34m()\u001b[0m\n\u001b[0;32m      2\u001b[0m \u001b[0mvar_1\u001b[0m\u001b[1;33m=\u001b[0m\u001b[0mextract1\u001b[0m\u001b[1;33m\u001b[0m\u001b[0m\n\u001b[0;32m      3\u001b[0m \u001b[0mprint\u001b[0m\u001b[1;33m(\u001b[0m\u001b[0mtype\u001b[0m\u001b[1;33m(\u001b[0m\u001b[0mvar_1\u001b[0m\u001b[1;33m)\u001b[0m\u001b[1;33m)\u001b[0m\u001b[1;33m\u001b[0m\u001b[0m\n\u001b[1;32m----> 4\u001b[1;33m \u001b[0mtest\u001b[0m\u001b[1;33m.\u001b[0m\u001b[0minsull\u001b[0m\u001b[1;33m(\u001b[0m\u001b[1;33m)\u001b[0m\u001b[1;33m.\u001b[0m\u001b[0msum\u001b[0m\u001b[1;33m(\u001b[0m\u001b[1;33m)\u001b[0m\u001b[1;33m\u001b[0m\u001b[0m\n\u001b[0m",
      "\u001b[1;32m~\\Anaconda3\\lib\\site-packages\\pandas\\core\\generic.py\u001b[0m in \u001b[0;36m__getattr__\u001b[1;34m(self, name)\u001b[0m\n\u001b[0;32m   4370\u001b[0m             \u001b[1;32mif\u001b[0m \u001b[0mself\u001b[0m\u001b[1;33m.\u001b[0m\u001b[0m_info_axis\u001b[0m\u001b[1;33m.\u001b[0m\u001b[0m_can_hold_identifiers_and_holds_name\u001b[0m\u001b[1;33m(\u001b[0m\u001b[0mname\u001b[0m\u001b[1;33m)\u001b[0m\u001b[1;33m:\u001b[0m\u001b[1;33m\u001b[0m\u001b[0m\n\u001b[0;32m   4371\u001b[0m                 \u001b[1;32mreturn\u001b[0m \u001b[0mself\u001b[0m\u001b[1;33m[\u001b[0m\u001b[0mname\u001b[0m\u001b[1;33m]\u001b[0m\u001b[1;33m\u001b[0m\u001b[0m\n\u001b[1;32m-> 4372\u001b[1;33m             \u001b[1;32mreturn\u001b[0m \u001b[0mobject\u001b[0m\u001b[1;33m.\u001b[0m\u001b[0m__getattribute__\u001b[0m\u001b[1;33m(\u001b[0m\u001b[0mself\u001b[0m\u001b[1;33m,\u001b[0m \u001b[0mname\u001b[0m\u001b[1;33m)\u001b[0m\u001b[1;33m\u001b[0m\u001b[0m\n\u001b[0m\u001b[0;32m   4373\u001b[0m \u001b[1;33m\u001b[0m\u001b[0m\n\u001b[0;32m   4374\u001b[0m     \u001b[1;32mdef\u001b[0m \u001b[0m__setattr__\u001b[0m\u001b[1;33m(\u001b[0m\u001b[0mself\u001b[0m\u001b[1;33m,\u001b[0m \u001b[0mname\u001b[0m\u001b[1;33m,\u001b[0m \u001b[0mvalue\u001b[0m\u001b[1;33m)\u001b[0m\u001b[1;33m:\u001b[0m\u001b[1;33m\u001b[0m\u001b[0m\n",
      "\u001b[1;31mAttributeError\u001b[0m: 'DataFrame' object has no attribute 'insull'"
     ]
    }
   ],
   "source": [
    "print(type(extract1))\n",
    "var_1=extract1\n",
    "print(type(var_1))\n",
    "test.insull().sum()"
   ]
  },
  {
   "cell_type": "code",
   "execution_count": 6,
   "metadata": {},
   "outputs": [
    {
     "name": "stdout",
     "output_type": "stream",
     "text": [
      "         longTime  AEAGHOAWE2T1  AEAGHOAWE2A0  AEAGHOAWE2T0  RWWIHOA_MWT0\n",
      "0   1551465000000     58.459743     14.084478     94.987590     94.953370\n",
      "1   1551464940000     58.459743     26.517483     95.030152     95.097654\n",
      "2   1551464880000     58.926488     39.322316     95.030152     95.151457\n",
      "3   1551464820000     58.926488     31.512401     95.158632     95.189767\n",
      "4   1551464760000     59.393232     30.215016     95.499913     95.333236\n",
      "5   1551464700000     59.393232     45.209867     95.797827     95.498714\n",
      "6   1551464640000     59.393232     45.407340     95.990552     95.543542\n",
      "7   1551464580000     59.859977     51.616024     95.904634     95.620172\n",
      "8   1551464520000     59.859977     32.572045     95.904634     95.676413\n",
      "9   1551464460000     60.326721      1.454222     96.033114     95.801134\n",
      "10  1551464400000     60.326721      0.536166     95.904634     95.770158\n",
      "\n",
      "\n",
      "          longTime  AEAGHOAWE2T1  AEAGHOAWE2A0  AEAGHOAWE2T0  RWWIHOA_MWT0\n",
      "11  1551464340000     60.326721      1.891757     95.990552     95.893247\n",
      "12  1551464280000     60.793466     14.243815     96.096546     96.017968\n",
      "13  1551464220000     60.793466     28.280252     96.331029     96.030197\n",
      "14  1551464160000     61.260210     48.783448     96.352712     96.037531\n",
      "15  1551464100000     61.260210     75.649871     96.437826     96.069323\n",
      "16  1551464040000     61.726954     78.171671     96.288467      0.000000\n",
      "17  1551463980000     62.193699     25.214984     96.821669      0.000000\n",
      "18  1551462360000     62.193699     25.214984     96.821669      0.000000\n",
      "19  1551462300000     62.660443     17.688422     96.907597     95.876948\n",
      "20  1551462240000     62.660443     17.855367     97.099508      0.000000\n",
      "21  1551460500000     63.127188     22.134564     96.885914     94.557206\n"
     ]
    }
   ],
   "source": [
    "print(extract1)\n",
    "print('\\n\\n',extract2)"
   ]
  },
  {
   "cell_type": "code",
   "execution_count": 7,
   "metadata": {},
   "outputs": [],
   "source": [
    "# extract2=test.loc[:500,['AEDATZ_HONP0','AEDATZK_ASP0']]"
   ]
  },
  {
   "cell_type": "code",
   "execution_count": 8,
   "metadata": {},
   "outputs": [
    {
     "name": "stderr",
     "output_type": "stream",
     "text": [
      "C:\\Users\\atif\\Anaconda3\\lib\\site-packages\\ipykernel_launcher.py:1: FutureWarning: Method .as_matrix will be removed in a future version. Use .values instead.\n",
      "  \"\"\"Entry point for launching an IPython kernel.\n",
      "C:\\Users\\atif\\Anaconda3\\lib\\site-packages\\ipykernel_launcher.py:2: FutureWarning: Method .as_matrix will be removed in a future version. Use .values instead.\n",
      "  \n"
     ]
    }
   ],
   "source": [
    "new_extract1 = extract1.as_matrix()\n",
    "new_extract2 = extract2.as_matrix()"
   ]
  },
  {
   "cell_type": "code",
   "execution_count": 9,
   "metadata": {},
   "outputs": [],
   "source": [
    "# print(new_extract1)"
   ]
  },
  {
   "cell_type": "code",
   "execution_count": 10,
   "metadata": {},
   "outputs": [],
   "source": [
    "# import matplotlib.pyplot as plt\n",
    "# X_axis=new_extract1[:,0]\n",
    "# Y_axis=new_extract1[:,4]\n",
    "\n",
    "# plt.plot(X_axis, Y_axis, color='g')\n",
    "# # plt.plot(, color='orange')\n",
    "# plt.xlabel('Time')\n",
    "# plt.ylabel('col_1')\n",
    "# plt.title('test')\n",
    "# plt.show()"
   ]
  },
  {
   "cell_type": "code",
   "execution_count": 11,
   "metadata": {},
   "outputs": [
    {
     "name": "stdout",
     "output_type": "stream",
     "text": [
      "2\n",
      "(11, 5)\n",
      "55\n"
     ]
    }
   ],
   "source": [
    "print(new_extract1.ndim)\n",
    "print(new_extract1.shape)\n",
    "print(new_extract1.size)"
   ]
  },
  {
   "cell_type": "code",
   "execution_count": 12,
   "metadata": {},
   "outputs": [],
   "source": [
    "X = new_extract1[:,:4]"
   ]
  },
  {
   "cell_type": "code",
   "execution_count": 13,
   "metadata": {},
   "outputs": [
    {
     "name": "stdout",
     "output_type": "stream",
     "text": [
      "[[1.55146500e+12 5.84597433e+01 1.40844783e+01 9.49875902e+01]\n",
      " [1.55146494e+12 5.84597433e+01 2.65174828e+01 9.50301522e+01]\n",
      " [1.55146488e+12 5.89264877e+01 3.93223163e+01 9.50301522e+01]\n",
      " [1.55146482e+12 5.89264877e+01 3.15124015e+01 9.51586323e+01]\n",
      " [1.55146476e+12 5.93932322e+01 3.02150156e+01 9.54999128e+01]\n",
      " [1.55146470e+12 5.93932322e+01 4.52098672e+01 9.57978274e+01]\n",
      " [1.55146464e+12 5.93932322e+01 4.54073401e+01 9.59905524e+01]\n",
      " [1.55146458e+12 5.98599767e+01 5.16160243e+01 9.59046344e+01]\n",
      " [1.55146452e+12 5.98599767e+01 3.25720450e+01 9.59046344e+01]\n",
      " [1.55146446e+12 6.03267211e+01 1.45422230e+00 9.60331145e+01]\n",
      " [1.55146440e+12 6.03267211e+01 5.36166301e-01 9.59046344e+01]]\n",
      "2\n",
      "(11, 4)\n",
      "44\n"
     ]
    }
   ],
   "source": [
    "print(X)\n",
    "print(X.ndim)\n",
    "print(X.shape)\n",
    "print(X.size)"
   ]
  },
  {
   "cell_type": "code",
   "execution_count": 14,
   "metadata": {},
   "outputs": [],
   "source": [
    "Y = new_extract1[:,4]"
   ]
  },
  {
   "cell_type": "code",
   "execution_count": 15,
   "metadata": {},
   "outputs": [],
   "source": [
    "# print(y)\n",
    "# print(y.ndim)\n",
    "# print(y.shape)\n",
    "# print(y.size)"
   ]
  },
  {
   "cell_type": "code",
   "execution_count": 16,
   "metadata": {},
   "outputs": [],
   "source": [
    "# from sklearn.linear_model import LinearRegression\n",
    "# reg = LinearRegression().fit(X,y)"
   ]
  },
  {
   "cell_type": "code",
   "execution_count": 17,
   "metadata": {},
   "outputs": [],
   "source": [
    "from sklearn.linear_model import LinearRegression\n",
    "from sklearn.model_selection import train_test_split"
   ]
  },
  {
   "cell_type": "code",
   "execution_count": 18,
   "metadata": {},
   "outputs": [],
   "source": [
    "# X_train, Val_X, Y_train, Val_Y = train_test_split(X[:,1:4], Y, test_size=0.2, random_state=42)"
   ]
  },
  {
   "cell_type": "code",
   "execution_count": 19,
   "metadata": {},
   "outputs": [],
   "source": [
    "# X_train.shape\n",
    "# # print(Val_Y)"
   ]
  },
  {
   "cell_type": "code",
   "execution_count": 20,
   "metadata": {},
   "outputs": [],
   "source": [
    "# Val_X.shape"
   ]
  },
  {
   "cell_type": "code",
   "execution_count": 21,
   "metadata": {},
   "outputs": [],
   "source": [
    "# doing the training\n",
    "# reg = LinearRegression().fit(X_train,Y_train) # uncommet it if want to train with splitted value\n",
    "reg=LinearRegression().fit(X[:,1:4],Y)"
   ]
  },
  {
   "cell_type": "code",
   "execution_count": 22,
   "metadata": {},
   "outputs": [
    {
     "name": "stdout",
     "output_type": "stream",
     "text": [
      "[[1.55146434e+12 6.03267211e+01 1.89175668e+00 9.59905524e+01]\n",
      " [1.55146428e+12 6.07934656e+01 1.42438149e+01 9.60965458e+01]\n",
      " [1.55146422e+12 6.07934656e+01 2.82802525e+01 9.63310291e+01]\n",
      " [1.55146416e+12 6.12602100e+01 4.87834483e+01 9.63527120e+01]\n",
      " [1.55146410e+12 6.12602100e+01 7.56498709e+01 9.64378263e+01]\n",
      " [1.55146404e+12 6.17269545e+01 7.81716715e+01 9.62884671e+01]\n",
      " [1.55146398e+12 6.21936989e+01 2.52149835e+01 9.68216688e+01]\n",
      " [1.55146236e+12 6.21936989e+01 2.52149835e+01 9.68216688e+01]\n",
      " [1.55146230e+12 6.26604434e+01 1.76884217e+01 9.69075967e+01]\n",
      " [1.55146224e+12 6.26604434e+01 1.78553674e+01 9.70995081e+01]\n",
      " [1.55146050e+12 6.31271879e+01 2.21345639e+01 9.68859138e+01]]\n"
     ]
    }
   ],
   "source": [
    "# here now making testing i/p from newextract2\n",
    "\n",
    "X_test=new_extract2[:,:4]\n",
    "print(X_test)"
   ]
  },
  {
   "cell_type": "code",
   "execution_count": 23,
   "metadata": {},
   "outputs": [
    {
     "name": "stdout",
     "output_type": "stream",
     "text": [
      "[[1.55146434e+12 6.03267211e+01 1.89175668e+00 9.59905524e+01]\n",
      " [1.55146428e+12 6.07934656e+01 1.42438149e+01 9.60965458e+01]\n",
      " [1.55146422e+12 6.07934656e+01 2.82802525e+01 9.63310291e+01]\n",
      " [1.55146416e+12 6.12602100e+01 4.87834483e+01 9.63527120e+01]\n",
      " [1.55146410e+12 6.12602100e+01 7.56498709e+01 9.64378263e+01]\n",
      " [1.55146404e+12 6.17269545e+01 7.81716715e+01 9.62884671e+01]\n",
      " [1.55146398e+12 6.21936989e+01 2.52149835e+01 9.68216688e+01]\n",
      " [1.55146236e+12 6.21936989e+01 2.52149835e+01 9.68216688e+01]\n",
      " [1.55146230e+12 6.26604434e+01 1.76884217e+01 9.69075967e+01]\n",
      " [1.55146224e+12 6.26604434e+01 1.78553674e+01 9.70995081e+01]\n",
      " [1.55146050e+12 6.31271879e+01 2.21345639e+01 9.68859138e+01]] \n",
      "\n",
      "\n",
      "[95.78425127 95.93222207 96.00342712 96.12522629 96.15013373 96.22032684\n",
      " 96.50194696 96.50194696 96.64463009 96.70339574 96.75384105]\n"
     ]
    }
   ],
   "source": [
    "# print(Val_X,'\\n\\n')\n",
    "# predicted_op=reg.predict(Val_X)\n",
    "# print(predicted_op)\n",
    "print(X_test,'\\n\\n')\n",
    "#now predicting model with X_test\n",
    "predicted_op=reg.predict(X_test[:,1:4])\n",
    "print(predicted_op)"
   ]
  },
  {
   "cell_type": "code",
   "execution_count": 24,
   "metadata": {},
   "outputs": [
    {
     "name": "stdout",
     "output_type": "stream",
     "text": [
      "[95.89324689 96.01796805 96.03019737 96.03753098 96.06932323  0.\n",
      "  0.          0.         95.87694776  0.         94.55720605]\n"
     ]
    }
   ],
   "source": [
    "# actual_op=Val_Y\n",
    "# print(actual_op)\n",
    "# print(actual_op.ndim)\n",
    "\n",
    "#here now checking what is the actual op corresponding to predicted op's ip(X_test[:,1:4])\n",
    "\n",
    "actual_op=new_extract2[:,4]\n",
    "print(actual_op)"
   ]
  },
  {
   "cell_type": "code",
   "execution_count": 27,
   "metadata": {},
   "outputs": [
    {
     "data": {
      "image/png": "[encoded data removed]",
      "text/plain": [
       "<Figure size 432x288 with 1 Axes>"
      ]
     },
     "metadata": {},
     "output_type": "display_data"
    }
   ],
   "source": [
    "# X_test_time=Val_X[:,0]\n",
    "# print(X_test_time)\n",
    "# # print(X_test_time.shape)\n",
    "# plt.plot(X_test_time, predicted_op, color='red')\n",
    "# plt.plot(X_test_time, actual_op, color='orange')\n",
    "# plt.xlabel('Time')\n",
    "# plt.ylabel('predict op and actual op')\n",
    "# plt.title('test')\n",
    "# plt.show()\n",
    "\n",
    "#now here we will plot actual_op and predicted_op vs time graph\n",
    "import matplotlib.pyplot as plt\n",
    "%matplotlib inline\n",
    "time=new_extract2[:,0]\n",
    "plt.plot(time,predicted_op,color='red')\n",
    "plt.plot(time,actual_op,color='orange')\n",
    "plt.xlabel('Time')\n",
    "plt.ylabel('output')\n",
    "plt.title('testing')\n",
    "plt.show()"
   ]
  },
  {
   "cell_type": "code",
   "execution_count": 28,
   "metadata": {},
   "outputs": [
    {
     "name": "stdout",
     "output_type": "stream",
     "text": [
      "Slope: [ 2.48622364e-01 -4.31313170e-05  3.06249796e-01]\n",
      "Intercept: 51.38867374438991\n",
      "r_2 statistic: -0.59\n",
      "Mean_absolute_error: 35.39\n",
      "Mean squared error: 3385.51\n",
      "RMSE:  58.1851264110546\n"
     ]
    }
   ],
   "source": [
    "from sklearn import linear_model\n",
    "from sklearn.metrics import mean_squared_error, r2_score, mean_absolute_error\n",
    "import math\n",
    "print('Slope:' ,reg.coef_)\n",
    "print('Intercept:', reg.intercept_)\n",
    "print('r_2 statistic: %.2f' % r2_score(actual_op,predicted_op))\n",
    "print(\"Mean_absolute_error: %.2f\" % mean_absolute_error(actual_op,predicted_op))\n",
    "print(\"Mean squared error: %.2f\" % mean_squared_error(actual_op,predicted_op))\n",
    "RMSE=math.sqrt(mean_squared_error(actual_op,predicted_op))\n",
    "print('RMSE: ',RMSE)"
   ]
  },
  {
   "cell_type": "code",
   "execution_count": null,
   "metadata": {},
   "outputs": [],
   "source": [
    "#Mean absolute error finding from scratch\n",
    "result=np.subtract(actual_op,predicted_op)\n",
    "print(result)\n",
    "abs_result=abs(result)\n",
    "print(abs_result)\n",
    "\n",
    "sum=0\n",
    "for i in abs_result:\n",
    "    sum=i+sum\n",
    "print(sum)\n",
    "length=(len(predicted_op))\n",
    "print(length)\n",
    "MAE=sum/length\n",
    "print('\\nMAE: ',MAE)"
   ]
  },
  {
   "cell_type": "code",
   "execution_count": null,
   "metadata": {},
   "outputs": [],
   "source": [
    "#Mean absolute error finding from scratch with while loop\n",
    "i=0\n",
    "c=0\n",
    "# while i<len(predicted_op):\n",
    "while i in range(0,11):\n",
    "    \n",
    "#     print(i)\n",
    "    a=predicted_op[i]\n",
    "    b=actual_op[i]\n",
    "    c=abs(a-b)+c\n",
    "    i=i+1\n",
    "MAE_1=c/(length)\n",
    "print('MAE: ',MAE_1)\n",
    "    \n",
    "\n",
    "# reg.score(X_train, y_train)"
   ]
  },
  {
   "cell_type": "code",
   "execution_count": null,
   "metadata": {},
   "outputs": [],
   "source": [
    "# print(np.sqrt(metrics.mean_squared_error(y_train,y_test)))"
   ]
  },
  {
   "cell_type": "code",
   "execution_count": null,
   "metadata": {},
   "outputs": [],
   "source": [
    "from sklearn import linear_model\n",
    "from sklearn.metrics import mean_squared_error, r2_score"
   ]
  },
  {
   "cell_type": "code",
   "execution_count": null,
   "metadata": {},
   "outputs": [],
   "source": [
    "model = linear_model.LinearRegression()"
   ]
  },
  {
   "cell_type": "code",
   "execution_count": null,
   "metadata": {},
   "outputs": [],
   "source": [
    "model.fit(X_train, y_train)"
   ]
  },
  {
   "cell_type": "code",
   "execution_count": null,
   "metadata": {},
   "outputs": [],
   "source": [
    "print('Coefficient: \\n', model.coef_)"
   ]
  },
  {
   "cell_type": "code",
   "execution_count": null,
   "metadata": {},
   "outputs": [],
   "source": [
    "y_pred = model.predict(X_test)"
   ]
  },
  {
   "cell_type": "code",
   "execution_count": null,
   "metadata": {},
   "outputs": [],
   "source": [
    "print(\"Mean squared error: %.2f\"\n",
    "      % mean_squared_error(y_test, y_pred))\n",
    "print('r_2 statistic: %.2f' % r2_score(y_test, y_pred))"
   ]
  },
  {
   "cell_type": "code",
   "execution_count": null,
   "metadata": {},
   "outputs": [],
   "source": [
    "from matplotlib import pyplot as plt\n",
    "plt.scatter(X_train, y_train)\n",
    "plt.plot(X_test, y_pred, color='red')\n",
    "# x_actual = np.array([0, 100])\n",
    "# y_actual = x_actual*beta\n",
    "# plt.plot(x_actual, y_actual, color='green')\n",
    "plt.show()"
   ]
  },
  {
   "cell_type": "code",
   "execution_count": null,
   "metadata": {},
   "outputs": [],
   "source": []
  }
 ],
 "metadata": {
  "kernelspec": {
   "display_name": "Python 3",
   "language": "python",
   "name": "python3"
  },
  "language_info": {
   "codemirror_mode": {
    "name": "ipython",
    "version": 3
   },
   "file_extension": ".py",
   "mimetype": "text/x-python",
   "name": "python",
   "nbconvert_exporter": "python",
   "pygments_lexer": "ipython3",
   "version": "3.6.5"
  }
 },
 "nbformat": 4,
 "nbformat_minor": 2
}
