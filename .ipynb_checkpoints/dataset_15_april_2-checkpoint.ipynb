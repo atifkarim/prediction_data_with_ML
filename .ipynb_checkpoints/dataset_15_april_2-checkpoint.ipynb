{
 "cells": [
  {
   "cell_type": "code",
   "execution_count": 83,
   "metadata": {},
   "outputs": [],
   "source": [
    "import pandas as pd\n",
    "import numpy as np\n",
    "\n",
    "import datetime\n",
    "import matplotlib.pyplot as plt\n",
    "import matplotlib.dates as md\n",
    "import numpy as np\n",
    "import datetime as dt\n",
    "import time\n",
    "%matplotlib inline"
   ]
  },
  {
   "cell_type": "code",
   "execution_count": 96,
   "metadata": {},
   "outputs": [
    {
     "data": {
      "text/html": [
       "<div>\n",
       "<style scoped>\n",
       "    .dataframe tbody tr th:only-of-type {\n",
       "        vertical-align: middle;\n",
       "    }\n",
       "\n",
       "    .dataframe tbody tr th {\n",
       "        vertical-align: top;\n",
       "    }\n",
       "\n",
       "    .dataframe thead th {\n",
       "        text-align: right;\n",
       "    }\n",
       "</style>\n",
       "<table border=\"1\" class=\"dataframe\">\n",
       "  <thead>\n",
       "    <tr style=\"text-align: right;\">\n",
       "      <th></th>\n",
       "      <th>longTime</th>\n",
       "      <th>AEAGHOAWE2T1</th>\n",
       "    </tr>\n",
       "  </thead>\n",
       "  <tbody>\n",
       "    <tr>\n",
       "      <th>0</th>\n",
       "      <td>2019-04-15</td>\n",
       "      <td>74.451979</td>\n",
       "    </tr>\n",
       "    <tr>\n",
       "      <th>1</th>\n",
       "      <td>2019-04-15</td>\n",
       "      <td>73.933103</td>\n",
       "    </tr>\n",
       "    <tr>\n",
       "      <th>2</th>\n",
       "      <td>2019-04-15</td>\n",
       "      <td>73.471742</td>\n",
       "    </tr>\n",
       "    <tr>\n",
       "      <th>3</th>\n",
       "      <td>2019-04-15</td>\n",
       "      <td>73.010381</td>\n",
       "    </tr>\n",
       "    <tr>\n",
       "      <th>4</th>\n",
       "      <td>2019-04-15</td>\n",
       "      <td>72.549020</td>\n",
       "    </tr>\n",
       "  </tbody>\n",
       "</table>\n",
       "</div>"
      ],
      "text/plain": [
       "     longTime  AEAGHOAWE2T1\n",
       "0  2019-04-15     74.451979\n",
       "1  2019-04-15     73.933103\n",
       "2  2019-04-15     73.471742\n",
       "3  2019-04-15     73.010381\n",
       "4  2019-04-15     72.549020"
      ]
     },
     "execution_count": 96,
     "metadata": {},
     "output_type": "execute_result"
    }
   ],
   "source": [
    "test= pd.read_csv('E:/University of Bremen MSc/masters_thesis/test.csv')\n",
    "test.head()"
   ]
  },
  {
   "cell_type": "code",
   "execution_count": 85,
   "metadata": {},
   "outputs": [
    {
     "name": "stdout",
     "output_type": "stream",
     "text": [
      "     longTime\n",
      "0  2019-04-15\n",
      "1  2019-04-15\n",
      "2  2019-04-15\n",
      "3  2019-04-15\n",
      "4  2019-04-15\n",
      "5  2019-04-15\n"
     ]
    }
   ],
   "source": [
    "ts_1 = test.loc[0:8,['longTime']]\n",
    "\n",
    "# # pd.to_datetime(ts_1, format='%Y%m%d', errors='ignore')\n",
    "# ts_2 = test.loc[0:5,['AEAGHOAWE2T1']]\n",
    "# ts_1=ts_1.as_matrix()\n",
    "# ts_2=ts_2.as_matrix()\n",
    "print(ts_1)\n",
    "# ts_3=np.concatenate((ts_1,ts_2), axis=0)\n",
    "# # print(ts_3)"
   ]
  },
  {
   "cell_type": "code",
   "execution_count": 62,
   "metadata": {},
   "outputs": [
    {
     "name": "stdout",
     "output_type": "stream",
     "text": [
      "[[1 1]\n",
      " [2 2]\n",
      " [3 3]]\n"
     ]
    }
   ],
   "source": [
    "# print(ts_3[0])\n",
    "a=np.array([[1],[2],[3]])\n",
    "# a=np.array([1,2,3])\n",
    "# b=np.array([1,2,3])\n",
    "b=np.array([[1],[2],[3]])\n",
    "# print(a[0:])\n",
    "# print(b[0:])\n",
    "# c=np.concatenate((a,b),axis=0)\n",
    "# c = np.vstack((a, b)).T\n",
    "d=np.column_stack((a,b))\n",
    "print(d)"
   ]
  },
  {
   "cell_type": "code",
   "execution_count": 74,
   "metadata": {},
   "outputs": [
    {
     "name": "stdout",
     "output_type": "stream",
     "text": [
      "2019-04-15 08:52:00\n",
      "2019-04-15 08:51:00\n",
      "2019-04-15 08:50:00\n",
      "2019-04-15 08:49:00\n",
      "2019-04-15 08:48:00\n",
      "2019-04-15 08:47:00\n"
     ]
    },
    {
     "name": "stderr",
     "output_type": "stream",
     "text": [
      "C:\\Users\\atif\\Anaconda3\\lib\\site-packages\\ipykernel_launcher.py:5: FutureWarning: Method .as_matrix will be removed in a future version. Use .values instead.\n",
      "  \"\"\"\n"
     ]
    }
   ],
   "source": [
    "import time\n",
    "import datetime\n",
    "\n",
    "longTime=test.loc[::1,['longTime']]\n",
    "longTime=longTime.as_matrix()\n",
    "# print(type(longTime))\n",
    "a=[]\n",
    "date_time_array=[]\n",
    "for k in longTime:\n",
    "    a=np.append(a,k)\n",
    "\n",
    "# print(a[0:])\n",
    "# print(a[-2:])\n",
    "count=0\n",
    "for b in a:\n",
    "    b=int(b) # make plain integer\n",
    "    str_b=str(b)\n",
    "    c=str_b[-3:]\n",
    "    new_str_b=str_b.replace(c, '',1)\n",
    "    new_str_b_time=int(new_str_b)\n",
    "    \n",
    "    now_time=datetime.datetime.fromtimestamp(new_str_b_time)\n",
    "    convert_time=now_time.strftime('%Y-%m-%d %H:%M:%S')\n",
    "    \n",
    "#     print('count_num: ',count,' unix_time: ',convert_time)\n",
    "    date_time_obj = datetime.datetime.strptime(convert_time, '%Y-%m-%d %H:%M:%S')\n",
    "    date_time_array=np.append(date_time_array,date_time_obj)\n",
    "#     print('count_num: ',count,' convert_time: ',convert_time,\" date_time_obj: \",date_time_obj,\" str_time\",new_str_b_time)\n",
    "#     count+=1\n",
    "\n",
    "# print(date_time_array.size)\n",
    "for q in date_time_array[::1]:\n",
    "# #     q=q.split(\" \")\n",
    "# #     split_q=np.append(split_q,q)\n",
    "#     print(\"count: \",count,\" date: \",q.date(),\" time: \",q.time())\n",
    "    count+=1\n",
    "    print(q)\n",
    "# #     print(type(q))"
   ]
  },
  {
   "cell_type": "code",
   "execution_count": 3,
   "metadata": {},
   "outputs": [],
   "source": [
    "production = pd.read_csv(\"E:/University of Bremen MSc/masters_thesis/dataset_15_april_10000_1.csv\",parse_dates=[0], index_col=0)"
   ]
  },
  {
   "cell_type": "code",
   "execution_count": 4,
   "metadata": {},
   "outputs": [
    {
     "data": {
      "text/html": [
       "<div>\n",
       "<style scoped>\n",
       "    .dataframe tbody tr th:only-of-type {\n",
       "        vertical-align: middle;\n",
       "    }\n",
       "\n",
       "    .dataframe tbody tr th {\n",
       "        vertical-align: top;\n",
       "    }\n",
       "\n",
       "    .dataframe thead th {\n",
       "        text-align: right;\n",
       "    }\n",
       "</style>\n",
       "<table border=\"1\" class=\"dataframe\">\n",
       "  <thead>\n",
       "    <tr style=\"text-align: right;\">\n",
       "      <th></th>\n",
       "      <th>longTime</th>\n",
       "      <th>AEAGHOAWE2T1</th>\n",
       "      <th>AEAGHOAWE2A0</th>\n",
       "      <th>AEAGHOAWE2T0</th>\n",
       "      <th>AEAGHOAWE1A0</th>\n",
       "      <th>AEAGHOAWE1T1</th>\n",
       "      <th>AEAGHOAWE1T0</th>\n",
       "      <th>AEAGHOAWE3T0</th>\n",
       "      <th>AEAGHOAWE3A0</th>\n",
       "      <th>AEAGHOAWE3T1</th>\n",
       "      <th>...</th>\n",
       "      <th>RWWIHOUT10V1</th>\n",
       "      <th>RWWIHOT7_RV0</th>\n",
       "      <th>RWWIHOT8_RV0</th>\n",
       "      <th>RWWIHOT9_RV0</th>\n",
       "      <th>RWWIHOT10RV0</th>\n",
       "      <th>RWWIHOTSURV0</th>\n",
       "      <th>RWWIHOTSUMV0</th>\n",
       "      <th>RWWIHO_VERV0</th>\n",
       "      <th>RWWIHO_UESV0</th>\n",
       "      <th>RWWIHOSUMAV0</th>\n",
       "    </tr>\n",
       "    <tr>\n",
       "      <th>row ID</th>\n",
       "      <th></th>\n",
       "      <th></th>\n",
       "      <th></th>\n",
       "      <th></th>\n",
       "      <th></th>\n",
       "      <th></th>\n",
       "      <th></th>\n",
       "      <th></th>\n",
       "      <th></th>\n",
       "      <th></th>\n",
       "      <th></th>\n",
       "      <th></th>\n",
       "      <th></th>\n",
       "      <th></th>\n",
       "      <th></th>\n",
       "      <th></th>\n",
       "      <th></th>\n",
       "      <th></th>\n",
       "      <th></th>\n",
       "      <th></th>\n",
       "      <th></th>\n",
       "    </tr>\n",
       "  </thead>\n",
       "  <tbody>\n",
       "    <tr>\n",
       "      <th>Row9997</th>\n",
       "      <td>1554108180000</td>\n",
       "      <td>58.823529</td>\n",
       "      <td>49.537076</td>\n",
       "      <td>92.701468</td>\n",
       "      <td>54.126174</td>\n",
       "      <td>73.056803</td>\n",
       "      <td>67.306207</td>\n",
       "      <td>92.598797</td>\n",
       "      <td>57.187621</td>\n",
       "      <td>90.052492</td>\n",
       "      <td>...</td>\n",
       "      <td>0.0</td>\n",
       "      <td>92.421697</td>\n",
       "      <td>44.620461</td>\n",
       "      <td>19.836008</td>\n",
       "      <td>81.637211</td>\n",
       "      <td>74.997776</td>\n",
       "      <td>64.420902</td>\n",
       "      <td>73.387147</td>\n",
       "      <td>0.392325</td>\n",
       "      <td>10.622049</td>\n",
       "    </tr>\n",
       "    <tr>\n",
       "      <th>Row9998</th>\n",
       "      <td>1554108120000</td>\n",
       "      <td>58.823529</td>\n",
       "      <td>46.087484</td>\n",
       "      <td>92.701468</td>\n",
       "      <td>47.816162</td>\n",
       "      <td>72.589240</td>\n",
       "      <td>67.306207</td>\n",
       "      <td>92.598797</td>\n",
       "      <td>49.676277</td>\n",
       "      <td>89.121717</td>\n",
       "      <td>...</td>\n",
       "      <td>0.0</td>\n",
       "      <td>92.084443</td>\n",
       "      <td>44.620461</td>\n",
       "      <td>20.600433</td>\n",
       "      <td>81.726611</td>\n",
       "      <td>74.912559</td>\n",
       "      <td>64.905961</td>\n",
       "      <td>75.226676</td>\n",
       "      <td>0.392267</td>\n",
       "      <td>9.193231</td>\n",
       "    </tr>\n",
       "    <tr>\n",
       "      <th>Row9999</th>\n",
       "      <td>1554108060000</td>\n",
       "      <td>58.823529</td>\n",
       "      <td>48.141182</td>\n",
       "      <td>92.701468</td>\n",
       "      <td>50.326961</td>\n",
       "      <td>72.121676</td>\n",
       "      <td>67.321417</td>\n",
       "      <td>92.598797</td>\n",
       "      <td>52.898292</td>\n",
       "      <td>88.656330</td>\n",
       "      <td>...</td>\n",
       "      <td>0.0</td>\n",
       "      <td>92.102288</td>\n",
       "      <td>44.620461</td>\n",
       "      <td>21.992768</td>\n",
       "      <td>81.808420</td>\n",
       "      <td>75.397170</td>\n",
       "      <td>65.591365</td>\n",
       "      <td>74.039625</td>\n",
       "      <td>0.391887</td>\n",
       "      <td>10.829791</td>\n",
       "    </tr>\n",
       "  </tbody>\n",
       "</table>\n",
       "<p>3 rows × 4219 columns</p>\n",
       "</div>"
      ],
      "text/plain": [
       "              longTime  AEAGHOAWE2T1  AEAGHOAWE2A0  AEAGHOAWE2T0  \\\n",
       "row ID                                                             \n",
       "Row9997  1554108180000     58.823529     49.537076     92.701468   \n",
       "Row9998  1554108120000     58.823529     46.087484     92.701468   \n",
       "Row9999  1554108060000     58.823529     48.141182     92.701468   \n",
       "\n",
       "         AEAGHOAWE1A0  AEAGHOAWE1T1  AEAGHOAWE1T0  AEAGHOAWE3T0  AEAGHOAWE3A0  \\\n",
       "row ID                                                                          \n",
       "Row9997     54.126174     73.056803     67.306207     92.598797     57.187621   \n",
       "Row9998     47.816162     72.589240     67.306207     92.598797     49.676277   \n",
       "Row9999     50.326961     72.121676     67.321417     92.598797     52.898292   \n",
       "\n",
       "         AEAGHOAWE3T1      ...       RWWIHOUT10V1  RWWIHOT7_RV0  RWWIHOT8_RV0  \\\n",
       "row ID                     ...                                                  \n",
       "Row9997     90.052492      ...                0.0     92.421697     44.620461   \n",
       "Row9998     89.121717      ...                0.0     92.084443     44.620461   \n",
       "Row9999     88.656330      ...                0.0     92.102288     44.620461   \n",
       "\n",
       "         RWWIHOT9_RV0  RWWIHOT10RV0  RWWIHOTSURV0  RWWIHOTSUMV0  RWWIHO_VERV0  \\\n",
       "row ID                                                                          \n",
       "Row9997     19.836008     81.637211     74.997776     64.420902     73.387147   \n",
       "Row9998     20.600433     81.726611     74.912559     64.905961     75.226676   \n",
       "Row9999     21.992768     81.808420     75.397170     65.591365     74.039625   \n",
       "\n",
       "         RWWIHO_UESV0  RWWIHOSUMAV0  \n",
       "row ID                               \n",
       "Row9997      0.392325     10.622049  \n",
       "Row9998      0.392267      9.193231  \n",
       "Row9999      0.391887     10.829791  \n",
       "\n",
       "[3 rows x 4219 columns]"
      ]
     },
     "execution_count": 4,
     "metadata": {},
     "output_type": "execute_result"
    }
   ],
   "source": [
    "production.tail(3)"
   ]
  },
  {
   "cell_type": "code",
   "execution_count": 12,
   "metadata": {},
   "outputs": [
    {
     "data": {
      "image/png": "[encoded data removed]",
      "text/plain": [
       "<Figure size 432x288 with 1 Axes>"
      ]
     },
     "metadata": {},
     "output_type": "display_data"
    }
   ],
   "source": [
    "plt.plot(date_time_array, production['AEAGHOAWE2T1'])\n",
    "plt.title('Actual wind generation in Germany in MW')\n",
    "plt.xticks( rotation=25)\n",
    "plt.xlim(min(date_time_array),max(date_time_array))\n",
    "# plt.ylim(0, 35000)\n",
    "plt.show()"
   ]
  },
  {
   "cell_type": "markdown",
   "metadata": {},
   "source": [
    "# https://machinelearningmastery.com/arima-for-time-series-forecasting-with-python/ followed this"
   ]
  },
  {
   "cell_type": "code",
   "execution_count": 105,
   "metadata": {},
   "outputs": [
    {
     "name": "stdout",
     "output_type": "stream",
     "text": [
      "longTime\n",
      "2019-04-15 08:52:00    74.451979\n",
      "2019-04-15 08:51:00    73.933103\n",
      "2019-04-15 08:50:00    73.471742\n",
      "2019-04-15 08:49:00    73.010381\n",
      "2019-04-15 08:48:00    72.549020\n",
      "Name: AEAGHOAWE2T1, dtype: float64\n"
     ]
    },
    {
     "data": {
      "image/png": "[encoded data removed]",
      "text/plain": [
       "<Figure size 432x288 with 1 Axes>"
      ]
     },
     "metadata": {},
     "output_type": "display_data"
    }
   ],
   "source": [
    "from pandas import read_csv\n",
    "from pandas import datetime\n",
    "from matplotlib import pyplot\n",
    " \n",
    "def parser(x):\n",
    "    return datetime.strptime(x, '%Y-%m-%d %H:%M:%S')\n",
    " \n",
    "series = read_csv('E:/University of Bremen MSc/masters_thesis/test.csv',\n",
    "                  header=0, parse_dates=[0], index_col=0, squeeze=True, date_parser=parser)\n",
    "print(series.head())\n",
    "series.plot()\n",
    "pyplot.show()"
   ]
  },
  {
   "cell_type": "code",
   "execution_count": 106,
   "metadata": {},
   "outputs": [
    {
     "name": "stderr",
     "output_type": "stream",
     "text": [
      "C:\\Users\\atif\\Anaconda3\\lib\\site-packages\\ipykernel_launcher.py:11: FutureWarning: 'pandas.tools.plotting.autocorrelation_plot' is deprecated, import 'pandas.plotting.autocorrelation_plot' instead.\n",
      "  # This is added back by InteractiveShellApp.init_path()\n"
     ]
    },
    {
     "data": {
      "image/png": "[encoded data removed]",
      "text/plain": [
       "<Figure size 432x288 with 1 Axes>"
      ]
     },
     "metadata": {},
     "output_type": "display_data"
    }
   ],
   "source": [
    "from pandas import read_csv\n",
    "from pandas import datetime\n",
    "from matplotlib import pyplot\n",
    "from pandas.tools.plotting import autocorrelation_plot\n",
    " \n",
    "def parser(x):\n",
    "    return datetime.strptime(x, '%Y-%m-%d %H:%M:%S')\n",
    " \n",
    "series = read_csv('E:/University of Bremen MSc/masters_thesis/test.csv',\n",
    "                  header=0, parse_dates=[0], index_col=0, squeeze=True, date_parser=parser)\n",
    "autocorrelation_plot(series)\n",
    "pyplot.show()"
   ]
  },
  {
   "cell_type": "code",
   "execution_count": 110,
   "metadata": {},
   "outputs": [
    {
     "name": "stderr",
     "output_type": "stream",
     "text": [
      "C:\\Users\\atif\\Anaconda3\\lib\\site-packages\\statsmodels\\tsa\\base\\tsa_model.py:171: ValueWarning: No frequency information was provided, so inferred frequency -1T will be used.\n",
      "  % freq, ValueWarning)\n",
      "C:\\Users\\atif\\Anaconda3\\lib\\site-packages\\statsmodels\\tsa\\base\\tsa_model.py:171: ValueWarning: No frequency information was provided, so inferred frequency -1T will be used.\n",
      "  % freq, ValueWarning)\n",
      "C:\\Users\\atif\\Anaconda3\\lib\\site-packages\\statsmodels\\tsa\\kalmanf\\kalmanfilter.py:649: RuntimeWarning: divide by zero encountered in true_divide\n",
      "  R_mat, T_mat)\n",
      "C:\\Users\\atif\\Anaconda3\\lib\\site-packages\\statsmodels\\tsa\\tsatools.py:607: RuntimeWarning: invalid value encountered in true_divide\n",
      "  (1+np.exp(-params))).copy()\n",
      "C:\\Users\\atif\\Anaconda3\\lib\\site-packages\\statsmodels\\tsa\\tsatools.py:609: RuntimeWarning: invalid value encountered in true_divide\n",
      "  (1+np.exp(-params))).copy()\n",
      "C:\\Users\\atif\\Anaconda3\\lib\\site-packages\\numpy\\linalg\\linalg.py:1728: RuntimeWarning: invalid value encountered in greater\n",
      "  large = s > cutoff\n"
     ]
    },
    {
     "name": "stdout",
     "output_type": "stream",
     "text": [
      "                             ARIMA Model Results                              \n",
      "==============================================================================\n",
      "Dep. Variable:         D.AEAGHOAWE2T1   No. Observations:                    5\n",
      "Model:                 ARIMA(1, 1, 0)   Log Likelihood                   1.180\n",
      "Method:                       css-mle   S.D. of innovations              0.191\n",
      "Date:                Tue, 23 Apr 2019   AIC                              3.639\n",
      "Time:                        18:39:13   BIC                              2.468\n",
      "Sample:                    04-15-2019   HQIC                             0.495\n",
      "                         - 04-15-2019                                         \n",
      "========================================================================================\n",
      "                           coef    std err          z      P>|z|      [0.025      0.975]\n",
      "----------------------------------------------------------------------------------------\n",
      "const                   -0.3872      0.085     -4.569      0.020      -0.553      -0.221\n",
      "ar.L1.D.AEAGHOAWE2T1    -0.1480      0.903     -0.164      0.880      -1.918       1.622\n",
      "                                    Roots                                    \n",
      "=============================================================================\n",
      "                  Real          Imaginary           Modulus         Frequency\n",
      "-----------------------------------------------------------------------------\n",
      "AR.1           -6.7547           +0.0000j            6.7547            0.5000\n",
      "-----------------------------------------------------------------------------\n"
     ]
    },
    {
     "data": {
      "image/png": "[encoded data removed]",
      "text/plain": [
       "<Figure size 432x288 with 1 Axes>"
      ]
     },
     "metadata": {},
     "output_type": "display_data"
    },
    {
     "data": {
      "image/png": "[encoded data removed]",
      "text/plain": [
       "<Figure size 432x288 with 1 Axes>"
      ]
     },
     "metadata": {},
     "output_type": "display_data"
    },
    {
     "name": "stdout",
     "output_type": "stream",
     "text": [
      "              0\n",
      "count  5.000000\n",
      "mean  -0.003899\n",
      "std    0.213351\n",
      "min   -0.131695\n",
      "25%   -0.093677\n",
      "50%   -0.085162\n",
      "75%   -0.085162\n",
      "max    0.376199\n"
     ]
    }
   ],
   "source": [
    "from pandas import read_csv\n",
    "from pandas import datetime\n",
    "from pandas import DataFrame\n",
    "from statsmodels.tsa.arima_model import ARIMA\n",
    "from matplotlib import pyplot\n",
    " \n",
    "def parser(x):\n",
    "    return datetime.strptime(x, '%Y-%m-%d %H:%M:%S')\n",
    " \n",
    "series = read_csv('E:/University of Bremen MSc/masters_thesis/test.csv',\n",
    "                  header=0, parse_dates=[0], index_col=0, squeeze=True, date_parser=parser)\n",
    "# fit model\n",
    "model = ARIMA(series, order=(1,1,0))\n",
    "model_fit = model.fit(disp=0)\n",
    "print(model_fit.summary())\n",
    "# plot residual errors\n",
    "residuals = DataFrame(model_fit.resid)\n",
    "residuals.plot()\n",
    "pyplot.show()\n",
    "residuals.plot(kind='kde')\n",
    "pyplot.show()\n",
    "print(residuals.describe())"
   ]
  },
  {
   "cell_type": "code",
   "execution_count": null,
   "metadata": {},
   "outputs": [],
   "source": [
    "from pandas import read_csv\n",
    "from pandas import datetime\n",
    "from matplotlib import pyplot\n",
    "from statsmodels.tsa.arima_model import ARIMA\n",
    "from sklearn.metrics import mean_squared_error\n",
    "\n",
    "def parser(x):\n",
    "    return datetime.strptime(x, '%Y-%m-%d %H:%M:%S')\n",
    "\n",
    "series = read_csv('E:/University of Bremen MSc/masters_thesis/test.csv',\n",
    "                  header=0, parse_dates=[0], index_col=0, squeeze=True, date_parser=parser)\n",
    "X = series.values\n",
    "size = int(len(X) * 0.66)\n",
    "train, test = X[0:size], X[size:len(X)]\n",
    "history = [x for x in train]\n",
    "predictions = list()\n",
    "for t in range(len(test)):\n",
    "    model = ARIMA(history, order=(1,1,0))\n",
    "    model_fit = model.fit(disp=0)\n",
    "    output = model_fit.forecast()\n",
    "    yhat = output[0]\n",
    "    predictions.append(yhat)\n",
    "    obs = test[t]\n",
    "    history.append(obs)\n",
    "    print('predicted=%f, expected=%f' % (yhat, obs))\n",
    "error = mean_squared_error(test, predictions)\n",
    "print('Test MSE: %.3f' % error)\n",
    "# plot\n",
    "pyplot.plot(test)\n",
    "pyplot.plot(predictions, color='red')\n",
    "pyplot.show()"
   ]
  }
 ],
 "metadata": {
  "kernelspec": {
   "display_name": "Python 3",
   "language": "python",
   "name": "python3"
  },
  "language_info": {
   "codemirror_mode": {
    "name": "ipython",
    "version": 3
   },
   "file_extension": ".py",
   "mimetype": "text/x-python",
   "name": "python",
   "nbconvert_exporter": "python",
   "pygments_lexer": "ipython3",
   "version": "3.6.5"
  }
 },
 "nbformat": 4,
 "nbformat_minor": 2
}
