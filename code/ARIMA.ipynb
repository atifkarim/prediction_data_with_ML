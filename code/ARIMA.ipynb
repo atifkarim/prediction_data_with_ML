{
 "cells": [
  {
   "cell_type": "markdown",
   "metadata": {},
   "source": [
    "# https://towardsdatascience.com/forecasting-exchange-rates-using-arima-in-python-f032f313fc56 taken from here the following code"
   ]
  },
  {
   "cell_type": "code",
   "execution_count": 1,
   "metadata": {},
   "outputs": [],
   "source": [
    "import pandas as pd\n",
    "from pandas import *\n",
    "import numpy as np\n",
    "import time\n",
    "import datetime\n",
    "import matplotlib.pyplot as plt\n",
    "import matplotlib.dates as md\n",
    "import numpy as np\n",
    "import datetime as dt\n",
    "%matplotlib inline\n",
    "import warnings\n",
    "import itertools\n",
    "import statsmodels.api as sm\n",
    "from statsmodels.tsa.arima_model import ARIMA\n",
    "from sklearn.metrics import mean_squared_error"
   ]
  },
  {
   "cell_type": "code",
   "execution_count": 2,
   "metadata": {},
   "outputs": [],
   "source": [
    "test= pd.read_csv('E:/University of Bremen MSc/masters_thesis/IAT_sebastian/dataset_15_april_10000_1.csv')"
   ]
  },
  {
   "cell_type": "code",
   "execution_count": 3,
   "metadata": {},
   "outputs": [
    {
     "name": "stderr",
     "output_type": "stream",
     "text": [
      "C:\\Users\\atif\\Anaconda3\\lib\\site-packages\\ipykernel_launcher.py:2: FutureWarning: Method .as_matrix will be removed in a future version. Use .values instead.\n",
      "  \n"
     ]
    }
   ],
   "source": [
    "longTime=test.loc[0:,['longTime']]\n",
    "longTime=longTime.as_matrix()\n",
    "a=[]\n",
    "date_time_array=[]\n",
    "for k in longTime:\n",
    "    a=np.append(a,k)\n",
    "str_time=[]\n",
    "correct_longtime=[]\n",
    "datetime_time=[]\n",
    "count=0\n",
    "for b in a:\n",
    "    b=int(b) # make plain integer\n",
    "    str_b=str(b)\n",
    "    c=str_b[-3:]\n",
    "    new_str_b=str_b.replace(c, '',1)\n",
    "    new_str_b_time=int(new_str_b)\n",
    "    correct_longtime.append(new_str_b_time)\n",
    "    now_time=datetime.datetime.fromtimestamp(new_str_b_time)\n",
    "    convert_time=now_time.strftime('%Y-%m-%d %H:%M')\n",
    "    str_time.append(convert_time)\n",
    "# print(str_time)\n",
    "test_new = test.assign(stringTime=str_time,correct_longtime=correct_longtime) # here new column in the panda dataframe for string_time has added"
   ]
  },
  {
   "cell_type": "code",
   "execution_count": 4,
   "metadata": {},
   "outputs": [],
   "source": [
    "test_new['dateTime'] =  pd.to_datetime(test_new['stringTime'], format='%Y-%m-%d %H:%M')"
   ]
  },
  {
   "cell_type": "code",
   "execution_count": 14,
   "metadata": {},
   "outputs": [],
   "source": [
    "my_data=test_new.loc[200:250,['dateTime','AEDAHO_T9_V2']]"
   ]
  },
  {
   "cell_type": "code",
   "execution_count": 15,
   "metadata": {},
   "outputs": [
    {
     "data": {
      "text/html": [
       "<div>\n",
       "<style scoped>\n",
       "    .dataframe tbody tr th:only-of-type {\n",
       "        vertical-align: middle;\n",
       "    }\n",
       "\n",
       "    .dataframe tbody tr th {\n",
       "        vertical-align: top;\n",
       "    }\n",
       "\n",
       "    .dataframe thead th {\n",
       "        text-align: right;\n",
       "    }\n",
       "</style>\n",
       "<table border=\"1\" class=\"dataframe\">\n",
       "  <thead>\n",
       "    <tr style=\"text-align: right;\">\n",
       "      <th></th>\n",
       "      <th>AEDAHO_T9_V2</th>\n",
       "    </tr>\n",
       "    <tr>\n",
       "      <th>dateTime</th>\n",
       "      <th></th>\n",
       "    </tr>\n",
       "  </thead>\n",
       "  <tbody>\n",
       "    <tr>\n",
       "      <th>2019-04-11 16:54:00</th>\n",
       "      <td>42.040317</td>\n",
       "    </tr>\n",
       "    <tr>\n",
       "      <th>2019-04-11 16:53:00</th>\n",
       "      <td>42.105153</td>\n",
       "    </tr>\n",
       "    <tr>\n",
       "      <th>2019-04-11 16:52:00</th>\n",
       "      <td>42.097709</td>\n",
       "    </tr>\n",
       "    <tr>\n",
       "      <th>2019-04-11 16:51:00</th>\n",
       "      <td>42.127110</td>\n",
       "    </tr>\n",
       "    <tr>\n",
       "      <th>2019-04-11 16:50:00</th>\n",
       "      <td>42.001027</td>\n",
       "    </tr>\n",
       "  </tbody>\n",
       "</table>\n",
       "</div>"
      ],
      "text/plain": [
       "                     AEDAHO_T9_V2\n",
       "dateTime                         \n",
       "2019-04-11 16:54:00     42.040317\n",
       "2019-04-11 16:53:00     42.105153\n",
       "2019-04-11 16:52:00     42.097709\n",
       "2019-04-11 16:51:00     42.127110\n",
       "2019-04-11 16:50:00     42.001027"
      ]
     },
     "execution_count": 15,
     "metadata": {},
     "output_type": "execute_result"
    }
   ],
   "source": [
    "my_data_1 = my_data.set_index('dateTime')\n",
    "my_data_1.head()"
   ]
  },
  {
   "cell_type": "code",
   "execution_count": 16,
   "metadata": {},
   "outputs": [],
   "source": [
    "# from statsmodels.tsa.arima_model import ARIMA\n",
    "\n",
    "#Function that calls ARIMA model to fit and forecast the data\n",
    "def StartARIMAForecasting(Actual, P, D, Q):\n",
    "    model = ARIMA(Actual, order=(P, D, Q))\n",
    "    model_fit = model.fit(disp=0)\n",
    "    prediction = model_fit.forecast()[0]\n",
    "    return prediction"
   ]
  },
  {
   "cell_type": "code",
   "execution_count": 17,
   "metadata": {},
   "outputs": [
    {
     "name": "stdout",
     "output_type": "stream",
     "text": [
      "51\n"
     ]
    },
    {
     "name": "stderr",
     "output_type": "stream",
     "text": [
      "C:\\Users\\atif\\Anaconda3\\lib\\site-packages\\ipykernel_launcher.py:1: FutureWarning: Method .as_matrix will be removed in a future version. Use .values instead.\n",
      "  \"\"\"Entry point for launching an IPython kernel.\n"
     ]
    }
   ],
   "source": [
    "actual_val=my_data_1.as_matrix()\n",
    "print(actual_val.size)\n"
   ]
  },
  {
   "cell_type": "code",
   "execution_count": 18,
   "metadata": {},
   "outputs": [],
   "source": [
    "# predicted = StartARIMAForecasting(actual_val, 1,1,0)\n",
    "# #display the value\n",
    "# print('Predicted=%f' % (predicted))"
   ]
  },
  {
   "cell_type": "code",
   "execution_count": 19,
   "metadata": {},
   "outputs": [
    {
     "name": "stdout",
     "output_type": "stream",
     "text": [
      "51\n"
     ]
    }
   ],
   "source": [
    "print(len(actual_val))"
   ]
  },
  {
   "cell_type": "code",
   "execution_count": 20,
   "metadata": {},
   "outputs": [],
   "source": [
    "NumberOfElements = len(actual_val)\n",
    "\n",
    "#Use 70% of data as training, rest 30% to Test model\n",
    "TrainingSize = int(NumberOfElements * 0.7)\n",
    "TrainingData = actual_val[0:TrainingSize]\n",
    "TestData = actual_val[TrainingSize:NumberOfElements]"
   ]
  },
  {
   "cell_type": "code",
   "execution_count": 21,
   "metadata": {},
   "outputs": [],
   "source": [
    "Actual = [x for x in TrainingData]\n",
    "Predictions = list()"
   ]
  },
  {
   "cell_type": "code",
   "execution_count": 22,
   "metadata": {},
   "outputs": [],
   "source": [
    "#in a for loop, predict values using ARIMA model\n",
    "for timepoint in range(len(TestData)):\n",
    "    ActualValue =  TestData[timepoint]\n",
    "    #forcast value\n",
    "    Prediction = StartARIMAForecasting(Actual, 3,1,0)    \n",
    "#     print('Actual=%f, Predicted=%f' % (ActualValue, Prediction))\n",
    "    #add it in the list\n",
    "    Predictions.append(Prediction)\n",
    "    Actual.append(ActualValue)"
   ]
  },
  {
   "cell_type": "code",
   "execution_count": 25,
   "metadata": {},
   "outputs": [
    {
     "name": "stdout",
     "output_type": "stream",
     "text": [
      "Test Mean Squared Error (smaller the better fit): 0.018\n"
     ]
    },
    {
     "data": {
      "image/png": "[encoded data removed]",
      "text/plain": [
       "<Figure size 432x288 with 1 Axes>"
      ]
     },
     "metadata": {},
     "output_type": "display_data"
    }
   ],
   "source": [
    "from sklearn.metrics import mean_squared_error\n",
    "\n",
    "#Print MSE to see how good the model is\n",
    "Error = mean_squared_error(TestData, Predictions)\n",
    "print('Test Mean Squared Error (smaller the better fit): %.3f' % Error)\n",
    "# plot\n",
    "plt.plot(TestData,color='green')\n",
    "plt.plot(Predictions, color='red')\n",
    "# plt.xlim(my_data_1.index[-1],my_data_1.index[0])\n",
    "plt.show()"
   ]
  },
  {
   "cell_type": "code",
   "execution_count": null,
   "metadata": {},
   "outputs": [],
   "source": []
  }
 ],
 "metadata": {
  "kernelspec": {
   "display_name": "Python 3",
   "language": "python",
   "name": "python3"
  },
  "language_info": {
   "codemirror_mode": {
    "name": "ipython",
    "version": 3
   },
   "file_extension": ".py",
   "mimetype": "text/x-python",
   "name": "python",
   "nbconvert_exporter": "python",
   "pygments_lexer": "ipython3",
   "version": "3.6.5"
  }
 },
 "nbformat": 4,
 "nbformat_minor": 2
}
