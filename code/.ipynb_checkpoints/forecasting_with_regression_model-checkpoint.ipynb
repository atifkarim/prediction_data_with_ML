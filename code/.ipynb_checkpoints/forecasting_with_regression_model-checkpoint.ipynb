{
 "cells": [
  {
   "cell_type": "code",
   "execution_count": 1,
   "metadata": {},
   "outputs": [],
   "source": [
    "import pandas as pd\n",
    "import numpy as np\n",
    "import time\n",
    "import datetime\n",
    "import matplotlib.pyplot as plt\n",
    "import matplotlib.dates as md\n",
    "import numpy as np\n",
    "import datetime as dt\n",
    "%matplotlib inline"
   ]
  },
  {
   "cell_type": "code",
   "execution_count": 2,
   "metadata": {},
   "outputs": [],
   "source": [
    "test= pd.read_csv('E:/University of Bremen MSc/masters_thesis/IAT_sebastian/dataset_15_april_10000_1.csv')"
   ]
  },
  {
   "cell_type": "code",
   "execution_count": 3,
   "metadata": {},
   "outputs": [],
   "source": [
    "# test.info()\n",
    "# test.head()\n",
    "# test.columns"
   ]
  },
  {
   "cell_type": "code",
   "execution_count": 4,
   "metadata": {},
   "outputs": [
    {
     "name": "stderr",
     "output_type": "stream",
     "text": [
      "C:\\Users\\atif\\Anaconda3\\lib\\site-packages\\ipykernel_launcher.py:2: FutureWarning: Method .as_matrix will be removed in a future version. Use .values instead.\n",
      "  \n"
     ]
    }
   ],
   "source": [
    "longTime=test.loc[0:,['longTime']]\n",
    "longTime=longTime.as_matrix()\n",
    "a=[]\n",
    "date_time_array=[]\n",
    "for k in longTime:\n",
    "    a=np.append(a,k)\n",
    "str_time=[]\n",
    "correct_longtime=[]\n",
    "datetime_time=[]\n",
    "count=0\n",
    "for b in a:\n",
    "    b=int(b) # make plain integer\n",
    "    str_b=str(b)\n",
    "    c=str_b[-3:]\n",
    "    new_str_b=str_b.replace(c, '',1)\n",
    "    new_str_b_time=int(new_str_b)\n",
    "    correct_longtime.append(new_str_b_time)\n",
    "    now_time=datetime.datetime.fromtimestamp(new_str_b_time)\n",
    "    convert_time=now_time.strftime('%Y-%m-%d %H:%M')\n",
    "    str_time.append(convert_time)\n",
    "# print(str_time)\n",
    "test_new = test.assign(stringTime=str_time,correct_longtime=correct_longtime) # here new column in the panda dataframe for string_time has added"
   ]
  },
  {
   "cell_type": "code",
   "execution_count": 5,
   "metadata": {},
   "outputs": [
    {
     "data": {
      "text/html": [
       "<div>\n",
       "<style scoped>\n",
       "    .dataframe tbody tr th:only-of-type {\n",
       "        vertical-align: middle;\n",
       "    }\n",
       "\n",
       "    .dataframe tbody tr th {\n",
       "        vertical-align: top;\n",
       "    }\n",
       "\n",
       "    .dataframe thead th {\n",
       "        text-align: right;\n",
       "    }\n",
       "</style>\n",
       "<table border=\"1\" class=\"dataframe\">\n",
       "  <thead>\n",
       "    <tr style=\"text-align: right;\">\n",
       "      <th></th>\n",
       "      <th>row ID</th>\n",
       "      <th>longTime</th>\n",
       "      <th>AEAGHOAWE2T1</th>\n",
       "      <th>AEAGHOAWE2A0</th>\n",
       "      <th>AEAGHOAWE2T0</th>\n",
       "      <th>AEAGHOAWE1A0</th>\n",
       "      <th>AEAGHOAWE1T1</th>\n",
       "      <th>AEAGHOAWE1T0</th>\n",
       "      <th>AEAGHOAWE3T0</th>\n",
       "      <th>AEAGHOAWE3A0</th>\n",
       "      <th>...</th>\n",
       "      <th>RWWIHOT8_RV0</th>\n",
       "      <th>RWWIHOT9_RV0</th>\n",
       "      <th>RWWIHOT10RV0</th>\n",
       "      <th>RWWIHOTSURV0</th>\n",
       "      <th>RWWIHOTSUMV0</th>\n",
       "      <th>RWWIHO_VERV0</th>\n",
       "      <th>RWWIHO_UESV0</th>\n",
       "      <th>RWWIHOSUMAV0</th>\n",
       "      <th>stringTime</th>\n",
       "      <th>correct_longtime</th>\n",
       "    </tr>\n",
       "  </thead>\n",
       "  <tbody>\n",
       "    <tr>\n",
       "      <th>0</th>\n",
       "      <td>Row0</td>\n",
       "      <td>1555311120000</td>\n",
       "      <td>74.451979</td>\n",
       "      <td>19.111606</td>\n",
       "      <td>98.371549</td>\n",
       "      <td>18.819155</td>\n",
       "      <td>93.337524</td>\n",
       "      <td>69.969526</td>\n",
       "      <td>95.445534</td>\n",
       "      <td>7.802471</td>\n",
       "      <td>...</td>\n",
       "      <td>44.620461</td>\n",
       "      <td>22.338103</td>\n",
       "      <td>75.685755</td>\n",
       "      <td>73.945394</td>\n",
       "      <td>0.000000</td>\n",
       "      <td>0.000000</td>\n",
       "      <td>0.000000</td>\n",
       "      <td>0.000000</td>\n",
       "      <td>2019-04-15 08:52</td>\n",
       "      <td>1555311120</td>\n",
       "    </tr>\n",
       "    <tr>\n",
       "      <th>1</th>\n",
       "      <td>Row1</td>\n",
       "      <td>1555311060000</td>\n",
       "      <td>73.933103</td>\n",
       "      <td>18.088026</td>\n",
       "      <td>98.186038</td>\n",
       "      <td>18.943335</td>\n",
       "      <td>92.869960</td>\n",
       "      <td>69.969526</td>\n",
       "      <td>95.445534</td>\n",
       "      <td>12.856953</td>\n",
       "      <td>...</td>\n",
       "      <td>53.182296</td>\n",
       "      <td>26.967692</td>\n",
       "      <td>75.685755</td>\n",
       "      <td>66.649583</td>\n",
       "      <td>56.385432</td>\n",
       "      <td>68.734584</td>\n",
       "      <td>9.127668</td>\n",
       "      <td>2.275890</td>\n",
       "      <td>2019-04-15 08:51</td>\n",
       "      <td>1555311060</td>\n",
       "    </tr>\n",
       "    <tr>\n",
       "      <th>2</th>\n",
       "      <td>Row2</td>\n",
       "      <td>1555311000000</td>\n",
       "      <td>73.471742</td>\n",
       "      <td>25.843589</td>\n",
       "      <td>98.371549</td>\n",
       "      <td>33.166077</td>\n",
       "      <td>92.343799</td>\n",
       "      <td>69.969526</td>\n",
       "      <td>95.628479</td>\n",
       "      <td>21.591973</td>\n",
       "      <td>...</td>\n",
       "      <td>53.029243</td>\n",
       "      <td>26.851837</td>\n",
       "      <td>75.685755</td>\n",
       "      <td>66.587330</td>\n",
       "      <td>56.402658</td>\n",
       "      <td>68.853203</td>\n",
       "      <td>9.136596</td>\n",
       "      <td>2.275735</td>\n",
       "      <td>2019-04-15 08:50</td>\n",
       "      <td>1555311000</td>\n",
       "    </tr>\n",
       "    <tr>\n",
       "      <th>3</th>\n",
       "      <td>Row3</td>\n",
       "      <td>1555310940000</td>\n",
       "      <td>73.010381</td>\n",
       "      <td>27.772137</td>\n",
       "      <td>98.371549</td>\n",
       "      <td>35.991205</td>\n",
       "      <td>91.876236</td>\n",
       "      <td>69.850105</td>\n",
       "      <td>95.607810</td>\n",
       "      <td>19.492370</td>\n",
       "      <td>...</td>\n",
       "      <td>53.015226</td>\n",
       "      <td>26.266369</td>\n",
       "      <td>75.685755</td>\n",
       "      <td>66.373907</td>\n",
       "      <td>56.527297</td>\n",
       "      <td>69.391059</td>\n",
       "      <td>9.138625</td>\n",
       "      <td>2.281882</td>\n",
       "      <td>2019-04-15 08:49</td>\n",
       "      <td>1555310940</td>\n",
       "    </tr>\n",
       "    <tr>\n",
       "      <th>4</th>\n",
       "      <td>Row4</td>\n",
       "      <td>1555310880000</td>\n",
       "      <td>72.549020</td>\n",
       "      <td>18.402556</td>\n",
       "      <td>98.186038</td>\n",
       "      <td>19.591687</td>\n",
       "      <td>91.408672</td>\n",
       "      <td>69.969526</td>\n",
       "      <td>95.607810</td>\n",
       "      <td>8.014898</td>\n",
       "      <td>...</td>\n",
       "      <td>53.172932</td>\n",
       "      <td>26.605640</td>\n",
       "      <td>75.685755</td>\n",
       "      <td>66.529224</td>\n",
       "      <td>56.640964</td>\n",
       "      <td>69.299560</td>\n",
       "      <td>9.121256</td>\n",
       "      <td>2.269317</td>\n",
       "      <td>2019-04-15 08:48</td>\n",
       "      <td>1555310880</td>\n",
       "    </tr>\n",
       "  </tbody>\n",
       "</table>\n",
       "<p>5 rows × 4222 columns</p>\n",
       "</div>"
      ],
      "text/plain": [
       "  row ID       longTime  AEAGHOAWE2T1  AEAGHOAWE2A0  AEAGHOAWE2T0  \\\n",
       "0   Row0  1555311120000     74.451979     19.111606     98.371549   \n",
       "1   Row1  1555311060000     73.933103     18.088026     98.186038   \n",
       "2   Row2  1555311000000     73.471742     25.843589     98.371549   \n",
       "3   Row3  1555310940000     73.010381     27.772137     98.371549   \n",
       "4   Row4  1555310880000     72.549020     18.402556     98.186038   \n",
       "\n",
       "   AEAGHOAWE1A0  AEAGHOAWE1T1  AEAGHOAWE1T0  AEAGHOAWE3T0  AEAGHOAWE3A0  \\\n",
       "0     18.819155     93.337524     69.969526     95.445534      7.802471   \n",
       "1     18.943335     92.869960     69.969526     95.445534     12.856953   \n",
       "2     33.166077     92.343799     69.969526     95.628479     21.591973   \n",
       "3     35.991205     91.876236     69.850105     95.607810     19.492370   \n",
       "4     19.591687     91.408672     69.969526     95.607810      8.014898   \n",
       "\n",
       "         ...         RWWIHOT8_RV0  RWWIHOT9_RV0  RWWIHOT10RV0  RWWIHOTSURV0  \\\n",
       "0        ...            44.620461     22.338103     75.685755     73.945394   \n",
       "1        ...            53.182296     26.967692     75.685755     66.649583   \n",
       "2        ...            53.029243     26.851837     75.685755     66.587330   \n",
       "3        ...            53.015226     26.266369     75.685755     66.373907   \n",
       "4        ...            53.172932     26.605640     75.685755     66.529224   \n",
       "\n",
       "   RWWIHOTSUMV0  RWWIHO_VERV0  RWWIHO_UESV0  RWWIHOSUMAV0        stringTime  \\\n",
       "0      0.000000      0.000000      0.000000      0.000000  2019-04-15 08:52   \n",
       "1     56.385432     68.734584      9.127668      2.275890  2019-04-15 08:51   \n",
       "2     56.402658     68.853203      9.136596      2.275735  2019-04-15 08:50   \n",
       "3     56.527297     69.391059      9.138625      2.281882  2019-04-15 08:49   \n",
       "4     56.640964     69.299560      9.121256      2.269317  2019-04-15 08:48   \n",
       "\n",
       "   correct_longtime  \n",
       "0        1555311120  \n",
       "1        1555311060  \n",
       "2        1555311000  \n",
       "3        1555310940  \n",
       "4        1555310880  \n",
       "\n",
       "[5 rows x 4222 columns]"
      ]
     },
     "execution_count": 5,
     "metadata": {},
     "output_type": "execute_result"
    }
   ],
   "source": [
    "test_new.head()"
   ]
  },
  {
   "cell_type": "code",
   "execution_count": 6,
   "metadata": {},
   "outputs": [],
   "source": [
    "# p=test_new.loc[200:,['DEWIHOAT8_I0','AEDATZ_HO_V0']]\n",
    "# p['AEDATZ_HO_V0'].value_counts()"
   ]
  },
  {
   "cell_type": "code",
   "execution_count": 7,
   "metadata": {},
   "outputs": [],
   "source": [
    "test_new['dateTime'] =  pd.to_datetime(test_new['stringTime'], format='%Y-%m-%d %H:%M')"
   ]
  },
  {
   "cell_type": "code",
   "execution_count": 8,
   "metadata": {},
   "outputs": [],
   "source": [
    "# print(test_new.head())\n",
    "# e=test_new.loc[0:10,['AEWIHOAVAB2','RWWIHOAK__V0','AEWIHO_T9AV2','RWWIHOB_MWT0','DEWIHOAT8_I0','DEWIHOBT8_I0',\n",
    "#                      'DEWIHOAT9_I0','DEWIHOBT9_I0','RWWIHOB_HWT0','AEWIHOBKZ_V0','RWWIHOB_MWT0']]\n",
    "# print(e)"
   ]
  },
  {
   "cell_type": "code",
   "execution_count": 16,
   "metadata": {},
   "outputs": [],
   "source": [
    "# my=test_new.loc[200:400,['correct_longtime','AEDATZ_HO_V0','RWWIHOA_HWT0','dateTime']]\n",
    "# my.head()"
   ]
  },
  {
   "cell_type": "code",
   "execution_count": 17,
   "metadata": {},
   "outputs": [],
   "source": [
    "# my_1=my.set_index('dateTime')"
   ]
  },
  {
   "cell_type": "code",
   "execution_count": 18,
   "metadata": {},
   "outputs": [],
   "source": [
    "# my_1.head()"
   ]
  },
  {
   "cell_type": "markdown",
   "metadata": {},
   "source": [
    "# following code for Linear Regression"
   ]
  },
  {
   "cell_type": "code",
   "execution_count": null,
   "metadata": {},
   "outputs": [],
   "source": [
    "train_data=test_new.loc[500:8000,['correct_longtime','AEDATZ_HO_V0','RWWIHOA_HWT0', 'RWWIHOB_HWT0',\n",
    "                                  'AEWIHOAKZ_V0', 'AEWIHOBKZ_V0','RWWIHOA_MWT0','RWWIHOB_MWT0',\n",
    "                                  'AEWIHO_T9AV2','AEDAHO_T9_V2']]\n",
    "print(train_data.head())\n",
    "train_data_array=train_data.as_matrix()\n",
    "# print(train_data_array)\n",
    "train_input=train_data_array[:,:9]\n",
    "train_output=train_data_array[:,9]\n",
    "# print(train_output)"
   ]
  },
  {
   "cell_type": "code",
   "execution_count": null,
   "metadata": {},
   "outputs": [],
   "source": [
    "train_data.head()"
   ]
  },
  {
   "cell_type": "code",
   "execution_count": null,
   "metadata": {},
   "outputs": [],
   "source": [
    "# AEDATZ_HO_V0=test_new.loc[0:,['AEDATZ_HO_V0']]\n",
    "# AEDATZ_HO_V0=AEDATZ_HO_V0.as_matrix()\n",
    "\n",
    "# all_date=test_new.loc[0:,['dateTime']]\n",
    "# all_date=all_date.as_matrix()\n",
    "# # print(all_date[0])\n",
    "\n",
    "# RWWIHOA_HWT0=test_new.loc[0:,['RWWIHOA_HWT0']]\n",
    "# RWWIHOA_HWT0=RWWIHOA_HWT0.as_matrix()"
   ]
  },
  {
   "cell_type": "code",
   "execution_count": null,
   "metadata": {},
   "outputs": [],
   "source": [
    "from sklearn import metrics\n",
    "from sklearn.linear_model import LinearRegression"
   ]
  },
  {
   "cell_type": "code",
   "execution_count": null,
   "metadata": {},
   "outputs": [],
   "source": [
    "train_model=LinearRegression(fit_intercept=False,normalize=True).fit(train_input,train_output)\n",
    "print(train_model)"
   ]
  },
  {
   "cell_type": "code",
   "execution_count": null,
   "metadata": {},
   "outputs": [],
   "source": [
    "test_data=test_new.loc[9000:9900,['correct_longtime','AEDATZ_HO_V0','RWWIHOA_HWT0', 'RWWIHOB_HWT0',\n",
    "                                  'AEWIHOAKZ_V0', 'AEWIHOBKZ_V0','RWWIHOA_MWT0','RWWIHOB_MWT0',\n",
    "                                  'AEWIHO_T9AV2','AEDAHO_T9_V2']]\n",
    "test_data_array=test_data.as_matrix()\n",
    "test_input=test_data_array[:,:9]\n",
    "predicted_op=train_model.predict(test_input)\n",
    "print(predicted_op[100])\n",
    "\n",
    "actual_op=test_data_array[:,9]\n",
    "print(actual_op[100])"
   ]
  },
  {
   "cell_type": "code",
   "execution_count": null,
   "metadata": {},
   "outputs": [],
   "source": [
    "from sklearn import linear_model\n",
    "from sklearn.metrics import mean_squared_error, r2_score, mean_absolute_error\n",
    "import math\n",
    "print('Slope:' ,train_model.coef_)\n",
    "print('Intercept:', train_model.intercept_)\n",
    "print('r_2 statistic: %.2f' % r2_score(actual_op,predicted_op))\n",
    "print(\"Mean_absolute_error: %.2f\" % mean_absolute_error(actual_op,predicted_op))\n",
    "print(\"Mean squared error: %.2f\" % mean_squared_error(actual_op,predicted_op))\n",
    "RMSE=math.sqrt(mean_squared_error(actual_op,predicted_op))\n",
    "print('RMSE: ',RMSE)"
   ]
  },
  {
   "cell_type": "code",
   "execution_count": null,
   "metadata": {},
   "outputs": [],
   "source": [
    "print(train_model.score(test_input,actual_op))"
   ]
  },
  {
   "cell_type": "code",
   "execution_count": null,
   "metadata": {},
   "outputs": [],
   "source": [
    "dateTime=test_new.loc[9000:9900,['dateTime']]\n",
    "dateTime=dateTime.as_matrix()\n",
    "\n",
    "# for s in dateTime:\n",
    "#     print(type(s[0]))"
   ]
  },
  {
   "cell_type": "code",
   "execution_count": null,
   "metadata": {},
   "outputs": [],
   "source": [
    "start_index=700\n",
    "end_index=900\n",
    "interval=20\n",
    "\n",
    "predicted_op_rev=predicted_op[start_index:end_index]\n",
    "predicted_op_rev=predicted_op_rev[::-1]\n",
    "# # print(predicted_op_rev)\n",
    "actual_op_rev=actual_op[start_index:end_index]\n",
    "actual_op_rev=actual_op_rev[::-1]\n",
    "\n",
    "dateTime_predict=dateTime[start_index:end_index]\n",
    "dateTime_predict_rev=dateTime_predict[::-1]\n",
    "# print(dateTime[8000:8020])\n",
    "dateTime_actual=dateTime[start_index:end_index]\n",
    "dateTime_actual_rev=dateTime_actual[::-1]"
   ]
  },
  {
   "cell_type": "code",
   "execution_count": null,
   "metadata": {
    "scrolled": true
   },
   "outputs": [],
   "source": [
    "plt.title('graph')\n",
    "plt.subplots_adjust(bottom=.2)\n",
    "plt.xticks( rotation=25)\n",
    "ax=plt.gca()\n",
    "\n",
    "minlocator = md.MinuteLocator(interval=interval) # to plot every minute of an range\n",
    "# minlocator.MAXTICKS  = 40000\n",
    "ax.xaxis.set_major_locator(minlocator)\n",
    "\n",
    "xfmt = md.DateFormatter('%Y-%m-%d %H:%M')\n",
    "ax.xaxis.set_major_formatter(xfmt)\n",
    "plt.plot(dateTime_predict_rev,predicted_op_rev,color='green') #you can give here datenums_array\n",
    "plt.plot(dateTime_actual_rev,actual_op_rev,color='RED')\n",
    "plt.gcf().autofmt_xdate() # to beautify the X label\n",
    "\n",
    "plt.xlim(dateTime_predict_rev[0],dateTime_predict_rev[-1])\n",
    "plt.show()"
   ]
  },
  {
   "cell_type": "code",
   "execution_count": null,
   "metadata": {},
   "outputs": [],
   "source": [
    "print('predicted_op: ',predicted_op[start_index:end_index])\n",
    "print('\\npredicted_op_rev',predicted_op_rev)\n",
    "print('\\nactual_op',actual_op[start_index:end_index])\n",
    "print('\\nactual_op_rev',actual_op_rev)"
   ]
  },
  {
   "cell_type": "code",
   "execution_count": null,
   "metadata": {},
   "outputs": [],
   "source": [
    "# check_data=test_new.loc[8000:8019,['dateTime','AEDAHO_T9_V2']] #it will take 21 value. not like numpy array\n",
    "# print(check_data)"
   ]
  },
  {
   "cell_type": "code",
   "execution_count": null,
   "metadata": {},
   "outputs": [],
   "source": [
    "# print(dateTime[8020:8040])\n",
    "# print('\\n',dateTime_predict_rev)"
   ]
  },
  {
   "cell_type": "markdown",
   "metadata": {},
   "source": [
    "# following code for SVR"
   ]
  },
  {
   "cell_type": "code",
   "execution_count": null,
   "metadata": {},
   "outputs": [],
   "source": [
    "import seaborn as sn\n",
    "from sklearn import svm\n",
    "# from sklearn import preprocessing, cross_validation, neighbors, svm\n",
    "from sklearn.svm import SVR"
   ]
  },
  {
   "cell_type": "code",
   "execution_count": null,
   "metadata": {},
   "outputs": [],
   "source": [
    "# X_train, X_test, y_train, y_test = cross_validation.train_test_split(train_input, train_output, test_size=0.2)\n",
    "\n",
    "clf= SVR(kernel='rbf', C=100, gamma='auto', degree=3, epsilon=.1,coef0=1)\n",
    "\n",
    "clf.fit(train_input,train_output)"
   ]
  },
  {
   "cell_type": "code",
   "execution_count": null,
   "metadata": {},
   "outputs": [],
   "source": [
    "from sklearn.model_selection import cross_val_score\n",
    "scores = cross_val_score(clf, train_input, train_output, cv=5)"
   ]
  },
  {
   "cell_type": "code",
   "execution_count": null,
   "metadata": {},
   "outputs": [],
   "source": [
    "scores"
   ]
  },
  {
   "cell_type": "code",
   "execution_count": null,
   "metadata": {},
   "outputs": [],
   "source": [
    "# print(type(train_output))\n",
    "\n",
    "prediction_svr=clf.predict(test_input)\n",
    "# print(prediction_svr[start_index:end_index])\n",
    "\n",
    "#print('\\n',actual_op[start_index:end_index])"
   ]
  },
  {
   "cell_type": "code",
   "execution_count": null,
   "metadata": {},
   "outputs": [],
   "source": [
    "confidence = clf.score(test_input,actual_op)\n",
    "print('confidence: ',confidence)\n",
    "print('score: ',clf.score(test_input,actual_op))\n",
    "from sklearn.metrics import r2_score\n",
    "print('r2_score: ',r2_score(actual_op,prediction_svr))"
   ]
  },
  {
   "cell_type": "code",
   "execution_count": null,
   "metadata": {},
   "outputs": [],
   "source": [
    "prediction_svr_rev=prediction_svr[start_index:end_index]\n",
    "prediction_svr_rev=prediction_svr_rev[::-1]\n",
    "# # print(predicted_op_rev)\n",
    "actual_op_svr_rev=actual_op[start_index:end_index]\n",
    "actual_op_svr_rev=actual_op_svr_rev[::-1]\n",
    "\n",
    "# dateTime_predict=dateTime[8000:8020]\n",
    "# dateTime_predict_rev=dateTime_predict[::-1]\n",
    "# print(dateTime_predict_rev)\n",
    "# dateTime_actual=dateTime[8005:8025]\n",
    "# dateTime_actual_rev=datetime_actual[::-1]\n",
    "\n",
    "plt.title('graph')\n",
    "plt.subplots_adjust(bottom=.2)\n",
    "plt.xticks( rotation=25)\n",
    "ax=plt.gca()\n",
    "\n",
    "minlocator = md.MinuteLocator(interval=interval) # to plot every minute of an range\n",
    "# minlocator.MAXTICKS  = 40000\n",
    "ax.xaxis.set_major_locator(minlocator)\n",
    "\n",
    "xfmt = md.DateFormatter('%Y-%m-%d %H:%M:%S')\n",
    "ax.xaxis.set_major_formatter(xfmt)\n",
    "plt.plot(dateTime_predict_rev,prediction_svr_rev,color='green') #you can give here datenums_array\n",
    "plt.plot(dateTime_actual_rev,actual_op_svr_rev,color='RED')\n",
    "plt.gcf().autofmt_xdate() # to beautify the X label\n",
    "\n",
    "# plt.xlim(dateTime_predict_rev[0],dateTime_actual_rev[-1])\n",
    "plt.show()"
   ]
  },
  {
   "cell_type": "code",
   "execution_count": null,
   "metadata": {},
   "outputs": [],
   "source": []
  },
  {
   "cell_type": "code",
   "execution_count": null,
   "metadata": {},
   "outputs": [],
   "source": [
    "# plt.title('checking train')\n",
    "# plt.plot(all_date[500:8000:100],AEDATZ_HO_V0[500:8000:100])\n",
    "# plt.show()\n",
    "# train_inp=np.zeros((7500,2))\n",
    "print(all_date.ndim)\n",
    "train_inp=np.column_stack((RWWIHOA_HWT0,AEDATZ_HO_V0))\n",
    "#train_inp=[all_date[500:8000],RWWIHOA_HWT0[500:8000]]\n",
    "#train_op=AEDATZ_HO_V0[500:8000]\n",
    "print(train_inp)"
   ]
  },
  {
   "cell_type": "code",
   "execution_count": null,
   "metadata": {},
   "outputs": [],
   "source": [
    "clf= SVR(kernel='rbf', C=10, gamma='auto', degree=3, epsilon=.1,coef0=1)\n",
    "\n",
    "clf.fit(train_inp,train_op)"
   ]
  },
  {
   "cell_type": "code",
   "execution_count": null,
   "metadata": {},
   "outputs": [],
   "source": [
    "test_ip=all_date[8020:9000]\n",
    "predict_op=clf.predict(test_ip)"
   ]
  },
  {
   "cell_type": "code",
   "execution_count": null,
   "metadata": {},
   "outputs": [],
   "source": [
    "# print(predict_op)\n",
    "# print('\\n',AEDATZ_HO_V0[8020:9000])\n",
    "actual_op=AEDATZ_HO_V0[8020:9000]"
   ]
  },
  {
   "cell_type": "code",
   "execution_count": null,
   "metadata": {},
   "outputs": [],
   "source": [
    "plt.plot(test_ip,predict_op)\n",
    "plt.plot(test_ip,actual_op)"
   ]
  },
  {
   "cell_type": "code",
   "execution_count": null,
   "metadata": {},
   "outputs": [],
   "source": [
    "regressor=SVR(kernel='poly',epsilon=1,degree=3)\n",
    "regressor.fit(train_input,train_output)\n",
    "pred=regressor.predict(test_input)\n",
    "print(regressor.score(test_input,actual_op))\n",
    "print(r2_score(actual_op,pred))"
   ]
  },
  {
   "cell_type": "code",
   "execution_count": null,
   "metadata": {},
   "outputs": [],
   "source": []
  },
  {
   "cell_type": "code",
   "execution_count": null,
   "metadata": {},
   "outputs": [],
   "source": [
    "p=pred[start_index:end_index]\n",
    "p=p[::-1]\n",
    "# # print(predicted_op_rev)\n",
    "actual_op_svr_rev=actual_op[start_index:end_index]\n",
    "actual_op_svr_rev=actual_op_svr_rev[::-1]\n",
    "\n",
    "# dateTime_predict=dateTime[8000:8020]\n",
    "# dateTime_predict_rev=dateTime_predict[::-1]\n",
    "# print(dateTime_predict_rev)\n",
    "# dateTime_actual=dateTime[8005:8025]\n",
    "# dateTime_actual_rev=datetime_actual[::-1]\n",
    "\n",
    "plt.title('graph')\n",
    "plt.subplots_adjust(bottom=.2)\n",
    "plt.xticks( rotation=25)\n",
    "ax=plt.gca()\n",
    "\n",
    "minlocator = md.MinuteLocator(interval=interval) # to plot every minute of an range\n",
    "# minlocator.MAXTICKS  = 40000\n",
    "ax.xaxis.set_major_locator(minlocator)\n",
    "\n",
    "xfmt = md.DateFormatter('%Y-%m-%d %H:%M:%S')\n",
    "ax.xaxis.set_major_formatter(xfmt)\n",
    "plt.plot(dateTime_predict_rev,p,color='green') #you can give here datenums_array\n",
    "plt.plot(dateTime_actual_rev,actual_op_svr_rev,color='RED')\n",
    "plt.gcf().autofmt_xdate() # to beautify the X label\n",
    "\n",
    "# plt.xlim(dateTime_predict_rev[0],dateTime_actual_rev[-1])\n",
    "plt.show()"
   ]
  },
  {
   "cell_type": "code",
   "execution_count": null,
   "metadata": {},
   "outputs": [],
   "source": [
    "# pd.isnull(test_new).sum() # to display how many NaN values are in each column."
   ]
  },
  {
   "cell_type": "code",
   "execution_count": null,
   "metadata": {},
   "outputs": [],
   "source": [
    "initial=9000\n",
    "final=9900\n",
    "step=1000\n",
    "\n",
    "def plot_tricks(y_item,y_label):\n",
    "    \n",
    "    my_time=test_new.loc[initial:final:step,['dateTime']]\n",
    "    my_time_rev=my_time[::-1]\n",
    "    \n",
    "    my_value=test_new.loc[initial:final:step,[y_item]]\n",
    "    my_value=my_value.as_matrix()\n",
    "    my_value=my_value[::,0]\n",
    "    my_value_rev=my_value[::-1]\n",
    "    \n",
    "    plt.title('test graph')\n",
    "    plt.subplots_adjust(bottom=.2)\n",
    "    plt.xticks( rotation=25)\n",
    "    ax=plt.gca()\n",
    "\n",
    "    minlocator = md.MinuteLocator(interval=step) # to plot every minute of an range\n",
    "# minlocator.MAXTICKS  = 40000\n",
    "    ax.xaxis.set_major_locator(minlocator)\n",
    "\n",
    "    xfmt = md.DateFormatter('%Y-%m-%d %H:%M:%S')\n",
    "    ax.xaxis.set_major_formatter(xfmt)\n",
    "    plt.plot(my_time_rev,my_value_rev,color='green') #you can give here datenums_array\n",
    "    plt.ylabel(y_label)\n",
    "    plt.xlabel('Time')\n",
    "#     plt.plot(dateTime_actual_rev,actual_op_svr_rev,color='RED')\n",
    "    plt.xlim(my_time_rev[0],my_time_rev[-1])\n",
    "    plt.gcf().autofmt_xdate() # to beautify the X label\n",
    "    plt.show()\n",
    "    \n",
    "plot_tricks(y_item='AEDATZ_HO_V0',y_label='AEDAHO_T8_V2')"
   ]
  },
  {
   "cell_type": "code",
   "execution_count": null,
   "metadata": {},
   "outputs": [],
   "source": [
    "# diff=list()"
   ]
  },
  {
   "cell_type": "code",
   "execution_count": null,
   "metadata": {},
   "outputs": [],
   "source": [
    "# diff.append(dateTime)"
   ]
  },
  {
   "cell_type": "code",
   "execution_count": null,
   "metadata": {},
   "outputs": [],
   "source": [
    "# print(type(diff))"
   ]
  },
  {
   "cell_type": "code",
   "execution_count": null,
   "metadata": {},
   "outputs": [],
   "source": []
  }
 ],
 "metadata": {
  "kernelspec": {
   "display_name": "Python 3",
   "language": "python",
   "name": "python3"
  },
  "language_info": {
   "codemirror_mode": {
    "name": "ipython",
    "version": 3
   },
   "file_extension": ".py",
   "mimetype": "text/x-python",
   "name": "python",
   "nbconvert_exporter": "python",
   "pygments_lexer": "ipython3",
   "version": "3.6.5"
  }
 },
 "nbformat": 4,
 "nbformat_minor": 2
}
