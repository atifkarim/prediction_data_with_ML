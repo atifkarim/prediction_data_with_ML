{
 "cells": [
  {
   "cell_type": "code",
   "execution_count": 2,
   "metadata": {},
   "outputs": [],
   "source": [
    "import pandas as pd\n",
    "import numpy as np\n",
    "\n",
    "import datetime\n",
    "import matplotlib.pyplot as plt\n",
    "import matplotlib.dates as md\n",
    "import numpy as np\n",
    "import datetime as dt\n",
    "import time\n",
    "%matplotlib inline"
   ]
  },
  {
   "cell_type": "code",
   "execution_count": null,
   "metadata": {},
   "outputs": [],
   "source": [
    "test= pd.read_csv('E:/University of Bremen MSc/masters_thesis/test.csv')\n",
    "test.head()"
   ]
  },
  {
   "cell_type": "code",
   "execution_count": null,
   "metadata": {},
   "outputs": [],
   "source": [
    "ts_1 = test.loc[0:8,['longTime']]\n",
    "\n",
    "# # pd.to_datetime(ts_1, format='%Y%m%d', errors='ignore')\n",
    "# ts_2 = test.loc[0:5,['AEAGHOAWE2T1']]\n",
    "# ts_1=ts_1.as_matrix()\n",
    "# ts_2=ts_2.as_matrix()\n",
    "print(ts_1)\n",
    "# ts_3=np.concatenate((ts_1,ts_2), axis=0)\n",
    "# # print(ts_3)"
   ]
  },
  {
   "cell_type": "code",
   "execution_count": 9,
   "metadata": {},
   "outputs": [
    {
     "name": "stdout",
     "output_type": "stream",
     "text": [
      "2\n",
      "[[1 1]\n",
      " [2 2]\n",
      " [3 3]]\n"
     ]
    }
   ],
   "source": [
    "# print(ts_3[0])\n",
    "a=np.array([[1],[2],[3]])\n",
    "# a=np.array([1,2,3])\n",
    "# b=np.array([1,2,3])\n",
    "b=np.array([[1],[2],[3]])\n",
    "# print(a[0:])\n",
    "# print(b[0:])\n",
    "# c=np.concatenate((a,b),axis=0)\n",
    "# c = np.vstack((a, b)).T\n",
    "print(b.ndim)\n",
    "d=np.column_stack((a,b))\n",
    "print(d)"
   ]
  },
  {
   "cell_type": "code",
   "execution_count": null,
   "metadata": {},
   "outputs": [],
   "source": [
    "import time\n",
    "import datetime\n",
    "\n",
    "longTime=test.loc[::1,['longTime']]\n",
    "longTime=longTime.as_matrix()\n",
    "# print(type(longTime))\n",
    "a=[]\n",
    "date_time_array=[]\n",
    "for k in longTime:\n",
    "    a=np.append(a,k)\n",
    "\n",
    "# print(a[0:])\n",
    "# print(a[-2:])\n",
    "count=0\n",
    "for b in a:\n",
    "    b=int(b) # make plain integer\n",
    "    str_b=str(b)\n",
    "    c=str_b[-3:]\n",
    "    new_str_b=str_b.replace(c, '',1)\n",
    "    new_str_b_time=int(new_str_b)\n",
    "    \n",
    "    now_time=datetime.datetime.fromtimestamp(new_str_b_time)\n",
    "    convert_time=now_time.strftime('%Y-%m-%d %H:%M:%S')\n",
    "    \n",
    "#     print('count_num: ',count,' unix_time: ',convert_time)\n",
    "    date_time_obj = datetime.datetime.strptime(convert_time, '%Y-%m-%d %H:%M:%S')\n",
    "    date_time_array=np.append(date_time_array,date_time_obj)\n",
    "#     print('count_num: ',count,' convert_time: ',convert_time,\" date_time_obj: \",date_time_obj,\" str_time\",new_str_b_time)\n",
    "#     count+=1\n",
    "\n",
    "# print(date_time_array.size)\n",
    "for q in date_time_array[::1]:\n",
    "# #     q=q.split(\" \")\n",
    "# #     split_q=np.append(split_q,q)\n",
    "#     print(\"count: \",count,\" date: \",q.date(),\" time: \",q.time())\n",
    "    count+=1\n",
    "    print(q)\n",
    "# #     print(type(q))"
   ]
  },
  {
   "cell_type": "code",
   "execution_count": null,
   "metadata": {},
   "outputs": [],
   "source": [
    "production = pd.read_csv(\"E:/University of Bremen MSc/masters_thesis/dataset_15_april_10000_1.csv\",parse_dates=[0], index_col=0)"
   ]
  },
  {
   "cell_type": "code",
   "execution_count": null,
   "metadata": {},
   "outputs": [],
   "source": [
    "production.tail(3)"
   ]
  },
  {
   "cell_type": "code",
   "execution_count": null,
   "metadata": {},
   "outputs": [],
   "source": [
    "plt.plot(date_time_array, production['AEAGHOAWE2T1'])\n",
    "plt.title('Actual wind generation in Germany in MW')\n",
    "plt.xticks( rotation=25)\n",
    "plt.xlim(min(date_time_array),max(date_time_array))\n",
    "# plt.ylim(0, 35000)\n",
    "plt.show()"
   ]
  },
  {
   "cell_type": "markdown",
   "metadata": {},
   "source": [
    "# https://machinelearningmastery.com/arima-for-time-series-forecasting-with-python/ followed this"
   ]
  },
  {
   "cell_type": "code",
   "execution_count": 2,
   "metadata": {},
   "outputs": [],
   "source": [
    "test= pd.read_csv('E:/University of Bremen MSc/masters_thesis/IAT_sebastian/dataset_15_april_10000_1.csv')"
   ]
  },
  {
   "cell_type": "code",
   "execution_count": 24,
   "metadata": {},
   "outputs": [
    {
     "name": "stderr",
     "output_type": "stream",
     "text": [
      "C:\\Users\\atif\\Anaconda3\\lib\\site-packages\\ipykernel_launcher.py:10: FutureWarning: Method .as_matrix will be removed in a future version. Use .values instead.\n",
      "  # Remove the CWD from sys.path while we load stuff.\n"
     ]
    },
    {
     "name": "stdout",
     "output_type": "stream",
     "text": [
      "<class 'str'>\n",
      "<class 'str'>\n",
      "<class 'str'>\n",
      "<class 'str'>\n",
      "<class 'str'>\n",
      "<class 'str'>\n",
      "<class 'str'>\n",
      "<class 'str'>\n",
      "<class 'str'>\n",
      "<class 'str'>\n",
      "<class 'str'>\n"
     ]
    },
    {
     "name": "stderr",
     "output_type": "stream",
     "text": [
      "C:\\Users\\atif\\Anaconda3\\lib\\site-packages\\ipykernel_launcher.py:37: FutureWarning: Method .as_matrix will be removed in a future version. Use .values instead.\n"
     ]
    }
   ],
   "source": [
    "from pandas import datetime\n",
    "import time\n",
    "import datetime\n",
    "\n",
    "def parser(x):\n",
    "    return datetime.datetime.strptime(x, '%Y-%m-%d %H:%M:%S')\n",
    "\n",
    "longTime=test.loc[0:,['longTime']]\n",
    "# print(type(longTime))\n",
    "longTime=longTime.as_matrix()\n",
    "# print('---',type(longTime))\n",
    "a=[]\n",
    "date_time_array=[]\n",
    "for k in longTime:\n",
    "#     print(type(k))\n",
    "    a=np.append(a,k)\n",
    "\n",
    "# print(a[0:])\n",
    "# print(a[-2:])\n",
    "str_time=[]\n",
    "count=0\n",
    "for b in a:\n",
    "#     print('type b: ',type(b))\n",
    "    b=int(b) # make plain integer\n",
    "    str_b=str(b)\n",
    "    c=str_b[-3:]\n",
    "    new_str_b=str_b.replace(c, '',1)\n",
    "    new_str_b_time=int(new_str_b)\n",
    "    \n",
    "    now_time=datetime.datetime.fromtimestamp(new_str_b_time)\n",
    "    convert_time=now_time.strftime('%Y-%m-%d %H:%M:%S')\n",
    "    str_time.append(convert_time) #write here parser(convert_time) to convert str time to datetime format\n",
    "    \n",
    "test_new = test.assign(datetime=str_time) # to add new column in the panda dataframe\n",
    "# test_new.head()\n",
    "time_2=test_new.loc[0:10,['datetime']]\n",
    "time_2=time_2.as_matrix()\n",
    "# print(type(time_2))\n",
    "s=[]\n",
    "for y in time_2:\n",
    "    s.append(y)\n",
    "    print(type(y[0]))\n",
    "# for y in s:\n",
    "#     print(type(y))"
   ]
  },
  {
   "cell_type": "code",
   "execution_count": 25,
   "metadata": {},
   "outputs": [],
   "source": [
    "te_1=test_new.loc[0:,['datetime','AEDAHO_T9_V2']]\n",
    "#te_1.to_csv('E:/University of Bremen MSc/masters_thesis/IAT_sebastian/code/te_1.csv', sep=',')"
   ]
  },
  {
   "cell_type": "code",
   "execution_count": 31,
   "metadata": {},
   "outputs": [
    {
     "name": "stdout",
     "output_type": "stream",
     "text": [
      "<class 'pandas.core.series.Series'>\n"
     ]
    },
    {
     "data": {
      "text/html": [
       "<div>\n",
       "<style scoped>\n",
       "    .dataframe tbody tr th:only-of-type {\n",
       "        vertical-align: middle;\n",
       "    }\n",
       "\n",
       "    .dataframe tbody tr th {\n",
       "        vertical-align: top;\n",
       "    }\n",
       "\n",
       "    .dataframe thead th {\n",
       "        text-align: right;\n",
       "    }\n",
       "</style>\n",
       "<table border=\"1\" class=\"dataframe\">\n",
       "  <thead>\n",
       "    <tr style=\"text-align: right;\">\n",
       "      <th></th>\n",
       "      <th>datetime</th>\n",
       "      <th>AEDAHO_T9_V2</th>\n",
       "      <th>date</th>\n",
       "    </tr>\n",
       "  </thead>\n",
       "  <tbody>\n",
       "    <tr>\n",
       "      <th>0</th>\n",
       "      <td>2019-04-15 08:52:00</td>\n",
       "      <td>71.613581</td>\n",
       "      <td>2019-04-15 08:52:00</td>\n",
       "    </tr>\n",
       "    <tr>\n",
       "      <th>1</th>\n",
       "      <td>2019-04-15 08:51:00</td>\n",
       "      <td>71.587260</td>\n",
       "      <td>2019-04-15 08:51:00</td>\n",
       "    </tr>\n",
       "    <tr>\n",
       "      <th>2</th>\n",
       "      <td>2019-04-15 08:50:00</td>\n",
       "      <td>71.835443</td>\n",
       "      <td>2019-04-15 08:50:00</td>\n",
       "    </tr>\n",
       "    <tr>\n",
       "      <th>3</th>\n",
       "      <td>2019-04-15 08:49:00</td>\n",
       "      <td>71.855470</td>\n",
       "      <td>2019-04-15 08:49:00</td>\n",
       "    </tr>\n",
       "    <tr>\n",
       "      <th>4</th>\n",
       "      <td>2019-04-15 08:48:00</td>\n",
       "      <td>71.812973</td>\n",
       "      <td>2019-04-15 08:48:00</td>\n",
       "    </tr>\n",
       "  </tbody>\n",
       "</table>\n",
       "</div>"
      ],
      "text/plain": [
       "              datetime  AEDAHO_T9_V2                date\n",
       "0  2019-04-15 08:52:00     71.613581 2019-04-15 08:52:00\n",
       "1  2019-04-15 08:51:00     71.587260 2019-04-15 08:51:00\n",
       "2  2019-04-15 08:50:00     71.835443 2019-04-15 08:50:00\n",
       "3  2019-04-15 08:49:00     71.855470 2019-04-15 08:49:00\n",
       "4  2019-04-15 08:48:00     71.812973 2019-04-15 08:48:00"
      ]
     },
     "execution_count": 31,
     "metadata": {},
     "output_type": "execute_result"
    }
   ],
   "source": [
    "te_1['date'] =  pd.to_datetime(te_1['datetime'], format='%Y-%m-%d %H:%M:%S')\n",
    "print(type(te_1['date']))\n",
    "te_1.head()\n",
    "\n",
    "# time_3=te_1.loc[0:10,['date']]\n",
    "# time_3=time_3.as_matrix()\n",
    "# # print(type(time_2))\n",
    "# q=[]\n",
    "# for w in time_3:\n",
    "#     q.append(w)\n",
    "#     print(type(w[0]))"
   ]
  },
  {
   "cell_type": "code",
   "execution_count": 36,
   "metadata": {},
   "outputs": [
    {
     "name": "stdout",
     "output_type": "stream",
     "text": [
      "<class 'pandas.core.series.Series'>\n"
     ]
    }
   ],
   "source": [
    "for_arima=te_1.loc[:,['date','AEDAHO_T9_V2']]\n",
    "\n",
    "test_1=for_arima.loc[:,['date']]\n",
    "test_2=for_arima.loc[:,['AEDAHO_T9_V2']]\n",
    "result_1 =test_1.squeeze() \n",
    "result_2 =test_2.squeeze() \n",
    "print(type(result_1))\n",
    "\n",
    "\n"
   ]
  },
  {
   "cell_type": "code",
   "execution_count": 41,
   "metadata": {},
   "outputs": [
    {
     "data": {
      "image/png": "[encoded data removed]",
      "text/plain": [
       "<Figure size 432x288 with 1 Axes>"
      ]
     },
     "metadata": {},
     "output_type": "display_data"
    }
   ],
   "source": [
    "from pandas import read_csv\n",
    "from pandas import datetime\n",
    "import matplotlib.pyplot as plt\n",
    "import matplotlib.dates as md\n",
    "import numpy as np\n",
    "import datetime as dt\n",
    "%matplotlib inline\n",
    " \n",
    "#def parser(x):\n",
    "#    return datetime.strptime(x, '%Y-%m-%d %H:%M:%S')\n",
    " \n",
    "#series = read_csv('E:/University of Bremen MSc/masters_thesis/IAT_sebastian/code/te_1.csv',\n",
    "           #      header=0, parse_dates=[1], index_col=1, squeeze=True, date_parser=parser)\n",
    "#print(for_arima.head())\n",
    "\n",
    "# plt.title('graph')\n",
    "plt.subplots_adjust(bottom=.2)\n",
    "plt.xticks( rotation=25)\n",
    "ax=plt.gca()\n",
    "\n",
    "minlocator = md.MinuteLocator(interval=5000) # to plot every minute of an range\n",
    "# minlocator.MAXTICKS  = 40000\n",
    "ax.xaxis.set_major_locator(minlocator)\n",
    "\n",
    "xfmt = md.DateFormatter('%Y-%m-%d %H:%M:%S')\n",
    "ax.xaxis.set_major_formatter(xfmt)\n",
    "\n",
    "plt.plot(result_1,result_2)\n",
    "\n",
    "plt.gcf().autofmt_xdate()\n",
    "plt.show()"
   ]
  },
  {
   "cell_type": "code",
   "execution_count": null,
   "metadata": {},
   "outputs": [],
   "source": [
    "from pandas import read_csv\n",
    "from pandas import datetime\n",
    "from matplotlib import pyplot\n",
    "from pandas.tools.plotting import autocorrelation_plot\n",
    " \n",
    "def parser(x):\n",
    "    return datetime.strptime(x, '%Y-%m-%d %H:%M:%S')\n",
    " \n",
    "series = read_csv('E:/University of Bremen MSc/masters_thesis/test.csv',\n",
    "                  header=0, parse_dates=[0], index_col=0, squeeze=True, date_parser=parser)\n",
    "autocorrelation_plot(series)\n",
    "pyplot.show()"
   ]
  },
  {
   "cell_type": "code",
   "execution_count": null,
   "metadata": {},
   "outputs": [],
   "source": [
    "from pandas import read_csv\n",
    "from pandas import datetime\n",
    "from pandas import DataFrame\n",
    "from statsmodels.tsa.arima_model import ARIMA\n",
    "from matplotlib import pyplot\n",
    " \n",
    "# def parser(x):\n",
    "#     return datetime.strptime(x, '%Y-%m-%d %H:%M:%S')\n",
    " \n",
    "# series = read_csv('E:/University of Bremen MSc/masters_thesis/test.csv',\n",
    "#                   header=0, parse_dates=[0], index_col=0, squeeze=True, date_parser=parser)\n",
    "# fit model\n",
    "model = ARIMA((result,result1), order=(2,1,0))\n",
    "model_fit = model.fit(disp=0)\n",
    "print(model_fit.summary())\n",
    "# plot residual errors\n",
    "residuals = DataFrame(model_fit.resid)\n",
    "residuals.plot()\n",
    "pyplot.show()\n",
    "residuals.plot(kind='kde')\n",
    "pyplot.show()\n",
    "print(residuals.describe())"
   ]
  },
  {
   "cell_type": "code",
   "execution_count": null,
   "metadata": {},
   "outputs": [],
   "source": [
    "from pandas import read_csv\n",
    "from pandas import datetime\n",
    "from matplotlib import pyplot\n",
    "from statsmodels.tsa.arima_model import ARIMA\n",
    "from sklearn.metrics import mean_squared_error\n",
    "\n",
    "def parser(x):\n",
    "    return datetime.strptime(x, '%Y-%m-%d %H:%M:%S')\n",
    "\n",
    "series = read_csv('E:/University of Bremen MSc/masters_thesis/test.csv',\n",
    "                  header=0, parse_dates=[0], index_col=0, squeeze=True, date_parser=parser)\n",
    "X = series.values\n",
    "size = int(len(X) * 0.66)\n",
    "train, test = X[0:size], X[size:len(X)]\n",
    "history = [x for x in train]\n",
    "predictions = list()\n",
    "for t in range(len(test)):\n",
    "    model = ARIMA(history, order=(0,1,0))\n",
    "    model_fit = model.fit(disp=0)\n",
    "    output = model_fit.forecast()\n",
    "    yhat = output[0]\n",
    "    predictions.append(yhat)\n",
    "    obs = test[t]\n",
    "    history.append(obs)\n",
    "    print('predicted=%f, expected=%f' % (yhat, obs))\n",
    "error = mean_squared_error(test, predictions)\n",
    "print('Test MSE: %.3f' % error)\n",
    "# plot\n",
    "pyplot.plot(test,color='green')\n",
    "pyplot.plot(predictions, color='red')\n",
    "pyplot.show()"
   ]
  },
  {
   "cell_type": "code",
   "execution_count": null,
   "metadata": {},
   "outputs": [],
   "source": [
    "import csv\n",
    "reader = csv.reader(open('E:/University of Bremen MSc/masters_thesis/csv_file/test.csv', 'rb'))\n",
    "writer = csv.writer(open('E:/University of Bremen MSc/masters_thesis/csv_file/output.csv', 'w'))\n",
    "headers = next(reader)\n",
    "headers.append(\"Brand New Awesome Header\")\n",
    "writer.write(headers)\n",
    "for row in reader:\n",
    "    print(row)\n",
    "#     row.append(new data for my new header)\n",
    "    writer.write(row)"
   ]
  },
  {
   "cell_type": "markdown",
   "metadata": {},
   "source": [
    "# new csv"
   ]
  },
  {
   "cell_type": "code",
   "execution_count": null,
   "metadata": {},
   "outputs": [],
   "source": [
    "read_file=pd.read_csv('E:/University of Bremen MSc/masters_thesis/IAT_sebastian/Abhijit laha/Abhijit_Laha_whole_data.csv')"
   ]
  },
  {
   "cell_type": "code",
   "execution_count": null,
   "metadata": {},
   "outputs": [],
   "source": [
    "read_file.head()"
   ]
  },
  {
   "cell_type": "code",
   "execution_count": null,
   "metadata": {},
   "outputs": [],
   "source": [
    "df = pd.read_csv(\"E:/University of Bremen MSc/masters_thesis/IAT_sebastian/Abhijit laha/Abhijit_Laha_whole_data.csv\",usecols = [' zeit'])"
   ]
  },
  {
   "cell_type": "code",
   "execution_count": null,
   "metadata": {},
   "outputs": [],
   "source": [
    "df4=df.head()\n",
    "\n",
    "df2 = df4.assign(address = ['Delhi', 'Bangalore', 'Chennai', 'Patna','chittagong']) \n",
    "\n",
    "print(df2)"
   ]
  },
  {
   "cell_type": "code",
   "execution_count": null,
   "metadata": {},
   "outputs": [],
   "source": [
    "longTime=read_file.loc[0:10,[' zeit']]\n",
    "longTime=longTime.as_matrix()\n",
    "a=[]\n",
    "\n",
    "print((longTime[0][0]))\n",
    "#for x in longTime:\n",
    " #   a=np.append()"
   ]
  },
  {
   "cell_type": "code",
   "execution_count": null,
   "metadata": {},
   "outputs": [],
   "source": []
  }
 ],
 "metadata": {
  "kernelspec": {
   "display_name": "Python 3",
   "language": "python",
   "name": "python3"
  },
  "language_info": {
   "codemirror_mode": {
    "name": "ipython",
    "version": 3
   },
   "file_extension": ".py",
   "mimetype": "text/x-python",
   "name": "python",
   "nbconvert_exporter": "python",
   "pygments_lexer": "ipython3",
   "version": "3.6.5"
  }
 },
 "nbformat": 4,
 "nbformat_minor": 2
}
