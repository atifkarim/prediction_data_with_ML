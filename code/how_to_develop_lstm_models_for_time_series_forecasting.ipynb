{
 "cells": [
  {
   "cell_type": "markdown",
   "metadata": {},
   "source": [
    "# code taken from https://machinelearningmastery.com/how-to-develop-lstm-models-for-time-series-forecasting/"
   ]
  },
  {
   "cell_type": "code",
   "execution_count": 1,
   "metadata": {},
   "outputs": [],
   "source": [
    "import numpy as np\n",
    "import matplotlib.pyplot as plt\n",
    "import pandas as pd\n",
    "import math\n",
    "import time\n",
    "import datetime"
   ]
  },
  {
   "cell_type": "code",
   "execution_count": 2,
   "metadata": {},
   "outputs": [],
   "source": [
    "# test= pd.read_csv('E:/University of Bremen MSc/masters_thesis/IAT_sebastian/dataset_26_april_3.csv')\n",
    "test=pd.read_csv('/media/atif/BE0E05910E0543BD/University of Bremen MSc/masters_thesis/IAT_sebastian/dataset_26_april_3.csv')"
   ]
  },
  {
   "cell_type": "code",
   "execution_count": 3,
   "metadata": {},
   "outputs": [
    {
     "name": "stderr",
     "output_type": "stream",
     "text": [
      "/home/atif/anaconda3/envs/venv/lib/python3.6/site-packages/ipykernel_launcher.py:2: FutureWarning: Method .as_matrix will be removed in a future version. Use .values instead.\n",
      "  \n"
     ]
    }
   ],
   "source": [
    "longTime=test.loc[0:,['longTime']]\n",
    "longTime=longTime.as_matrix()\n",
    "a=[]\n",
    "date_time_array=[]\n",
    "for k in longTime:\n",
    "    a=np.append(a,k)\n",
    "str_time=[]\n",
    "correct_longtime=[]\n",
    "datetime_time=[]\n",
    "count=0\n",
    "for b in a:\n",
    "    b=int(b) # make plain integer\n",
    "    str_b=str(b)\n",
    "    c=str_b[-3:]\n",
    "    new_str_b=str_b.replace(c, '',1)\n",
    "    new_str_b_time=int(new_str_b)\n",
    "    correct_longtime.append(new_str_b_time)\n",
    "    now_time=datetime.datetime.fromtimestamp(new_str_b_time)\n",
    "    convert_time=now_time.strftime('%Y-%m-%d %H:%M')\n",
    "    str_time.append(convert_time)\n",
    "# print(str_time)\n",
    "test_new = test.assign(stringTime=str_time,correct_longtime=correct_longtime) # here new column in the panda dataframe for string_time has added"
   ]
  },
  {
   "cell_type": "code",
   "execution_count": 4,
   "metadata": {},
   "outputs": [],
   "source": [
    "test_new['dateTime'] =  pd.to_datetime(test_new['stringTime'], format='%Y-%m-%d %H:%M')"
   ]
  },
  {
   "cell_type": "code",
   "execution_count": 24,
   "metadata": {},
   "outputs": [],
   "source": [
    "# my_data_1=test_new.loc[500:9999,['dateTime','AEWIHOAVABV2','AEDATZ_HO_V0','RWWIHOA_HWT0','AEDAHO_T9_V2']]\n",
    "my_data_1=test_new.loc[500:9999,['dateTime','AEDAHO_T9_V2']]"
   ]
  },
  {
   "cell_type": "code",
   "execution_count": 25,
   "metadata": {},
   "outputs": [],
   "source": [
    "my_data_1 = my_data_1.set_index('dateTime')"
   ]
  },
  {
   "cell_type": "code",
   "execution_count": 26,
   "metadata": {},
   "outputs": [],
   "source": [
    "my_data_1=my_data_1.loc[::-1]"
   ]
  },
  {
   "cell_type": "code",
   "execution_count": 27,
   "metadata": {},
   "outputs": [],
   "source": [
    "my_data=np.array(my_data_1)"
   ]
  },
  {
   "cell_type": "code",
   "execution_count": 28,
   "metadata": {},
   "outputs": [
    {
     "data": {
      "text/plain": [
       "array([[71.07934514],\n",
       "       [70.70649495],\n",
       "       [70.28999611],\n",
       "       ...,\n",
       "       [42.343193  ],\n",
       "       [42.48031501],\n",
       "       [42.30518655]])"
      ]
     },
     "execution_count": 28,
     "metadata": {},
     "output_type": "execute_result"
    }
   ],
   "source": [
    "my_data"
   ]
  },
  {
   "cell_type": "code",
   "execution_count": 29,
   "metadata": {},
   "outputs": [],
   "source": [
    "# my_data=my_data_1.as_matrix()"
   ]
  },
  {
   "cell_type": "code",
   "execution_count": 34,
   "metadata": {},
   "outputs": [
    {
     "name": "stdout",
     "output_type": "stream",
     "text": [
      "(7500, 1)\n",
      "(2000, 1)\n"
     ]
    }
   ],
   "source": [
    "train_data_vanilla=my_data[0:7500]\n",
    "print(train_data_vanilla.shape)\n",
    "test_data_vanilla=my_data[7500:]\n",
    "print(test_data_vanilla.shape)"
   ]
  },
  {
   "cell_type": "markdown",
   "metadata": {},
   "source": [
    "# Vanilla LSTM for Univariate TimeSeries Data"
   ]
  },
  {
   "cell_type": "code",
   "execution_count": 62,
   "metadata": {},
   "outputs": [
    {
     "name": "stdout",
     "output_type": "stream",
     "text": [
      "7500\n",
      "(7497, 3, 1) \t 3 \t 22491\n",
      "(7497, 1) \t 2 \t 7497\n"
     ]
    }
   ],
   "source": [
    "from numpy import array\n",
    " \n",
    "# split a univariate sequence into samples\n",
    "def split_sequence(sequence, n_steps):\n",
    "    print(len(sequence))\n",
    "    X, y = list(), list()\n",
    "    for i in range(len(sequence)):\n",
    "        # find the end of this pattern\n",
    "        end_ix = i + n_steps\n",
    "        # check if we are beyond the sequence\n",
    "        if end_ix > len(sequence)-1:\n",
    "            break\n",
    "        # gather input and output parts of the pattern\n",
    "        seq_x, seq_y = sequence[i:end_ix], sequence[end_ix]\n",
    "        X.append(seq_x)\n",
    "        y.append(seq_y)\n",
    "#         print(X,'\\t',y)\n",
    "    return array(X), array(y)\n",
    " \n",
    "# define input sequence\n",
    "# raw_seq = [10, 20, 30, 40, 50, 60, 70, 80, 90]\n",
    "\n",
    "# choose a number of time steps\n",
    "n_steps = 1\n",
    "# split into samples\n",
    "X_train_vanilla, y_train_vanilla = split_sequence(train_data_vanilla, n_steps)\n",
    "print(X.shape,'\\t',X.ndim,'\\t',X.size)\n",
    "print(y.shape,'\\t',y.ndim,'\\t',y.size)\n",
    "# summarize the data\n",
    "# for i in range(len(X)):\n",
    "# \tprint(X[i], y[i])"
   ]
  },
  {
   "cell_type": "code",
   "execution_count": 63,
   "metadata": {},
   "outputs": [],
   "source": [
    "n_features = 1\n",
    "X_train_vanilla = X_train_vanilla.reshape((X_train_vanilla.shape[0], X_train_vanilla.shape[1], n_features))"
   ]
  },
  {
   "cell_type": "code",
   "execution_count": 64,
   "metadata": {},
   "outputs": [],
   "source": [
    "# print(X[0])"
   ]
  },
  {
   "cell_type": "code",
   "execution_count": 65,
   "metadata": {},
   "outputs": [
    {
     "name": "stdout",
     "output_type": "stream",
     "text": [
      "Epoch 1/10\n",
      "7499/7499 [==============================] - 2s 215us/step - loss: 1679.8673 - acc: 5.3340e-04\n",
      "Epoch 2/10\n",
      "7499/7499 [==============================] - 0s 62us/step - loss: 26.6850 - acc: 4.0005e-04\n",
      "Epoch 3/10\n",
      "7499/7499 [==============================] - 0s 63us/step - loss: 23.1221 - acc: 4.0005e-04\n",
      "Epoch 4/10\n",
      "7499/7499 [==============================] - 0s 63us/step - loss: 23.1178 - acc: 4.0005e-04\n",
      "Epoch 5/10\n",
      "7499/7499 [==============================] - 0s 65us/step - loss: 23.1157 - acc: 4.0005e-04\n",
      "Epoch 6/10\n",
      "7499/7499 [==============================] - 0s 64us/step - loss: 23.1157 - acc: 4.0005e-04\n",
      "Epoch 7/10\n",
      "7499/7499 [==============================] - 0s 64us/step - loss: 23.1148 - acc: 4.0005e-04\n",
      "Epoch 8/10\n",
      "7499/7499 [==============================] - 1s 127us/step - loss: 23.1175 - acc: 4.0005e-04\n",
      "Epoch 9/10\n",
      "7499/7499 [==============================] - 0s 66us/step - loss: 23.1048 - acc: 4.0005e-04\n",
      "Epoch 10/10\n",
      "7499/7499 [==============================] - 0s 63us/step - loss: 23.1111 - acc: 4.0005e-04\n"
     ]
    },
    {
     "data": {
      "text/plain": [
       "<keras.callbacks.History at 0x7fd86ccabcc0>"
      ]
     },
     "execution_count": 65,
     "metadata": {},
     "output_type": "execute_result"
    }
   ],
   "source": [
    "from keras.models import Sequential\n",
    "from keras.layers import LSTM\n",
    "from keras.layers import Dense\n",
    "\n",
    "# define model\n",
    "model = Sequential()\n",
    "model.add(LSTM(50, activation='relu', input_shape=(n_steps, n_features)))\n",
    "model.add(Dense(1))\n",
    "model.compile(optimizer='adam', loss='mse',metrics=['accuracy'])\n",
    "# fit model\n",
    "model.fit(X_train_vanilla, y_train_vanilla, epochs=10, verbose=1)"
   ]
  },
  {
   "cell_type": "code",
   "execution_count": null,
   "metadata": {},
   "outputs": [],
   "source": [
    "# demonstrate prediction\n",
    "# x_input = array([70, 80, 90])\n",
    "# x_input = X[-1].reshape((1, n_steps, n_features)) # imp for single test input"
   ]
  },
  {
   "cell_type": "code",
   "execution_count": 66,
   "metadata": {},
   "outputs": [
    {
     "name": "stdout",
     "output_type": "stream",
     "text": [
      "2000\n"
     ]
    }
   ],
   "source": [
    "test_ip_vanilla,test_op_vanilla=split_sequence(test_data_vanilla,n_steps)\n",
    "X_test_ip_vanilla=test_ip_vanilla.reshape((test_ip_vanilla.shape[0], test_ip_vanilla.shape[1], n_features))"
   ]
  },
  {
   "cell_type": "code",
   "execution_count": 67,
   "metadata": {},
   "outputs": [
    {
     "name": "stdout",
     "output_type": "stream",
     "text": [
      "1999/1999 [==============================] - 0s 139us/step\n",
      "[[62.80837 ]\n",
      " [61.811043]\n",
      " [59.11922 ]\n",
      " ...\n",
      " [37.555115]\n",
      " [37.893627]\n",
      " [38.092384]]\n"
     ]
    }
   ],
   "source": [
    "yhat = model.predict(X_test_ip_vanilla, verbose=1)\n",
    "print(yhat)"
   ]
  },
  {
   "cell_type": "code",
   "execution_count": null,
   "metadata": {},
   "outputs": [],
   "source": [
    "# print(y[-10:-1])"
   ]
  },
  {
   "cell_type": "code",
   "execution_count": null,
   "metadata": {},
   "outputs": [],
   "source": [
    "# print(y[-10:-1])"
   ]
  },
  {
   "cell_type": "code",
   "execution_count": null,
   "metadata": {},
   "outputs": [],
   "source": [
    "# raw_seq = [10, 20, 30, 40, 50, 60, 70, 80, 90]\n",
    "# print(type(raw_seq))\n",
    "# raw_seq=np.array(raw_seq)\n",
    "# print(type(raw_seq))\n",
    "# print(raw_seq[0:5])\n",
    "# print(raw_seq[-1])"
   ]
  },
  {
   "cell_type": "code",
   "execution_count": 68,
   "metadata": {},
   "outputs": [
    {
     "data": {
      "image/png": "[encoded data removed]",
      "text/plain": [
       "<Figure size 432x288 with 1 Axes>"
      ]
     },
     "metadata": {
      "needs_background": "light"
     },
     "output_type": "display_data"
    }
   ],
   "source": [
    "# my_data_1.index[0:-1]\n",
    "plt.plot(yhat,color='green')\n",
    "plt.plot(test_op_vanilla,color='red')\n",
    "plt.xticks( rotation=25)\n",
    "plt.show()"
   ]
  },
  {
   "cell_type": "code",
   "execution_count": null,
   "metadata": {},
   "outputs": [],
   "source": [
    "# print(my_data_1.index[0:])"
   ]
  },
  {
   "cell_type": "code",
   "execution_count": 69,
   "metadata": {},
   "outputs": [
    {
     "name": "stdout",
     "output_type": "stream",
     "text": [
      "23.38055741959918\n"
     ]
    }
   ],
   "source": [
    "from sklearn.metrics import mean_squared_error\n",
    "\n",
    "#Print MSE to see how good the model is\n",
    "Error = mean_squared_error(test_op_vanilla,yhat)\n",
    "print(Error)"
   ]
  },
  {
   "cell_type": "markdown",
   "metadata": {},
   "source": [
    "# Stacked LSTM Univariate TimeSeries Data"
   ]
  },
  {
   "cell_type": "code",
   "execution_count": 52,
   "metadata": {},
   "outputs": [
    {
     "name": "stdout",
     "output_type": "stream",
     "text": [
      "(7500, 1)\n",
      "(2000, 1)\n"
     ]
    }
   ],
   "source": [
    "train_data_stacked=my_data[0:7500]\n",
    "print(train_data_stacked.shape)\n",
    "test_data_stacked=my_data[7500:]\n",
    "print(test_data_stacked.shape)"
   ]
  },
  {
   "cell_type": "code",
   "execution_count": 55,
   "metadata": {},
   "outputs": [],
   "source": [
    "from numpy import array\n",
    "from keras.models import Sequential\n",
    "from keras.layers import LSTM\n",
    "from keras.layers import Dense\n",
    "\n",
    "n_steps_stack=3\n",
    "\n",
    "# split a univariate sequence\n",
    "def split_sequence(sequence, n_steps):\n",
    "\tX, y = list(), list()\n",
    "\tfor i in range(len(sequence)):\n",
    "\t\t# find the end of this pattern\n",
    "\t\tend_ix = i + n_steps\n",
    "\t\t# check if we are beyond the sequence\n",
    "\t\tif end_ix > len(sequence)-1:\n",
    "\t\t\tbreak\n",
    "\t\t# gather input and output parts of the pattern\n",
    "\t\tseq_x, seq_y = sequence[i:end_ix], sequence[end_ix]\n",
    "\t\tX.append(seq_x)\n",
    "\t\ty.append(seq_y)\n",
    "\treturn array(X), array(y)\n",
    "\n",
    "X_train_stack,y_train_stack=split_sequence(train_data_stacked,n_steps_stack)"
   ]
  },
  {
   "cell_type": "code",
   "execution_count": 56,
   "metadata": {},
   "outputs": [],
   "source": [
    "n_features_stack = 1\n",
    "X_train_stack = X_train_stack.reshape((X_train_stack.shape[0], X_train_stack.shape[1], n_features_stack))"
   ]
  },
  {
   "cell_type": "code",
   "execution_count": 70,
   "metadata": {},
   "outputs": [
    {
     "name": "stdout",
     "output_type": "stream",
     "text": [
      "Epoch 1/10\n",
      "7497/7497 [==============================] - 3s 375us/step - loss: 409.7430 - acc: 1.3339e-04\n",
      "Epoch 2/10\n",
      "7497/7497 [==============================] - 1s 157us/step - loss: 24.1804 - acc: 0.0000e+00\n",
      "Epoch 3/10\n",
      "7497/7497 [==============================] - 1s 159us/step - loss: 23.8303 - acc: 0.0000e+00\n",
      "Epoch 4/10\n",
      "7497/7497 [==============================] - 1s 162us/step - loss: 22.7277 - acc: 0.0000e+00\n",
      "Epoch 5/10\n",
      "7497/7497 [==============================] - 1s 160us/step - loss: 21.2407 - acc: 0.0000e+00\n",
      "Epoch 6/10\n",
      "7497/7497 [==============================] - 1s 190us/step - loss: 18.6261 - acc: 0.0000e+00\n",
      "Epoch 7/10\n",
      "7497/7497 [==============================] - 1s 198us/step - loss: 16.2746 - acc: 0.0000e+00\n",
      "Epoch 8/10\n",
      "7497/7497 [==============================] - 1s 173us/step - loss: 15.3458 - acc: 0.0000e+00\n",
      "Epoch 9/10\n",
      "7497/7497 [==============================] - 1s 170us/step - loss: 14.7911 - acc: 0.0000e+00\n",
      "Epoch 10/10\n",
      "7497/7497 [==============================] - 1s 169us/step - loss: 15.1374 - acc: 0.0000e+00\n"
     ]
    },
    {
     "data": {
      "text/plain": [
       "<keras.callbacks.History at 0x7fd867e3afd0>"
      ]
     },
     "execution_count": 70,
     "metadata": {},
     "output_type": "execute_result"
    }
   ],
   "source": [
    "def stack_lstm():\n",
    "    model = Sequential()\n",
    "    model.add(LSTM(50, activation='relu', return_sequences=True, input_shape=(n_steps_stack, n_features_stack)))\n",
    "    model.add(LSTM(50, activation='relu'))\n",
    "    model.add(Dense(1))\n",
    "    \n",
    "    return model\n",
    "stack_lstm=stack_lstm()\n",
    "\n",
    "stack_lstm.compile(optimizer='adam', loss='mse',metrics=['accuracy'])\n",
    "# fit model\n",
    "stack_lstm.fit(X_train_stack, y_train_stack, epochs=10, verbose=1)\n",
    "# demonstrate prediction\n",
    "# x_input = array([70, 80, 90])\n",
    "# x_input = x_input.reshape((1, n_steps, n_features))"
   ]
  },
  {
   "cell_type": "code",
   "execution_count": 71,
   "metadata": {},
   "outputs": [
    {
     "name": "stdout",
     "output_type": "stream",
     "text": [
      "2000\n"
     ]
    }
   ],
   "source": [
    "test_ip_stack,test_op_stack=split_sequence(test_data_stacked,n_steps_stack)\n",
    "X_test_ip_stack=test_ip_stack.reshape((test_ip_stack.shape[0], test_ip_stack.shape[1], n_features_stack))"
   ]
  },
  {
   "cell_type": "code",
   "execution_count": 72,
   "metadata": {},
   "outputs": [
    {
     "name": "stdout",
     "output_type": "stream",
     "text": [
      "1997/1997 [==============================] - 0s 220us/step\n",
      "[[60.631657]\n",
      " [59.22145 ]\n",
      " [58.929863]\n",
      " ...\n",
      " [43.161144]\n",
      " [43.247345]\n",
      " [43.286827]]\n"
     ]
    }
   ],
   "source": [
    "yhat_stack_lstm = stack_lstm.predict(X_test_ip_stack, verbose=1)\n",
    "print(yhat_stack_lstm)"
   ]
  },
  {
   "cell_type": "code",
   "execution_count": 73,
   "metadata": {},
   "outputs": [
    {
     "data": {
      "image/png": "[encoded data removed]",
      "text/plain": [
       "<Figure size 432x288 with 1 Axes>"
      ]
     },
     "metadata": {
      "needs_background": "light"
     },
     "output_type": "display_data"
    }
   ],
   "source": [
    "plt.plot(yhat_stack_lstm,color='green')\n",
    "plt.plot(test_op_stack,color='red')\n",
    "# plt.plot(y,color='red')\n",
    "plt.xticks( rotation=25)\n",
    "plt.show()"
   ]
  },
  {
   "cell_type": "code",
   "execution_count": 74,
   "metadata": {},
   "outputs": [
    {
     "name": "stdout",
     "output_type": "stream",
     "text": [
      "16.194198204497\n"
     ]
    }
   ],
   "source": [
    "from sklearn.metrics import mean_squared_error\n",
    "\n",
    "#Print MSE to see how good the model is\n",
    "Error = mean_squared_error(test_op_stack,yhat_stack_lstm)\n",
    "print(Error)"
   ]
  },
  {
   "cell_type": "markdown",
   "metadata": {},
   "source": [
    "# Bidirectional LSTM"
   ]
  },
  {
   "cell_type": "code",
   "execution_count": 75,
   "metadata": {},
   "outputs": [
    {
     "name": "stdout",
     "output_type": "stream",
     "text": [
      "(7500, 1)\n",
      "(2000, 1)\n"
     ]
    }
   ],
   "source": [
    "train_data_bidirectional=my_data[0:7500]\n",
    "print(train_data_bidirectional.shape)\n",
    "test_data_bidirectional=my_data[7500:]\n",
    "print(test_data_bidirectional.shape)"
   ]
  },
  {
   "cell_type": "code",
   "execution_count": 78,
   "metadata": {},
   "outputs": [],
   "source": [
    "# split a univariate sequence\n",
    "def split_sequence(sequence, n_steps):\n",
    "\tX, y = list(), list()\n",
    "\tfor i in range(len(sequence)):\n",
    "\t\t# find the end of this pattern\n",
    "\t\tend_ix = i + n_steps\n",
    "\t\t# check if we are beyond the sequence\n",
    "\t\tif end_ix > len(sequence)-1:\n",
    "\t\t\tbreak\n",
    "\t\t# gather input and output parts of the pattern\n",
    "\t\tseq_x, seq_y = sequence[i:end_ix], sequence[end_ix]\n",
    "\t\tX.append(seq_x)\n",
    "\t\ty.append(seq_y)\n",
    "\treturn array(X), array(y)\n",
    "\n",
    "n_steps_bidirectional = 3\n",
    "# split into samples\n",
    "X_train_bidirectional, y_train_bidirectional = split_sequence(train_data_bidirectional, n_steps_bidirectional)\n",
    "# reshape from [samples, timesteps] into [samples, timesteps, features]\n",
    "n_features_bidirectional = 1\n",
    "X_train_bidirectional = X_train_bidirectional.reshape((X_train_bidirectional.shape[0], X_train_bidirectional.shape[1], n_features_bidirectional))"
   ]
  },
  {
   "cell_type": "code",
   "execution_count": 79,
   "metadata": {},
   "outputs": [
    {
     "name": "stdout",
     "output_type": "stream",
     "text": [
      "Epoch 1/10\n",
      "7497/7497 [==============================] - 3s 379us/step - loss: 420.2028 - acc: 0.0000e+00\n",
      "Epoch 2/10\n",
      "7497/7497 [==============================] - 1s 141us/step - loss: 15.9800 - acc: 0.0000e+00\n",
      "Epoch 3/10\n",
      "7497/7497 [==============================] - 1s 150us/step - loss: 15.5845 - acc: 0.0000e+00\n",
      "Epoch 4/10\n",
      "7497/7497 [==============================] - 1s 170us/step - loss: 15.1818 - acc: 0.0000e+00\n",
      "Epoch 5/10\n",
      "7497/7497 [==============================] - 1s 153us/step - loss: 14.9869 - acc: 0.0000e+00\n",
      "Epoch 6/10\n",
      "7497/7497 [==============================] - 1s 185us/step - loss: 15.1939 - acc: 0.0000e+00\n",
      "Epoch 7/10\n",
      "7497/7497 [==============================] - 1s 152us/step - loss: 14.8777 - acc: 0.0000e+00\n",
      "Epoch 8/10\n",
      "7497/7497 [==============================] - 1s 151us/step - loss: 14.8103 - acc: 0.0000e+00\n",
      "Epoch 9/10\n",
      "7497/7497 [==============================] - 1s 195us/step - loss: 14.9742 - acc: 0.0000e+00\n",
      "Epoch 10/10\n",
      "7497/7497 [==============================] - 1s 160us/step - loss: 14.9715 - acc: 0.0000e+00\n"
     ]
    },
    {
     "data": {
      "text/plain": [
       "<keras.callbacks.History at 0x7fd86d700f28>"
      ]
     },
     "execution_count": 79,
     "metadata": {},
     "output_type": "execute_result"
    }
   ],
   "source": [
    "from keras.layers import Bidirectional\n",
    "def bidirectional_lstm():\n",
    "    model = Sequential()\n",
    "    model.add(Bidirectional(LSTM(50, activation='relu'), input_shape=(n_steps_bidirectional, n_features_bidirectional)))\n",
    "    model.add(Dense(1))\n",
    "    return model\n",
    "\n",
    "bi_lstm=bidirectional_lstm()\n",
    "bi_lstm.compile(optimizer='adam', loss='mse',metrics=['accuracy'])\n",
    "# fit model\n",
    "bi_lstm.fit(X_train_bidirectional, y_train_bidirectional, epochs=10, verbose=1)"
   ]
  },
  {
   "cell_type": "code",
   "execution_count": 81,
   "metadata": {},
   "outputs": [],
   "source": [
    "test_ip_bidirectional, test_op_bidirectional = split_sequence(test_data_bidirectional, n_steps_bidirectional)\n",
    "test_ip_bidirectional =test_ip_bidirectional.reshape((test_ip_bidirectional.shape[0], test_ip_bidirectional.shape[1], n_features_bidirectional))"
   ]
  },
  {
   "cell_type": "code",
   "execution_count": 82,
   "metadata": {},
   "outputs": [
    {
     "name": "stdout",
     "output_type": "stream",
     "text": [
      "1997/1997 [==============================] - 1s 288us/step\n",
      "[[60.28669 ]\n",
      " [58.0683  ]\n",
      " [58.080963]\n",
      " ...\n",
      " [42.37357 ]\n",
      " [42.419647]\n",
      " [42.650623]]\n"
     ]
    }
   ],
   "source": [
    "yhat_bi_lstm = bi_lstm.predict(test_ip_bidirectional, verbose=1)\n",
    "print(yhat_bi_lstm)"
   ]
  },
  {
   "cell_type": "code",
   "execution_count": 83,
   "metadata": {},
   "outputs": [
    {
     "data": {
      "image/png": "[encoded data removed]",
      "text/plain": [
       "<Figure size 432x288 with 1 Axes>"
      ]
     },
     "metadata": {
      "needs_background": "light"
     },
     "output_type": "display_data"
    }
   ],
   "source": [
    "plt.plot(yhat_bi_lstm,color='green')\n",
    "plt.plot(test_op_bidirectional,color='red')\n",
    "# plt.plot(y,color='red')\n",
    "plt.xticks( rotation=25)\n",
    "plt.show()"
   ]
  },
  {
   "cell_type": "code",
   "execution_count": 84,
   "metadata": {},
   "outputs": [
    {
     "name": "stdout",
     "output_type": "stream",
     "text": [
      "16.874317193349103\n"
     ]
    }
   ],
   "source": [
    "from sklearn.metrics import mean_squared_error\n",
    "\n",
    "#Print MSE to see how good the model is\n",
    "Error = mean_squared_error(test_op_bidirectional,yhat_bi_lstm)\n",
    "print(Error)"
   ]
  },
  {
   "cell_type": "markdown",
   "metadata": {},
   "source": [
    "# CNN LSTM"
   ]
  },
  {
   "cell_type": "code",
   "execution_count": null,
   "metadata": {},
   "outputs": [],
   "source": [
    "from numpy import array\n",
    "from keras.models import Sequential\n",
    "from keras.layers import LSTM\n",
    "from keras.layers import Dense\n",
    "from keras.layers import Flatten\n",
    "from keras.layers import TimeDistributed\n",
    "from keras.layers.convolutional import Conv1D\n",
    "from keras.layers.convolutional import MaxPooling1D\n",
    " \n",
    "# split a univariate sequence into samples\n",
    "def split_sequence(sequence, n_steps):\n",
    "\tX, y = list(), list()\n",
    "\tfor i in range(len(sequence)):\n",
    "\t\t# find the end of this pattern\n",
    "\t\tend_ix = i + n_steps\n",
    "\t\t# check if we are beyond the sequence\n",
    "\t\tif end_ix > len(sequence)-1:\n",
    "\t\t\tbreak\n",
    "\t\t# gather input and output parts of the pattern\n",
    "\t\tseq_x, seq_y = sequence[i:end_ix], sequence[end_ix]\n",
    "\t\tX.append(seq_x)\n",
    "\t\ty.append(seq_y)\n",
    "\treturn array(X), array(y)\n",
    " \n",
    "# define input sequence\n",
    "# raw_seq = [10, 20, 30, 40, 50, 60, 70, 80, 90]\n",
    "# choose a number of time steps\n",
    "n_steps_1 = 4\n",
    "# split into samples\n",
    "X_cnn_lstm, y_cnn_lstm = split_sequence(train_data, n_steps_1)\n",
    "# tr=X_cnn_lstm[0:7500]\n",
    "# te=X_cnn_lstm[7500:]\n",
    "# reshape from [samples, timesteps] into [samples, subsequences, timesteps, features]\n",
    "n_features = 1\n",
    "n_seq = 2\n",
    "n_steps_2 = 2\n",
    "# X_cnn_lstm_train = X_cnn_lstm.reshape((X_cnn_lstm.shape[0], n_seq, n_steps, n_features))\n",
    "X_cnn_lstm_train = X_cnn_lstm.reshape((X_cnn_lstm.shape[0], n_seq, n_steps_2, n_features))\n",
    "print(X_cnn_lstm_train.shape)"
   ]
  },
  {
   "cell_type": "code",
   "execution_count": null,
   "metadata": {},
   "outputs": [],
   "source": [
    "# define model\n",
    "def cnn_lstm():\n",
    "    model = Sequential()\n",
    "    model.add(TimeDistributed(Conv1D(filters=64, kernel_size=1, activation='relu'), input_shape=(None, n_steps_2, n_features)))\n",
    "    model.add(TimeDistributed(MaxPooling1D(pool_size=2)))\n",
    "    model.add(TimeDistributed(Flatten()))\n",
    "    model.add(LSTM(50, activation='relu'))\n",
    "    model.add(Dense(1))\n",
    "    return model\n",
    "cnn_lstm=cnn_lstm()\n",
    "cnn_lstm.compile(optimizer='adam', loss='mse',metrics=['accuracy'])\n",
    "\n",
    "# fit model\n",
    "cnn_lstm.fit(X_cnn_lstm_train, y_cnn_lstm, epochs=10, verbose=1)"
   ]
  },
  {
   "cell_type": "code",
   "execution_count": null,
   "metadata": {},
   "outputs": [],
   "source": [
    "print(train_data.shape)\n",
    "print(X_cnn_lstm.shape)\n",
    "print(y_cnn_lstm.shape)"
   ]
  },
  {
   "cell_type": "code",
   "execution_count": null,
   "metadata": {},
   "outputs": [],
   "source": [
    "X_cnn_lstm_test, y_cnn_lstm_test = split_sequence(test_data, n_steps_1)\n",
    "print(test_data.shape)\n",
    "print(X_cnn_lstm_test.shape)\n",
    "X_cnn_lstm_test_ip = X_cnn_lstm_test.reshape((X_cnn_lstm_test.shape[0],n_seq, n_steps_2, n_features))\n",
    "print(X_cnn_lstm_test_ip.shape)"
   ]
  },
  {
   "cell_type": "code",
   "execution_count": null,
   "metadata": {},
   "outputs": [],
   "source": [
    "# X_cnn_lstm_test = test_data.reshape((test_data.shape[0], n_seq, n_steps, n_features))\n",
    "yhat = cnn_lstm.predict(X_cnn_lstm_test_ip, verbose=1)\n",
    "print(yhat.shape)"
   ]
  },
  {
   "cell_type": "code",
   "execution_count": null,
   "metadata": {},
   "outputs": [],
   "source": [
    "print(y_cnn_lstm_test.shape)"
   ]
  },
  {
   "cell_type": "markdown",
   "metadata": {},
   "source": [
    "# ConvLSTM"
   ]
  },
  {
   "cell_type": "code",
   "execution_count": null,
   "metadata": {},
   "outputs": [],
   "source": [
    "from numpy import array\n",
    "from keras.models import Sequential\n",
    "from keras.layers import LSTM\n",
    "from keras.layers import Dense\n",
    "from keras.layers import Flatten\n",
    "from keras.layers import ConvLSTM2D\n",
    " \n",
    "# split a univariate sequence into samples\n",
    "def split_sequence(sequence, n_steps):\n",
    "\tX, y = list(), list()\n",
    "\tfor i in range(len(sequence)):\n",
    "\t\t# find the end of this pattern\n",
    "\t\tend_ix = i + n_steps\n",
    "\t\t# check if we are beyond the sequence\n",
    "\t\tif end_ix > len(sequence)-1:\n",
    "\t\t\tbreak\n",
    "\t\t# gather input and output parts of the pattern\n",
    "\t\tseq_x, seq_y = sequence[i:end_ix], sequence[end_ix]\n",
    "\t\tX.append(seq_x)\n",
    "\t\ty.append(seq_y)\n",
    "\treturn array(X), array(y)\n",
    " \n",
    "# define input sequence\n",
    "# raw_seq = [10, 20, 30, 40, 50, 60, 70, 80, 90]\n",
    "# choose a number of time steps\n",
    "n_steps_1 = 4\n",
    "# split into samples\n",
    "X_Conv_Lstm, y_Conv_Lstm = split_sequence(train_data, n_steps_1)\n",
    "# reshape from [samples, timesteps] into [samples, timesteps, rows, columns, features]\n",
    "n_features = 1\n",
    "n_seq = 2\n",
    "n_steps_2 = 2\n",
    "X_Conv_Lstm_train = X_Conv_Lstm.reshape((X_Conv_Lstm.shape[0], n_seq, 1, n_steps_2, n_features))"
   ]
  },
  {
   "cell_type": "code",
   "execution_count": null,
   "metadata": {},
   "outputs": [],
   "source": [
    "# define model\n",
    "model = Sequential()\n",
    "model.add(ConvLSTM2D(filters=64, kernel_size=(1,2), activation='relu', input_shape=(n_seq, 1, n_steps_2, n_features)))\n",
    "model.add(Flatten())\n",
    "model.add(Dense(1))\n",
    "model.compile(optimizer='adam', loss='mse')\n",
    "# fit model\n",
    "model.fit(X_Conv_Lstm_train, y_Conv_Lstm, epochs=10, verbose=1)"
   ]
  },
  {
   "cell_type": "code",
   "execution_count": null,
   "metadata": {},
   "outputs": [],
   "source": [
    "# demonstrate prediction\n",
    "# x_input = array([60, 70, 80, 90])\n",
    "X_Conv_Lstm_test, y_Conv_Lstm_test = split_sequence(test_data, n_steps_1)\n",
    "\n",
    "x_input = X_Conv_Lstm_test.reshape((X_Conv_Lstm_test.shape[0], n_seq, 1, n_steps_2, n_features))\n",
    "yhat = model.predict(x_input, verbose=1)\n",
    "print(yhat)"
   ]
  },
  {
   "cell_type": "code",
   "execution_count": null,
   "metadata": {},
   "outputs": [],
   "source": [
    "from sklearn.metrics import mean_squared_error\n",
    "\n",
    "#Print MSE to see how good the model is\n",
    "Error = mean_squared_error(y_Conv_Lstm_test,yhat)\n",
    "print(Error)"
   ]
  },
  {
   "cell_type": "code",
   "execution_count": null,
   "metadata": {},
   "outputs": [],
   "source": [
    "# plt.plot(yhat,color='green')\n",
    "plt.plot(y_Conv_Lstm_test,color='red')\n",
    "# plt.plot(y,color='red')\n",
    "plt.xticks( rotation=25)\n",
    "plt.show()"
   ]
  },
  {
   "cell_type": "markdown",
   "metadata": {},
   "source": [
    "# Multiple input time series"
   ]
  },
  {
   "cell_type": "code",
   "execution_count": 14,
   "metadata": {},
   "outputs": [],
   "source": [
    "multiple_time_series=test_new.loc[500:9999,['dateTime','AEWIHOAVABV2','AEDATZ_HO_V0','RWWIHOA_HWT0','AEDAHO_T9_V2']]"
   ]
  },
  {
   "cell_type": "code",
   "execution_count": 15,
   "metadata": {},
   "outputs": [],
   "source": [
    "multiple_time_series = multiple_time_series.set_index('dateTime')"
   ]
  },
  {
   "cell_type": "code",
   "execution_count": 16,
   "metadata": {},
   "outputs": [],
   "source": [
    "multiple_time_series=multiple_time_series.loc[::-1]"
   ]
  },
  {
   "cell_type": "code",
   "execution_count": 17,
   "metadata": {},
   "outputs": [
    {
     "name": "stderr",
     "output_type": "stream",
     "text": [
      "/home/atif/anaconda3/envs/venv/lib/python3.6/site-packages/ipykernel_launcher.py:1: FutureWarning: Method .as_matrix will be removed in a future version. Use .values instead.\n",
      "  \"\"\"Entry point for launching an IPython kernel.\n"
     ]
    }
   ],
   "source": [
    "multiple_time_matrix=multiple_time_series.as_matrix()"
   ]
  },
  {
   "cell_type": "code",
   "execution_count": 32,
   "metadata": {},
   "outputs": [
    {
     "data": {
      "text/html": [
       "<div>\n",
       "<style scoped>\n",
       "    .dataframe tbody tr th:only-of-type {\n",
       "        vertical-align: middle;\n",
       "    }\n",
       "\n",
       "    .dataframe tbody tr th {\n",
       "        vertical-align: top;\n",
       "    }\n",
       "\n",
       "    .dataframe thead th {\n",
       "        text-align: right;\n",
       "    }\n",
       "</style>\n",
       "<table border=\"1\" class=\"dataframe\">\n",
       "  <thead>\n",
       "    <tr style=\"text-align: right;\">\n",
       "      <th></th>\n",
       "      <th>AEWIHOAVABV2</th>\n",
       "      <th>AEDATZ_HO_V0</th>\n",
       "      <th>RWWIHOA_HWT0</th>\n",
       "      <th>AEDAHO_T9_V2</th>\n",
       "    </tr>\n",
       "    <tr>\n",
       "      <th>dateTime</th>\n",
       "      <th></th>\n",
       "      <th></th>\n",
       "      <th></th>\n",
       "      <th></th>\n",
       "    </tr>\n",
       "  </thead>\n",
       "  <tbody>\n",
       "    <tr>\n",
       "      <th>2019-04-11 11:29:00</th>\n",
       "      <td>80.056771</td>\n",
       "      <td>29.099978</td>\n",
       "      <td>91.314595</td>\n",
       "      <td>42.292350</td>\n",
       "    </tr>\n",
       "    <tr>\n",
       "      <th>2019-04-11 11:30:00</th>\n",
       "      <td>80.273953</td>\n",
       "      <td>30.584083</td>\n",
       "      <td>91.070699</td>\n",
       "      <td>42.108748</td>\n",
       "    </tr>\n",
       "    <tr>\n",
       "      <th>2019-04-11 11:31:00</th>\n",
       "      <td>80.248003</td>\n",
       "      <td>32.296527</td>\n",
       "      <td>91.087722</td>\n",
       "      <td>42.343193</td>\n",
       "    </tr>\n",
       "    <tr>\n",
       "      <th>2019-04-11 11:32:00</th>\n",
       "      <td>80.112264</td>\n",
       "      <td>34.384378</td>\n",
       "      <td>91.007505</td>\n",
       "      <td>42.480315</td>\n",
       "    </tr>\n",
       "    <tr>\n",
       "      <th>2019-04-11 11:33:00</th>\n",
       "      <td>80.287128</td>\n",
       "      <td>36.275050</td>\n",
       "      <td>91.094201</td>\n",
       "      <td>42.305187</td>\n",
       "    </tr>\n",
       "  </tbody>\n",
       "</table>\n",
       "</div>"
      ],
      "text/plain": [
       "                     AEWIHOAVABV2  AEDATZ_HO_V0  RWWIHOA_HWT0  AEDAHO_T9_V2\n",
       "dateTime                                                                   \n",
       "2019-04-11 11:29:00     80.056771     29.099978     91.314595     42.292350\n",
       "2019-04-11 11:30:00     80.273953     30.584083     91.070699     42.108748\n",
       "2019-04-11 11:31:00     80.248003     32.296527     91.087722     42.343193\n",
       "2019-04-11 11:32:00     80.112264     34.384378     91.007505     42.480315\n",
       "2019-04-11 11:33:00     80.287128     36.275050     91.094201     42.305187"
      ]
     },
     "execution_count": 32,
     "metadata": {},
     "output_type": "execute_result"
    }
   ],
   "source": [
    "# print(multiple_time_series)\n",
    "multiple_time_series.tail()"
   ]
  },
  {
   "cell_type": "code",
   "execution_count": 33,
   "metadata": {},
   "outputs": [
    {
     "name": "stdout",
     "output_type": "stream",
     "text": [
      "(7500, 4)\n",
      "(2000, 4)\n",
      "[[68.19199859 36.10161919 87.10032319]\n",
      " [68.20237862 35.71418436 87.47143814]\n",
      " [68.32614051 34.36447664 87.37500958]\n",
      " ...\n",
      " [80.24800284 32.29652695 91.0877219 ]\n",
      " [80.112264   34.38437835 91.00750489]\n",
      " [80.28712757 36.27504965 91.09420059]]\n",
      "[62.69282399 61.68225878 58.95471276 ... 42.343193   42.48031501\n",
      " 42.30518655]\n"
     ]
    }
   ],
   "source": [
    "multiple_ip_train_data=multiple_time_matrix[0:7500]\n",
    "print(multiple_ip_train_data.shape)\n",
    "multiple_ip_test_set=multiple_time_matrix[7500:]\n",
    "# print(multiple_ip_test_set.shape)\n",
    "# # print(multiple_ip_train_data)\n",
    "# mul_test_ip=multiple_ip_test_set[:,:-1]\n",
    "# print(mul_test_ip)\n",
    "# mul_actual_op=multiple_ip_test_set[:,-1]\n",
    "# print(mul_actual_op)"
   ]
  },
  {
   "cell_type": "code",
   "execution_count": 40,
   "metadata": {},
   "outputs": [
    {
     "name": "stdout",
     "output_type": "stream",
     "text": [
      "(7498, 3, 3) (7498,)\n"
     ]
    }
   ],
   "source": [
    "from numpy import array\n",
    "# from numpy import hstack\n",
    " \n",
    "# split a multivariate sequence into samples\n",
    "def split_sequences(sequences, n_steps):\n",
    "\tX, y = list(), list()\n",
    "\tfor i in range(len(sequences)):\n",
    "\t\t# find the end of this pattern\n",
    "\t\tend_ix = i + n_steps\n",
    "\t\t# check if we are beyond the dataset\n",
    "\t\tif end_ix > len(sequences):\n",
    "\t\t\tbreak\n",
    "\t\t# gather input and output parts of the pattern\n",
    "\t\tseq_x, seq_y = sequences[i:end_ix, :-1], sequences[end_ix-1, -1]\n",
    "\t\tX.append(seq_x)\n",
    "\t\ty.append(seq_y)\n",
    "\treturn array(X), array(y)\n",
    " \n",
    "# define input sequence\n",
    "# in_seq1 = array([10, 20, 30, 40, 50, 60, 70, 80, 90])\n",
    "# in_seq2 = array([15, 25, 35, 45, 55, 65, 75, 85, 95])\n",
    "# out_seq = array([in_seq1[i]+in_seq2[i] for i in range(len(in_seq1))])\n",
    "# convert to [rows, columns] structure\n",
    "# in_seq1 = in_seq1.reshape((len(in_seq1), 1))\n",
    "# in_seq2 = in_seq2.reshape((len(in_seq2), 1))\n",
    "# out_seq = out_seq.reshape((len(out_seq), 1))\n",
    "# horizontally stack columns\n",
    "# dataset = hstack((in_seq1, in_seq2, out_seq))\n",
    "# choose a number of time steps\n",
    "n_steps = 3\n",
    "# convert into input/output\n",
    "X_multiple_ip, y_multiple_ip = split_sequences(multiple_ip_train_data, n_steps)\n",
    "print(X_multiple_ip.shape, y_multiple_ip.shape)\n",
    "# summarize the data\n",
    "# for i in range(len(X)):\n",
    "# \tprint(X[i], y[i])"
   ]
  },
  {
   "cell_type": "code",
   "execution_count": 25,
   "metadata": {},
   "outputs": [
    {
     "name": "stdout",
     "output_type": "stream",
     "text": [
      "Epoch 1/10\n",
      "7498/7498 [==============================] - 1s 190us/step - loss: 144.6518 - acc: 0.0000e+00\n",
      "Epoch 2/10\n",
      "7498/7498 [==============================] - 1s 86us/step - loss: 17.9066 - acc: 0.0000e+00\n",
      "Epoch 3/10\n",
      "7498/7498 [==============================] - 1s 88us/step - loss: 14.1338 - acc: 0.0000e+00\n",
      "Epoch 4/10\n",
      "7498/7498 [==============================] - 1s 88us/step - loss: 12.0084 - acc: 0.0000e+00\n",
      "Epoch 5/10\n",
      "7498/7498 [==============================] - 1s 89us/step - loss: 11.0767 - acc: 0.0000e+00\n",
      "Epoch 6/10\n",
      "7498/7498 [==============================] - 1s 97us/step - loss: 10.3199 - acc: 0.0000e+00\n",
      "Epoch 7/10\n",
      "7498/7498 [==============================] - 1s 127us/step - loss: 10.4532 - acc: 0.0000e+00\n",
      "Epoch 8/10\n",
      "7498/7498 [==============================] - 1s 92us/step - loss: 9.6889 - acc: 0.0000e+00\n",
      "Epoch 9/10\n",
      "7498/7498 [==============================] - 1s 90us/step - loss: 9.5388 - acc: 0.0000e+00\n",
      "Epoch 10/10\n",
      "7498/7498 [==============================] - 1s 95us/step - loss: 9.3891 - acc: 1.3337e-04\n"
     ]
    },
    {
     "data": {
      "text/plain": [
       "<keras.callbacks.History at 0x7f67d85b6208>"
      ]
     },
     "execution_count": 25,
     "metadata": {},
     "output_type": "execute_result"
    }
   ],
   "source": [
    "from keras.models import Sequential\n",
    "from keras.layers import LSTM\n",
    "from keras.layers import Dense\n",
    "\n",
    "n_features = X_multiple_ip.shape[2]\n",
    "# define model\n",
    "model = Sequential()\n",
    "model.add(LSTM(50, activation='relu', input_shape=(n_steps, n_features)))\n",
    "model.add(Dense(1))\n",
    "model.compile(optimizer='adam', loss='mse',metrics=['accuracy'])\n",
    "# fit model\n",
    "model.fit(X_multiple_ip, y_multiple_ip, epochs=10, verbose=1)"
   ]
  },
  {
   "cell_type": "code",
   "execution_count": 34,
   "metadata": {},
   "outputs": [
    {
     "name": "stdout",
     "output_type": "stream",
     "text": [
      "(1998, 3, 3)\n"
     ]
    }
   ],
   "source": [
    "X_multiple_test_ip, y_multiple_test_op = split_sequences(multiple_ip_test_set, n_steps)\n",
    "print(X_multiple_test_ip.shape)"
   ]
  },
  {
   "cell_type": "code",
   "execution_count": 35,
   "metadata": {},
   "outputs": [
    {
     "name": "stdout",
     "output_type": "stream",
     "text": [
      "1998/1998 [==============================] - 0s 88us/step\n",
      "[[59.94709 ]\n",
      " [58.933353]\n",
      " [58.55521 ]\n",
      " ...\n",
      " [54.908497]\n",
      " [59.952873]\n",
      " [63.634624]]\n"
     ]
    }
   ],
   "source": [
    "# demonstrate prediction\n",
    "# x_input = array([[80, 85], [90, 95], [100, 105]])\n",
    "x_input = X_multiple_test_ip.reshape((X_multiple_test_ip.shape[0], n_steps, n_features))\n",
    "yhat = model.predict(x_input, verbose=1)\n",
    "print(yhat)"
   ]
  },
  {
   "cell_type": "code",
   "execution_count": 36,
   "metadata": {},
   "outputs": [
    {
     "name": "stdout",
     "output_type": "stream",
     "text": [
      "[58.95471276 57.32093474 57.48758521 ... 42.343193   42.48031501\n",
      " 42.30518655]\n"
     ]
    }
   ],
   "source": [
    "print(y_multiple_test_op)"
   ]
  },
  {
   "cell_type": "code",
   "execution_count": 45,
   "metadata": {},
   "outputs": [
    {
     "data": {
      "image/png": "[encoded data removed]",
      "text/plain": [
       "<Figure size 432x288 with 1 Axes>"
      ]
     },
     "metadata": {
      "needs_background": "light"
     },
     "output_type": "display_data"
    }
   ],
   "source": [
    "plt.plot(yhat[0:10],color='green')\n",
    "plt.plot(y_multiple_test_op[0:10],color='red')\n",
    "# plt.plot(y,color='red')\n",
    "plt.xticks( rotation=25)\n",
    "plt.show()"
   ]
  },
  {
   "cell_type": "code",
   "execution_count": 42,
   "metadata": {},
   "outputs": [
    {
     "name": "stdout",
     "output_type": "stream",
     "text": [
      "(1998, 1)\n",
      "(1998,)\n"
     ]
    }
   ],
   "source": [
    "print(yhat.shape)\n",
    "print(y_multiple_test_op.shape)"
   ]
  },
  {
   "cell_type": "code",
   "execution_count": null,
   "metadata": {},
   "outputs": [],
   "source": []
  },
  {
   "cell_type": "code",
   "execution_count": null,
   "metadata": {},
   "outputs": [],
   "source": []
  }
 ],
 "metadata": {
  "kernelspec": {
   "display_name": "Python 3",
   "language": "python",
   "name": "python3"
  },
  "language_info": {
   "codemirror_mode": {
    "name": "ipython",
    "version": 3
   },
   "file_extension": ".py",
   "mimetype": "text/x-python",
   "name": "python",
   "nbconvert_exporter": "python",
   "pygments_lexer": "ipython3",
   "version": "3.6.6"
  }
 },
 "nbformat": 4,
 "nbformat_minor": 2
}
